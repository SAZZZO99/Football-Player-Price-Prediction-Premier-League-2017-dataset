{
  "nbformat": 4,
  "nbformat_minor": 0,
  "metadata": {
    "colab": {
      "name": "ML ASSIGNMENT.ipynb",
      "provenance": []
    },
    "kernelspec": {
      "name": "python3",
      "display_name": "Python 3"
    }
  },
  "cells": [
    {
      "cell_type": "code",
      "metadata": {
        "id": "Os1PrRNpzd7z"
      },
      "source": [
        "import numpy as np\n",
        "import pandas as pd\n",
        "import matplotlib.pyplot as plt\n",
        "import seaborn as sns\n",
        "%matplotlib inline"
      ],
      "execution_count": 1,
      "outputs": []
    },
    {
      "cell_type": "code",
      "metadata": {
        "id": "hLGdNh6iz7Rp"
      },
      "source": [
        "from google.colab import files"
      ],
      "execution_count": 2,
      "outputs": []
    },
    {
      "cell_type": "code",
      "metadata": {
        "id": "aMRLNF3dz7UV",
        "outputId": "37eb9073-9ef2-47a9-c002-02effaa04601",
        "colab": {
          "resources": {
            "http://localhost:8080/nbextensions/google.colab/files.js": {
              "data": "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",
              "ok": true,
              "headers": [
                [
                  "content-type",
                  "application/javascript"
                ]
              ],
              "status": 200,
              "status_text": ""
            }
          },
          "base_uri": "https://localhost:8080/",
          "height": 72
        }
      },
      "source": [
        "uploaded = files.upload()"
      ],
      "execution_count": 3,
      "outputs": [
        {
          "output_type": "display_data",
          "data": {
            "text/html": [
              "\n",
              "     <input type=\"file\" id=\"files-59f2af53-d9fa-4bc8-9f87-0d39d5d355f2\" name=\"files[]\" multiple disabled\n",
              "        style=\"border:none\" />\n",
              "     <output id=\"result-59f2af53-d9fa-4bc8-9f87-0d39d5d355f2\">\n",
              "      Upload widget is only available when the cell has been executed in the\n",
              "      current browser session. Please rerun this cell to enable.\n",
              "      </output>\n",
              "      <script src=\"/nbextensions/google.colab/files.js\"></script> "
            ],
            "text/plain": [
              "<IPython.core.display.HTML object>"
            ]
          },
          "metadata": {
            "tags": []
          }
        },
        {
          "output_type": "stream",
          "text": [
            "Saving football_CLEAN.csv to football_CLEAN.csv\n"
          ],
          "name": "stdout"
        }
      ]
    },
    {
      "cell_type": "code",
      "metadata": {
        "id": "LVV2unvJz7Xf",
        "outputId": "f076b1b0-b220-4671-9551-4a47a533c317",
        "colab": {
          "base_uri": "https://localhost:8080/"
        }
      },
      "source": [
        "for fn in uploaded.keys():\n",
        "  print('User uploaded file \"{name}\" with length {length} bytes'.format(\n",
        "      name=fn, length=len(uploaded[fn])))"
      ],
      "execution_count": 4,
      "outputs": [
        {
          "output_type": "stream",
          "text": [
            "User uploaded file \"football_CLEAN.csv\" with length 34648 bytes\n"
          ],
          "name": "stdout"
        }
      ]
    },
    {
      "cell_type": "code",
      "metadata": {
        "id": "rD4Xfcq3z7aJ",
        "outputId": "d0df188b-3580-46d4-f7a7-4c67e1d0ff62",
        "colab": {
          "base_uri": "https://localhost:8080/"
        }
      },
      "source": [
        "uploaded"
      ],
      "execution_count": 5,
      "outputs": [
        {
          "output_type": "execute_result",
          "data": {
            "text/plain": [
              "{'football_CLEAN.csv': b\"name,club,age,position,position_cat,market_value,page_views,fpl_value,fpl_sel,fpl_points,region,nationality,new_foreign,age_cat,club_id,big_club,new_signing\\r\\nAlexis Sanchez,Arsenal,28,LW,1,65,4329,12,17.10%,264,3,Chile,0,4,1,1,0\\r\\nMesut Ozil,Arsenal,28,AM,1,50,4395,9.5,5.60%,167,2,Germany,0,4,1,1,0\\r\\nPetr Cech,Arsenal,35,GK,4,7,1529,5.5,5.90%,134,2,Czech Republic,0,6,1,1,0\\r\\nTheo Walcott,Arsenal,28,RW,1,20,2393,7.5,1.50%,122,1,England,0,4,1,1,0\\r\\nLaurent Koscielny,Arsenal,31,CB,3,22,912,6,0.70%,121,2,France,0,4,1,1,0\\r\\nHector Bellerin,Arsenal,22,RB,3,30,1675,6,13.70%,119,2,Spain,0,2,1,1,0\\r\\nOlivier Giroud,Arsenal,30,CF,1,22,2230,8.5,2.50%,116,2,France,0,4,1,1,0\\r\\nNacho Monreal,Arsenal,31,LB,3,13,555,5.5,4.70%,115,2,Spain,0,4,1,1,0\\r\\nShkodran Mustafi,Arsenal,25,CB,3,30,1877,5.5,4.00%,90,2,Germany,0,3,1,1,1\\r\\nAlex Iwobi,Arsenal,21,LW,1,10,1812,5.5,1.00%,89,4,Nigeria,0,1,1,1,0\\r\\nGranit Xhaka,Arsenal,24,DM,2,35,1815,5.5,2.00%,85,2,Switzerland,0,2,1,1,0\\r\\nAlex Oxlade-Chamberlain,Arsenal,23,RM,2,22,1519,6,1.80%,83,1,England,0,2,1,1,0\\r\\nJack Wilshere,Arsenal,25,CM,2,18,1759,5.5,0.00%,61,1,England,0,3,1,1,0\\r\\nAaron Ramsey,Arsenal,26,CM,2,35,1040,7,5.10%,56,1,Wales,0,3,1,1,0\\r\\nFrancis Coquelin,Arsenal,26,DM,2,15,549,4.5,1.70%,52,2,France,0,3,1,1,0\\r\\nGabriel Paulista,Arsenal,26,CB,3,13,552,5,0.10%,45,3,Brazil,0,3,1,1,0\\r\\nKieran Gibbs,Arsenal,27,LB,3,10,489,5,0.50%,45,1,England,0,3,1,1,0\\r\\nSanti Cazorla,Arsenal,32,CM,2,12,943,7,0.10%,38,2,Spain,0,5,1,1,0\\r\\nDanny Welbeck,Arsenal,26,CF,1,15,1521,7.5,0.50%,37,1,England,0,3,1,1,0\\r\\nRob Holding,Arsenal,21,CB,3,7,666,5,1.70%,32,1,England,0,1,1,1,1\\r\\nMohamed Elneny,Arsenal,25,DM,2,10,683,4.5,0.80%,26,4,Egypt,0,3,1,1,0\\r\\nLucas Perez,Arsenal,28,CF,1,15,2055,7.5,0.10%,20,2,Spain,0,4,1,1,1\\r\\nEmiliano Martinez,Arsenal,24,GK,4,1,372,4,4.20%,8,3,Argentina,0,2,1,1,0\\r\\nDavid Ospina,Arsenal,28,GK,4,7,544,5,0.20%,2,3,Colombia,0,4,1,1,0\\r\\nCarl Jenkinson,Arsenal,25,RB,3,5,561,4.5,0.40%,2,1,England,0,3,1,1,0\\r\\nPer Mertesacker,Arsenal,32,CB,3,6,702,5,1.00%,1,2,Germany,0,5,1,1,0\\r\\nSead Kolasinac,Arsenal,24,LB,3,15,618,6,6.90%,0,2,Bosnia,1,2,1,1,0\\r\\nAlexandre Lacazette,Arsenal,26,CF,1,40,1183,10.5,26.50%,0,2,France,1,3,1,1,0\\r\\nJoshua King,Bournemouth,25,SS,1,8,997,7.5,10.40%,178,2,Norway,0,3,2,0,0\\r\\nJermain Defoe,Bournemouth,34,CF,1,5,3213,8,15.00%,166,1,England,0,6,2,0,0\\r\\nCharlie Daniels,Bournemouth,30,LB,3,3,185,5,19.80%,134,1,England,0,4,2,0,0\\r\\nArtur Boruc,Bournemouth,37,GK,4,1,436,4.5,6.90%,120,2,Poland,0,6,2,0,0\\r\\nSteve Cook,Bournemouth,26,CB,3,5,184,5,2.00%,112,1,England,0,3,2,0,0\\r\\nJunior Stanislas,Bournemouth,27,LW,1,4.5,315,6,0.60%,107,1,England,0,3,2,0,0\\r\\nAdam Smith,Bournemouth,26,RB,3,5,200,5,0.90%,104,1,England,0,3,2,0,0\\r\\nRyan Fraser,Bournemouth,23,LW,1,5,516,5.5,1.60%,100,2,Scotland,0,2,2,0,0\\r\\nSimon Francis,Bournemouth,32,RB,3,2.5,167,4.5,4.00%,89,1,England,0,5,2,0,0\\r\\nBenik Afobe,Bournemouth,24,CF,1,10,528,6,0.70%,88,4,Congo DR,0,2,2,0,0\\r\\nHarry Arter,Bournemouth,27,CM,2,2.5,666,5,0.90%,84,2,Ireland,0,3,2,0,0\\r\\nMarc Pugh,Bournemouth,30,LW,1,2,140,5,0.10%,64,1,England,0,4,2,0,0\\r\\nCallum Wilson,Bournemouth,25,CF,1,10,337,6,0.20%,63,1,England,0,3,2,0,0\\r\\nNathan Ake,Bournemouth,22,CB,3,8,1274,5,11.50%,55,2,Netherlands,0,2,2,0,0\\r\\nDan Gosling,Bournemouth,27,CM,2,3,184,5,0.10%,49,1,England,0,3,2,0,0\\r\\nAndrew Surman,Bournemouth,30,CM,2,2,154,4.5,1.10%,44,1,England,0,4,2,0,0\\r\\nJordon Ibe,Bournemouth,21,RW,1,8,504,5,0.40%,36,1,England,0,1,2,0,0\\r\\nLewis Cook,Bournemouth,20,CM,2,6,243,4.5,0.80%,17,1,England,0,1,2,0,0\\r\\nLys Mousset,Bournemouth,21,CF,1,4,131,5,0.10%,14,2,France,0,1,2,0,0\\r\\nAdam Federici,Bournemouth,32,GK,4,1,126,4,1.50%,8,4,Australia,0,5,2,0,0\\r\\nMax Gradel,Bournemouth,29,LW,1,7,287,5,0.10%,8,4,Cote d'Ivoire,0,4,2,0,0\\r\\nTyrone Mings,Bournemouth,24,CB,3,5,422,4.5,0.40%,4,1,England,0,2,2,0,0\\r\\nBrad Smith,Bournemouth,23,LB,3,2,297,4,3.30%,4,4,Australia,0,2,2,0,0\\r\\nAsmir Begovic,Bournemouth,30,GK,4,8,697,4.5,9.30%,2,2,Bosnia,0,4,2,0,0\\r\\nNiki Maenpaa,Brighton+and+Hove,32,GK,4,0.25,103,4,2.10%,0,2,Finland,0,5,3,0,0\\r\\nMathew Ryan,Brighton+and+Hove,25,GK,4,3.5,344,4.5,1.50%,0,4,Australia,0,3,3,0,0\\r\\nLewis Dunk,Brighton+and+Hove,25,CB,3,5,140,4.5,4.10%,0,1,England,0,3,3,0,0\\r\\nShane Duffy,Brighton+and+Hove,25,CB,3,5,243,4.5,0.60%,0,2,Ireland,0,3,3,0,0\\r\\nUwe Hunemeier,Brighton+and+Hove,31,CB,3,1.5,88,4,8.00%,0,2,Germany,0,4,3,0,0\\r\\nBruno,Brighton+and+Hove,36,RB,1,0.5,215,4.5,0.40%,0,3,Argentina,0,6,3,0,0\\r\\nGaetan Bong,Brighton+and+Hove,29,LB,3,1.5,97,4.5,0.20%,0,4,Cameroon,0,4,3,0,0\\r\\nLiam Rosenior,Brighton+and+Hove,33,RB,3,1,132,4,3.20%,0,1,England,0,5,3,0,0\\r\\nConnor Goldson,Brighton+and+Hove,24,CB,3,0.75,52,4,0.80%,0,1,England,0,2,3,0,0\\r\\nMarkus Suttner,Brighton+and+Hove,30,LB,3,2,23,4.5,0.20%,0,2,Austria,0,4,3,0,0\\r\\nAnthony Knockaert,Brighton+and+Hove,25,RW,1,8,726,6,4.80%,0,2,France,0,3,3,0,0\\r\\nDale Stephens,Brighton+and+Hove,27,CM,2,5,122,4.5,0.90%,0,1,England,0,3,3,0,0\\r\\nBeram Kayal,Brighton+and+Hove,29,CM,2,1.25,167,4.5,0.30%,0,4,Israel,0,4,3,0,0\\r\\nSteve Sidwell,Brighton+and+Hove,34,CM,2,1,461,4.5,0.60%,0,1,England,0,6,3,0,0\\r\\nSolly March,Brighton+and+Hove,23,RM,2,0.5,139,5,0.20%,0,1,England,0,2,3,0,0\\r\\nJiri Skalak,Brighton+and+Hove,25,LW,1,1.5,87,5,0.10%,0,2,Czech Republic,0,3,3,0,0\\r\\nOliver Norwood,Brighton+and+Hove,26,CM,2,2.5,134,4.5,0.20%,0,2,Northern Ireland,0,3,3,0,0\\r\\nJamie Murphy,Brighton+and+Hove,27,LW,1,1.75,114,5,0.10%,0,2,Scotland,0,3,3,0,0\\r\\nPascal Gross,Brighton+and+Hove,26,CM,2,4,22,5.5,0.30%,0,2,Germany,0,3,3,0,0\\r\\nGlenn Murray,Brighton+and+Hove,33,CF,1,3.5,496,6,1.30%,0,1,England,0,5,3,0,0\\r\\nTomer Hemed,Brighton+and+Hove,30,CF,1,2.5,253,5,0.40%,0,4,Israel,0,4,3,0,0\\r\\nSam Baldock,Brighton+and+Hove,28,CF,1,3,204,5,0.20%,0,1,England,0,4,3,0,0\\r\\nTom Heaton,Burnley,31,GK,4,4,717,5,13.50%,149,1,England,0,4,4,0,0\\r\\nSam Vokes,Burnley,27,CF,1,4.5,290,6,2.90%,121,2,Wales,0,3,4,0,0\\r\\nAndre Gray,Burnley,26,CF,1,10,687,6.5,1.70%,108,1,England,0,3,4,0,0\\r\\nBen Mee,Burnley,27,CB,3,6,166,4.5,13.70%,94,1,England,0,3,4,0,0\\r\\nStephen Ward,Burnley,31,LB,3,1.5,152,4.5,2.50%,91,2,Ireland,0,4,4,0,0\\r\\nMatthew Lowton,Burnley,28,RB,3,2.5,121,4.5,1.20%,90,1,England,0,4,4,0,0\\r\\nAshley Barnes,Burnley,27,CF,1,2.5,287,5.5,1.20%,81,1,England,0,3,4,0,0\\r\\nJeff Hendrick,Burnley,25,CM,2,6,352,5.5,0.20%,76,2,Ireland,0,3,4,0,1\\r\\nScott Arfield,Burnley,28,LM,2,3,304,5,0.10%,69,3,Canada,0,4,4,0,0\\r\\nSteven Defour,Burnley,29,CM,2,6,336,5.5,0.20%,54,2,Belgium,0,4,4,0,1\\r\\nDean Marney,Burnley,33,CM,2,1,171,4.5,0.00%,51,1,England,0,5,4,0,0\\r\\nJack Cork,Burnley,28,DM,2,5,204,4.5,0.50%,50,1,England,0,4,4,0,0\\r\\nJohann Berg Gudmundsson,Burnley,26,RW,1,2.5,180,5,0.10%,47,2,Iceland,0,3,4,0,1\\r\\nRobbie Brady,Burnley,25,LM,2,10,614,5.5,0.40%,39,2,Ireland,0,3,4,0,0\\r\\nJames Tarkowski,Burnley,24,CB,3,2,116,4.5,0.10%,23,1,England,0,2,4,0,0\\r\\nAshley Westwood,Burnley,27,DM,2,4,161,4.5,0.10%,13,1,England,0,3,4,0,0\\r\\nKevin Long,Burnley,26,CB,3,0.5,68,4,1.70%,3,2,Ireland,0,3,4,0,0\\r\\nMatthew Taylor,Burnley,35,LM,2,0.25,255,4.5,0.40%,0,1,England,0,6,4,0,0\\r\\nEden Hazard,Chelsea,26,LW,1,75,4220,10.5,2.30%,224,2,Belgium,0,3,5,1,0\\r\\nDiego Costa,Chelsea,28,CF,1,50,4454,10,3.00%,196,2,Spain,0,4,5,1,0\\r\\nGary Cahill,Chelsea,31,CB,3,16,1420,6.5,12.00%,178,1,England,0,4,5,1,0\\r\\nMarcos Alonso Mendoza,Chelsea,26,LB,3,25,3069,7,12.40%,177,2,Spain,0,3,5,1,1\\r\\nCesar Azpilicueta,Chelsea,27,RB,3,30,869,6.5,12.30%,170,2,Spain,0,3,5,1,0\\r\\nPedro,Chelsea,29,RW,1,28,1500,8,7.80%,162,2,Spain,0,4,5,1,0\\r\\nThibaut Courtois,Chelsea,25,GK,4,40,1260,5.5,18.50%,141,2,Belgium,0,3,5,1,0\\r\\nDavid Luiz,Chelsea,30,CB,3,30,2745,6,20.30%,132,3,Brazil,0,4,5,1,0\\r\\nCesc Fabregas,Chelsea,30,CM,2,35,2378,7,7.50%,121,2,Spain,0,4,5,1,0\\r\\nWillian,Chelsea,28,RW,1,32,1165,7,9.00%,114,3,Brazil,0,4,5,1,0\\r\\nVictor Moses,Chelsea,26,RM,2,18,2537,6.5,0.20%,105,4,Nigeria,0,3,5,1,0\\r\\nNemanja Matic,Chelsea,28,DM,2,35,892,5,5.00%,105,2,Serbia,0,4,5,1,0\\r\\nN%27Golo Kante,Chelsea,26,DM,2,50,4042,5,13.80%,83,2,France,0,3,5,1,1\\r\\nWilly Caballero,Chelsea,35,GK,4,1.5,542,5,0.20%,64,3,Argentina,0,6,5,1,0\\r\\nMichy Batshuayi,Chelsea,23,CF,1,25,1162,8.5,1.60%,48,2,Belgium,0,2,5,1,1\\r\\nKurt Zouma,Chelsea,22,CB,3,15,723,5.5,0.80%,15,2,France,0,2,5,1,0\\r\\nKenedy,Chelsea,21,LB,3,7,566,5,0.10%,3,3,Brazil,0,1,5,1,0\\r\\nEduardo Carvalho,Chelsea,34,LW,1,0.05,467,5,0.10%,0,2,Portugal,0,6,5,1,1\\r\\nAntonio Rudiger,Chelsea,24,CB,3,25,454,6,6.40%,0,2,Germany,1,2,5,1,0\\r\\nTiemoue Bakayoko,Chelsea,22,DM,2,16,1011,5,1.60%,0,2,France,1,2,5,1,0\\r\\nWilfried Zaha,Crystal+Palace,24,RW,1,18,1709,7,20.90%,149,4,Cote d'Ivoire,0,2,6,0,0\\r\\nChristian Benteke,Crystal+Palace,26,CF,1,28,1661,8,10.50%,136,2,Belgium,0,3,6,0,1\\r\\nAndros Townsend,Crystal+Palace,26,RW,1,12,693,6,2.70%,116,1,England,0,3,6,0,1\\r\\nPatrick van Aanholt,Crystal+Palace,26,LB,3,9,524,5.5,4.20%,98,2,Netherlands,0,3,6,0,0\\r\\nJames McArthur,Crystal+Palace,29,CM,2,7,216,4.5,10.90%,93,2,Scotland,0,4,6,0,0\\r\\nWayne Hennessey,Crystal+Palace,30,GK,4,4,242,4.5,2.10%,92,2,Wales,0,4,6,0,0\\r\\nJason Puncheon,Crystal+Palace,31,AM,1,5.5,427,5,1.20%,92,1,England,0,4,6,0,0\\r\\nYohan Cabaye,Crystal+Palace,31,CM,2,15,456,5.5,1.40%,91,2,France,0,4,6,0,0\\r\\nJoel Ward,Crystal+Palace,27,RB,3,5,154,5,0.60%,86,1,England,0,3,6,0,0\\r\\nJames Tomkins,Crystal+Palace,28,CB,3,7,208,4.5,2.00%,75,1,England,0,4,6,0,1\\r\\nScott Dann,Crystal+Palace,30,CB,3,5,217,5,1.10%,61,1,England,0,4,6,0,0\\r\\nDamien Delaney,Crystal+Palace,36,CB,3,1,195,4.5,0.60%,51,2,Ireland,0,6,6,0,0\\r\\nJeffrey Schlupp,Crystal+Palace,24,LB,3,8,385,5,0.30%,47,4,Ghana,0,2,6,0,0\\r\\nMartin Kelly,Crystal+Palace,27,RB,3,3,210,4.5,0.30%,46,1,England,0,3,6,0,0\\r\\nLuka Milivojevic,Crystal+Palace,26,DM,2,10,407,5,0.20%,42,2,Serbia,0,3,6,0,0\\r\\nLee Chung-yong,Crystal+Palace,29,RW,1,1.5,327,4.5,0.10%,24,4,South Korea,0,4,6,0,0\\r\\nConnor Wickham,Crystal+Palace,24,CF,1,6,248,5.5,0.00%,18,1,England,0,2,6,0,0\\r\\nBakary Sako,Crystal+Palace,29,LW,1,6,226,5,0.10%,7,4,Mali,0,4,6,0,0\\r\\nPape Souare,Crystal+Palace,27,LB,3,6,186,4.5,0.00%,6,4,Senegal,0,3,6,0,0\\r\\nRuben Loftus-Cheek,Crystal+Palace,21,CM,2,5,685,4.5,16.40%,6,1,England,0,1,6,0,0\\r\\nJulian Speroni,Crystal+Palace,38,GK,4,0.25,188,4,2.00%,0,3,Argentina,0,6,6,0,0\\r\\nRoss Barkley,Everton,23,AM,1,25,1413,7.5,0.70%,144,1,England,0,2,7,0,0\\r\\nLeighton Baines,Everton,32,LB,3,12,491,6,10.00%,135,1,England,0,5,7,0,0\\r\\nSeamus Coleman,Everton,28,RB,3,17,843,6.5,0.40%,133,2,Ireland,0,4,7,0,0\\r\\nAshley Williams,Everton,32,CB,3,8,599,5.5,4.70%,127,2,Wales,0,5,7,0,1\\r\\nKevin Mirallas,Everton,29,RW,1,13,417,6.5,3.20%,119,2,Belgium,0,4,7,0,0\\r\\nMichael Keane,Everton,24,CB,3,18,1362,5.5,13.10%,113,1,England,0,2,7,0,0\\r\\nPhil Jagielka,Everton,34,CB,3,2,566,5,6.30%,104,1,England,0,6,7,0,0\\r\\nJordan Pickford,Everton,23,GK,4,15,719,5,14.60%,102,1,England,0,2,7,0,0\\r\\nJoel Robles,Everton,27,GK,4,5,304,4.5,0.40%,89,2,Spain,0,3,7,0,0\\r\\nIdrissa Gueye,Everton,27,CM,2,18,705,5,1.30%,80,4,Senegal,0,3,7,0,1\\r\\nWayne Rooney,Everton,31,SS,1,15,7664,7.5,20.90%,76,1,England,0,4,7,0,0\\r\\nRamiro Funes Mori,Everton,26,CB,3,12,460,5,0.10%,69,3,Argentina,0,3,7,0,0\\r\\nMaarten Stekelenburg,Everton,34,GK,4,2,623,4.5,0.30%,68,2,Netherlands,0,6,7,0,1\\r\\nGareth Barry,Everton,36,DM,2,1.5,1331,4.5,1.70%,68,1,England,0,6,7,0,0\\r\\nTom Davies,Everton,19,CM,2,8,1354,5.5,1.00%,63,1,England,0,1,7,0,0\\r\\nMason Holgate,Everton,20,CB,3,5,344,4.5,2.90%,54,1,England,0,1,7,0,0\\r\\nYannick Bolasie,Everton,28,LW,1,20,896,6.5,0.20%,45,4,Congo DR,0,4,7,0,1\\r\\nMorgan Schneiderlin,Everton,27,DM,2,22,1272,5,0.90%,37,2,France,0,3,7,0,1\\r\\nCuco Martina,Everton,27,RB,3,2,232,4.5,0.40%,31,2,Curacao,0,3,7,0,0\\r\\nJames McCarthy,Everton,26,CM,2,15,306,5,0.10%,23,2,Ireland,0,3,7,0,0\\r\\nAaron Lennon,Everton,30,RW,1,5,504,5.5,0.20%,22,1,England,0,4,7,0,0\\r\\nDominic Calvert-Lewin,Everton,20,SS,1,3.5,343,5,0.30%,17,1,England,0,1,7,0,1\\r\\nAdemola Lookman,Everton,19,LW,1,5,1387,5.5,0.30%,16,1,England,0,1,7,0,0\\r\\nMatthew Pennington,Everton,22,CB,3,0.5,219,4,1.70%,9,1,England,0,2,7,0,0\\r\\nJonjoe Kenny,Everton,20,RB,3,0.25,53,4.5,0.20%,1,1,England,0,1,7,0,0\\r\\nMuhamed Besic,Everton,24,DM,2,5,238,4.5,0.20%,0,2,Germany,0,2,7,0,0\\r\\nDavy Klaassen,Everton,24,AM,1,18,428,7.5,3.60%,0,2,Netherlands,1,2,7,0,0\\r\\nSandro Ramirez,Everton,22,CF,1,10,373,7.5,2.10%,0,2,Spain,1,2,7,0,0\\r\\nJoel Coleman,Huddersfield,21,GK,4,0.25,36,4,2.40%,0,1,England,0,1,8,0,0\\r\\nJonas Lossl,Huddersfield,28,GK,4,1.5,56,4.5,0.50%,0,2,Denmark,0,4,8,0,0\\r\\nChristopher Schindler,Huddersfield,27,CB,3,2,73,4.5,0.90%,0,2,Germany,0,3,8,0,0\\r\\nChris Lowe,Huddersfield,28,LB,3,1.5,84,4.5,0.70%,0,2,Germany,0,4,8,0,0\\r\\nTommy Smith,Huddersfield,25,RB,3,2,65,5,1.10%,0,1,England,0,3,8,0,0\\r\\nMichael Hefele,Huddersfield,26,CB,3,1.5,116,4.5,0.20%,0,2,Germany,0,3,8,0,0\\r\\nMartin Cranie,Huddersfield,30,CB,3,0.5,67,4,1.40%,0,1,England,0,4,8,0,0\\r\\nJon Gorenc Stankovic,Huddersfield,21,CB,3,0.5,83,4,1.10%,0,2,Slovenia,0,1,8,0,0\\r\\nMark Hudson,Huddersfield,35,CB,3,0.5,70,4,1.40%,0,1,England,0,6,8,0,0\\r\\nMathias Jorgensen,Huddersfield,27,CB,3,2.5,107,4.5,0.20%,0,2,Denmark,0,3,8,0,0\\r\\nScott Malone,Huddersfield,26,LB,3,0.75,81,4.5,0.10%,0,1,England,0,3,8,0,0\\r\\nAaron Mooy,Huddersfield,26,CM,2,5,588,5.5,2.50%,0,4,Australia,0,3,8,0,0\\r\\nRajiv van La Parra,Huddersfield,26,LW,1,2,174,5,0.30%,0,2,Netherlands,0,3,8,0,0\\r\\nJonathan Hogg,Huddersfield,28,CM,2,1,75,4.5,0.30%,0,1,England,0,4,8,0,0\\r\\nPhilip Billing,Huddersfield,21,CM,2,0.5,157,4.5,0.10%,0,2,Denmark,0,1,8,0,0\\r\\nJoe Lolley,Huddersfield,24,RW,1,0.25,63,4.5,0.10%,0,1,England,0,2,8,0,0\\r\\nJack Payne,Huddersfield,25,CM,2,0.25,81,4.5,0.10%,0,1,England,0,3,8,0,0\\r\\nDean Whitehead,Huddersfield,35,CM,2,0.25,161,4.5,0.10%,0,1,England,0,6,8,0,0\\r\\nHarry Bunn,Huddersfield,24,LW,1,0.5,85,4.5,0.10%,0,1,England,0,2,8,0,0\\r\\nSean Scannell,Huddersfield,26,RW,1,0.5,85,4.5,0.10%,0,2,Ireland,0,3,8,0,0\\r\\nElias Kachunga,Huddersfield,25,RW,1,3.5,231,6,0.60%,0,4,Congo DR,0,3,8,0,0\\r\\nTom Ince,Huddersfield,25,RW,1,7,512,6,2.60%,0,1,England,0,3,8,0,0\\r\\nKasey Palmer,Huddersfield,20,AM,1,0.75,220,5.5,0.20%,0,1,England,0,1,8,0,0\\r\\nAndy Williams,Huddersfield,26,CB,3,0.65,3,5,0.10%,0,3,Trinidad and Tobago,0,3,8,0,0\\r\\nNahki Wells,Huddersfield,27,CF,1,5,247,5,0.60%,0,3,Bermuda,0,3,8,0,0\\r\\nCollin Quaner,Huddersfield,26,CF,1,1,126,4.5,1.60%,0,2,Germany,0,3,8,0,0\\r\\nLaurent Depoitre,Huddersfield,28,CF,1,3,212,5.5,0.30%,0,2,Belgium,0,4,8,0,0\\r\\nSteve Mounie,Huddersfield,22,CF,1,5.5,56,6,0.60%,0,4,Benin,0,2,8,0,0\\r\\nJamie Vardy,Leicester+City,30,CF,1,15,2988,8.5,1.50%,161,1,England,0,4,9,0,0\\r\\nRiyad Mahrez,Leicester+City,26,RW,1,30,1753,8.5,1.70%,120,4,Algeria,0,3,9,0,0\\r\\nKasper Schmeichel,Leicester+City,30,GK,4,10,1601,5,2.40%,109,2,Denmark,0,4,9,0,0\\r\\nChristian Fuchs,Leicester+City,31,LB,3,6,417,5,3.50%,104,2,Austria,0,4,9,0,0\\r\\nMarc Albrighton,Leicester+City,27,LM,2,6,347,5.5,1.10%,95,1,England,0,3,9,0,0\\r\\nRobert Huth,Leicester+City,32,CB,3,5,748,5,0.60%,88,2,Germany,0,5,9,0,0\\r\\nDanny Simpson,Leicester+City,30,RB,3,5,428,4.5,5.50%,85,1,England,0,4,9,0,0\\r\\nIslam Slimani,Leicester+City,29,CF,1,25,1581,7,0.70%,83,4,Algeria,0,4,9,0,1\\r\\nHarry Maguire,Leicester+City,24,CB,3,8,488,5,1.50%,71,1,England,0,2,9,0,0\\r\\nDanny Drinkwater,Leicester+City,27,CM,2,9,714,5,0.20%,69,1,England,0,3,9,0,0\\r\\nWes Morgan,Leicester+City,33,CB,3,3,649,4.5,3.30%,63,3,Jamaica,0,5,9,0,0\\r\\nShinji Okazaki,Leicester+City,31,CF,1,7,607,5.5,1.20%,63,4,Japan,0,4,9,0,0\\r\\nWilfred Ndidi,Leicester+City,20,DM,2,14,821,5,0.50%,59,4,Nigeria,0,1,9,0,1\\r\\nDemarai Gray,Leicester+City,21,LW,1,9,593,5.5,1.10%,58,1,England,0,1,9,0,0\\r\\nDaniel Amartey,Leicester+City,22,DM,2,5,356,4.5,0.30%,53,4,Ghana,0,2,9,0,0\\r\\nAndy King,Leicester+City,28,CM,2,3,327,4.5,0.70%,41,2,Wales,0,4,9,0,0\\r\\nAhmed Musa,Leicester+City,24,CF,1,17,742,6.5,1.50%,39,4,Nigeria,0,2,9,0,1\\r\\nYohan Benalouane,Leicester+City,30,CB,3,1,305,4.5,0.10%,27,4,Tunisia,0,4,9,0,0\\r\\nLeonardo Ulloa,Leicester+City,30,CF,1,6,472,5,0.20%,24,2,Argentina,0,4,9,0,0\\r\\nBen Chilwell,Leicester+City,20,LB,3,2.5,288,4.5,0.80%,19,1,England,0,1,9,0,0\\r\\nNampalys Mendy,Leicester+City,25,DM,2,10,325,4.5,0.10%,6,2,France,0,3,9,0,1\\r\\nBen Hamer,Leicester+City,29,GK,4,0.5,132,4.5,0.10%,0,1,England,0,4,9,0,0\\r\\nMolla Wague,Leicester+City,26,CB,3,1.5,171,4.5,0.00%,0,4,Mali,0,3,9,0,0\\r\\nVicente Iborra,Leicester+City,29,DM,2,9,253,6,0.80%,0,2,Spain,1,4,9,0,0\\r\\nRoberto Firmino,Liverpool,25,SS,1,38,2196,8.5,20.30%,180,3,Brazil,0,3,10,1,0\\r\\nPhilippe Coutinho,Liverpool,25,AM,1,45,2958,9,30.80%,171,3,Brazil,0,3,10,1,0\\r\\nSadio Mane,Liverpool,25,LW,1,40,3219,9.5,5.30%,156,4,Senegal,0,3,10,1,1\\r\\nGeorginio Wijnaldum,Liverpool,26,CM,2,28,1280,7,7.10%,149,2,Netherlands,0,3,10,1,1\\r\\nJames Milner,Liverpool,31,CM,2,12,1824,6.5,10.40%,139,1,England,0,4,10,1,0\\r\\nAdam Lallana,Liverpool,29,AM,1,25,1808,7.5,6.40%,139,1,England,0,4,10,1,0\\r\\nNathaniel Clyne,Liverpool,26,RB,3,21,602,5.5,4.50%,129,1,England,0,3,10,1,0\\r\\nSimon Mignolet,Liverpool,29,GK,4,12,721,5,1.60%,110,2,Belgium,0,4,10,1,0\\r\\nDejan Lovren,Liverpool,28,CB,3,17,708,5.5,1.30%,106,2,Croatia,0,4,10,1,0\\r\\nEmre Can,Liverpool,23,DM,2,15,1253,5,6.60%,104,2,Germany,0,2,10,1,0\\r\\nJoel Matip,Liverpool,25,CB,3,25,1313,5.5,2.30%,97,2,Cameroon,0,3,10,1,1\\r\\nDivock Origi,Liverpool,22,CF,1,12,1092,7.5,0.40%,96,2,Belgium,0,2,10,1,0\\r\\nJordan Henderson,Liverpool,27,CM,2,28,1236,5.5,1.80%,73,1,England,0,3,10,1,0\\r\\nDaniel Sturridge,Liverpool,27,CF,1,20,2042,8,4.30%,54,1,England,0,3,10,1,0\\r\\nLucas Leiva,Liverpool,30,DM,2,7,998,4.5,0.30%,47,3,Brazil,0,4,10,1,0\\r\\nRagnar Klavan,Liverpool,31,CB,3,3.5,875,4.5,0.40%,43,2,Estonia,0,4,10,1,1\\r\\nMamadou Sakho,Liverpool,27,CB,3,15,934,5,0.10%,35,2,France,0,3,10,1,0\\r\\nLoris Karius,Liverpool,24,GK,4,8,1255,5,0.20%,32,2,Germany,0,2,10,1,0\\r\\nTrent Alexander-Arnold,Liverpool,18,RB,3,1.5,327,4.5,0.30%,15,2,England,0,1,10,1,0\\r\\nAlberto Moreno,Liverpool,25,LB,3,10,397,4.5,0.30%,8,2,Spain,0,3,10,1,0\\r\\nBen Woodburn,Liverpool,17,LW,1,1.5,1241,4.5,0.10%,5,1,Wales,0,1,10,1,0\\r\\nMarko Grujic,Liverpool,21,CM,2,5,615,4.5,0.20%,4,2,Serbia,0,1,10,1,0\\r\\nJoe Gomez,Liverpool,20,CB,3,4,460,4.5,0.40%,0,1,England,0,1,10,1,0\\r\\nSheyi Ojo,Liverpool,20,LW,1,2,383,5,0.10%,0,1,England,0,1,10,1,0\\r\\nMohamed Salah,Liverpool,25,RW,1,35,1117,9,12.40%,0,4,Egypt,1,3,10,1,0\\r\\nDanny Ings,Liverpool,24,CF,1,8,748,5.5,0.10%,0,1,England,0,2,10,1,0\\r\\nDominic Solanke,Liverpool,19,CF,1,2,671,5,2.00%,0,1,England,0,1,10,1,0\\r\\nKevin De Bruyne,Manchester+City,26,AM,1,65,2252,10,17.50%,199,2,Belgium,0,3,11,1,0\\r\\nSergio Aguero,Manchester+City,29,CF,1,65,4046,11.5,9.70%,175,3,Argentina,0,4,11,1,0\\r\\nRaheem Sterling,Manchester+City,22,LW,1,45,2074,8,3.80%,149,1,England,0,2,11,1,0\\r\\nKyle Walker,Manchester+City,27,RB,3,30,1008,6.5,18.50%,142,1,England,0,3,11,1,0\\r\\nDavid Silva,Manchester+City,31,AM,1,30,1434,8,3.30%,130,2,Spain,0,4,11,1,0\\r\\nLeroy Sane,Manchester+City,21,LW,1,35,2302,8.5,8.80%,105,2,Germany,0,1,11,1,1\\r\\nNicolas Otamendi,Manchester+City,29,CB,3,30,621,5.5,3.30%,100,3,Argentina,0,4,11,1,0\\r\\nAleksandar Kolarov,Manchester+City,31,LB,3,10,633,5.5,1.10%,95,2,Serbia,0,4,11,1,0\\r\\nYaya Toure,Manchester+City,34,CM,2,8,2318,6.5,2.50%,86,4,Cote d'Ivoire,0,6,11,1,0\\r\\nFernandinho,Manchester+City,32,DM,2,18,595,5,0.80%,78,3,Brazil,0,5,11,1,0\\r\\nClaudio Bravo,Manchester+City,34,GK,4,8,436,5,1.20%,73,3,Chile,0,6,11,1,1\\r\\nGabriel Jesus,Manchester+City,20,CF,1,30,4254,10.5,15.20%,67,3,Brazil,0,1,11,1,1\\r\\nJohn Stones,Manchester+City,23,CB,3,35,1078,5.5,2.30%,59,1,England,0,2,11,1,1\\r\\nVincent Kompany,Manchester+City,31,CB,3,22,935,6,6.60%,57,2,Belgium,0,4,11,1,0\\r\\nKelechi Iheanacho,Manchester+City,20,CF,1,15,1662,7,1.50%,52,4,Nigeria,0,1,11,1,0\\r\\nIlkay Gundogan,Manchester+City,26,CM,2,30,1586,5.5,1.00%,41,2,Germany,0,3,11,1,1\\r\\nFernando,Manchester+City,32,DM,2,18,338,4.5,0.40%,18,3,Brazil,0,5,11,1,0\\r\\nFabian Delph,Manchester+City,27,CM,2,8,520,4.5,0.40%,13,1,England,0,3,11,1,0\\r\\nEderson Moraes,Manchester+City,23,GK,4,22,297,5.5,4.50%,0,3,Brazil,1,2,11,1,0\\r\\nBernardo Silva,Manchester+City,22,RW,1,40,1098,8,4.60%,0,2,Portugal,1,2,11,1,0\\r\\nRomelu Lukaku,Manchester+United,24,CF,1,50,3727,11.5,45.00%,221,2,Belgium,0,2,12,1,0\\r\\nDavid de Gea,Manchester+United,26,GK,4,40,2126,5.5,26.10%,136,2,Spain,0,3,12,1,0\\r\\nAntonio Valencia,Manchester+United,31,RB,3,10,1561,6.5,6.20%,120,3,Ecuador,0,4,12,1,0\\r\\nPaul Pogba,Manchester+United,24,CM,2,75,7435,8,19.50%,115,2,France,0,2,12,1,1\\r\\nEric Bailly,Manchester+United,23,CB,3,30,1588,6,10.20%,105,4,Cote d'Ivoire,0,2,12,1,1\\r\\nJuan Mata,Manchester+United,29,AM,1,30,2280,7,3.50%,102,2,Spain,0,4,12,1,0\\r\\nDaley Blind,Manchester+United,27,LB,3,22,867,5.5,1.20%,98,2,Netherlands,0,3,12,1,0\\r\\nAnder Herrera,Manchester+United,27,CM,2,30,1603,5.5,7.70%,97,2,Spain,0,3,12,1,0\\r\\nAnthony Martial,Manchester+United,21,CF,1,30,2430,8,0.60%,95,2,France,0,1,12,1,0\\r\\nMarcos Rojo,Manchester+United,27,CB,3,18,1063,5.5,0.10%,77,3,Argentina,0,3,12,1,0\\r\\nMarcus Rashford,Manchester+United,19,CF,1,18,3668,7.5,4.80%,76,1,England,0,1,12,1,0\\r\\nHenrikh Mkhitaryan,Manchester+United,28,AM,1,35,3312,8,4.50%,73,4,Armenia,0,4,12,1,1\\r\\nMatteo Darmian,Manchester+United,27,RB,3,12,1640,5.5,0.30%,70,2,Italy,0,3,12,1,0\\r\\nJesse Lingard,Manchester+United,24,LW,1,12,1939,6,0.70%,60,1,England,0,2,12,1,0\\r\\nPhil Jones,Manchester+United,25,CB,3,14,808,5,0.40%,55,1,England,0,3,12,1,0\\r\\nChris Smalling,Manchester+United,27,CB,3,18,834,5.5,1.30%,52,1,England,0,3,12,1,0\\r\\nMarouane Fellaini,Manchester+United,29,CM,2,12,1498,5,0.20%,48,2,Belgium,0,4,12,1,0\\r\\nLuke Shaw,Manchester+United,22,LB,3,20,947,5,0.40%,45,1,England,0,2,12,1,0\\r\\nMichael Carrick,Manchester+United,35,DM,2,1.5,1789,4.5,1.80%,42,1,England,0,6,12,1,0\\r\\nAshley Young,Manchester+United,32,LM,2,5,936,5,0.00%,26,1,England,0,5,12,1,0\\r\\nSergio Romero,Manchester+United,30,GK,4,6,849,5,0.20%,23,3,Argentina,0,4,12,1,0\\r\\nAxel Tuanzebe,Manchester+United,19,CB,3,1,279,4,1.70%,14,1,England,0,1,12,1,0\\r\\nTimothy Fosu-Mensah,Manchester+United,19,DM,2,2.5,860,4.5,0.20%,9,2,Netherlands,0,1,12,1,0\\r\\nJoel Castro Pereira,Manchester+United,21,GK,4,0.1,395,4,1.00%,6,2,Portugal,0,1,12,1,0\\r\\nVictor Lindelof,Manchester+United,23,CB,3,22,950,5.5,17.00%,0,2,Sweden,1,2,12,1,0\\r\\nRob Elliot,Newcastle+United,31,GK,4,1,134,4,13.50%,0,2,Ireland,0,4,13,0,0\\r\\nKarl Darlow,Newcastle+United,26,GK,4,4.5,235,4.5,1.10%,0,1,England,0,3,13,0,0\\r\\nDeAndre Yedlin,Newcastle+United,24,RB,3,5,764,4.5,5.20%,0,3,United States,0,2,13,0,0\\r\\nCiaran Clark,Newcastle+United,27,CB,3,5,273,4.5,0.90%,0,2,Ireland,0,3,13,0,0\\r\\nLascelles,Newcastle+United,27,CB,3,5,400,4.5,3.60%,0,1,England,0,3,13,0,0\\r\\nPaul Dummett,Newcastle+United,25,LB,3,3.5,177,4.5,1.00%,0,2,Wales,0,3,13,0,0\\r\\nGrant Hanley,Newcastle+United,25,CB,3,4.5,265,4,2.50%,0,2,Scotland,0,3,13,0,0\\r\\nJesus Gamez,Newcastle+United,32,RB,3,2.5,186,4,2.30%,0,2,Spain,0,5,13,0,0\\r\\nFlorian Lejeune,Newcastle+United,26,CB,3,5,65,4.5,1.00%,0,2,France,0,3,13,0,0\\r\\nMassadio Haidara,Newcastle+United,24,LB,3,1.5,114,4,0.50%,0,2,France,0,2,13,0,0\\r\\nMatt Ritchie,Newcastle+United,27,RM,2,9,566,6,4.20%,0,2,Scotland,0,3,13,0,0\\r\\nJonjo Shelvey,Newcastle+United,25,CM,2,11,747,5.5,2.50%,0,1,England,0,3,13,0,0\\r\\nMohamed Diame,Newcastle+United,30,CM,2,6,339,5,0.50%,0,4,Senegal,0,4,13,0,0\\r\\nJack Colback,Newcastle+United,27,DM,2,5,181,4.5,1.10%,0,1,England,0,3,13,0,0\\r\\nChristian Atsu,Newcastle+United,25,RW,1,5,641,5,2.10%,0,4,Ghana,0,3,13,0,0\\r\\nSiem de Jong,Newcastle+United,28,AM,1,5.5,341,5,0.10%,0,2,Netherlands,0,4,13,0,0\\r\\nRolando Aarons,Newcastle+United,21,LW,1,0.75,170,4.5,0.10%,0,1,England,0,1,13,0,0\\r\\nDwight Gayle,Newcastle+United,26,CF,1,10,1351,6.5,11.40%,0,1,England,0,3,13,0,0\\r\\nAyoze Perez,Newcastle+United,23,SS,1,8,368,5.5,1.60%,0,2,Spain,0,2,13,0,0\\r\\nAleksandar Mitrovic,Newcastle+United,22,CF,1,10,781,5,2.50%,0,2,Serbia,0,2,13,0,0\\r\\nDaryl Murphy,Newcastle+United,34,CF,1,1.5,541,4.5,2.80%,0,2,Ireland,0,6,13,0,0\\r\\nFraser Forster,Southampton,29,GK,4,15,548,5,7.30%,134,1,England,0,4,14,0,0\\r\\nNathan Redmond,Southampton,23,RW,1,15,706,6.5,11.30%,126,1,England,0,2,14,0,1\\r\\nRyan Bertrand,Southampton,27,LB,3,20,578,5.5,11.20%,123,1,England,0,3,14,0,0\\r\\nDu\\xe5\\x9a\\x99\\xe8\\xb8\\x9d\\xe8\\x95\\xad\\xe5\\x9a\\x99\\xe8\\xb8\\x9d\\xe8\\x95\\xadan T,Southampton,28,LW,1,17,458,6.5,4.90%,108,2,Portugal,0,4,14,0,0\\r\\nCedric Soares,Southampton,25,RB,3,15,338,5,16.40%,102,2,Portugal,0,3,14,0,0\\r\\nJames Ward-Prowse,Southampton,22,CM,2,15,416,5.5,2.20%,92,1,England,0,2,14,0,0\\r\\nOriol Romeu,Southampton,25,DM,2,10,476,4.5,4.20%,80,2,Spain,0,3,14,0,0\\r\\nMaya Yoshida,Southampton,28,CB,3,5,317,5,1.10%,78,4,Japan,0,4,14,0,0\\r\\nSteven Davis,Southampton,32,CM,2,6,310,5,0.20%,77,2,Northern Ireland,0,5,14,0,0\\r\\nVirgil van Dijk,Southampton,26,CB,3,30,1102,5.5,4.00%,75,2,Netherlands,0,3,14,0,0\\r\\nCharlie Austin,Southampton,28,CF,1,13,874,6.5,2.10%,62,1,England,0,4,14,0,0\\r\\nJack Stephens,Southampton,23,CB,3,3.5,249,5,0.40%,60,1,England,0,2,14,0,0\\r\\nShane Long,Southampton,30,CF,1,9,703,6,0.30%,57,2,Ireland,0,4,14,0,0\\r\\nSofiane Boufal,Southampton,23,AM,1,15,590,6,0.30%,40,4,Morocco,0,2,14,0,1\\r\\nJordy Clasie,Southampton,26,DM,2,10,201,4.5,0.40%,38,2,Netherlands,0,3,14,0,0\\r\\nPierre-Emile Hojbjerg,Southampton,21,CM,2,8,368,4.5,0.40%,38,2,Denmark,0,1,14,0,1\\r\\nManolo Gabbiadini,Southampton,25,CF,1,15,2012,7,5.20%,38,2,Italy,0,3,14,0,0\\r\\nSam McQueen,Southampton,22,LM,2,0.75,221,4.5,0.10%,23,1,England,0,2,14,0,0\\r\\nMatt Targett,Southampton,21,LB,3,3,110,4.5,0.20%,12,1,England,0,1,14,0,0\\r\\nJosh Sims,Southampton,20,RW,1,0.5,126,4.5,0.10%,12,1,England,0,1,14,0,0\\r\\nJeremy Pied,Southampton,28,RM,2,3.5,136,4.5,0.10%,5,2,France,0,4,14,0,1\\r\\nJason McCarthy,Southampton,21,CB,3,0.25,53,4.5,0.10%,0,1,England,0,1,14,0,0\\r\\nJan Bednarek,Southampton,21,CB,3,0.5,9,4.5,0.40%,0,2,Poland,1,1,14,0,0\\r\\nJoe Allen,Stoke+City,27,CM,2,15,523,5.5,6.00%,118,2,Wales,0,3,15,0,1\\r\\nMarko Arnautovi,Stoke+City,28,LW,1,15,579,7,0.70%,117,1,England,0,4,15,0,0\\r\\nLee Grant,Stoke+City,34,GK,4,1,480,4.5,1.20%,106,1,England,0,6,15,0,1\\r\\nErik Pieters,Stoke+City,28,LB,3,7,134,5,1.30%,103,2,Netherlands,0,4,15,0,0\\r\\nSteven Fletcher,Stoke+City,30,CF,1,3,522,5,1.00%,103,2,Scotland,0,4,15,0,0\\r\\nRyan Shawcross,Stoke+City,29,CB,3,11,281,5,1.00%,94,2,England,0,4,15,0,0\\r\\nXherdan Shaqiri,Stoke+City,25,RW,1,15,1000,6,3.20%,80,2,Switzerland,0,3,15,0,0\\r\\nPeter Crouch,Stoke+City,36,CF,1,1.5,2656,5,2.90%,79,1,England,0,6,15,0,0\\r\\nGlenn Whelan,Stoke+City,33,DM,2,2.5,182,4.5,0.40%,62,2,Ireland,0,5,15,0,0\\r\\nCharlie Adam,Stoke+City,31,CM,2,3.5,561,5,0.10%,59,2,Scotland,0,4,15,0,0\\r\\nGeoff Cameron,Stoke+City,32,CB,3,3,260,4.5,0.50%,58,4,United States,0,5,15,0,0\\r\\nGlen Johnson,Stoke+City,32,RB,3,5,512,4.5,0.80%,56,1,England,0,5,15,0,0\\r\\nMame Biram Diouf,Stoke+City,29,CF,1,7,310,5.5,0.40%,51,4,Senegal,0,4,15,0,0\\r\\nRamadan Sobhi,Stoke+City,20,LW,1,5,461,5,1.10%,36,4,Egypt,0,1,15,0,1\\r\\nMarc Muniesa,Stoke+City,25,CB,3,3,172,4.5,0.20%,34,2,Spain,0,3,15,0,0\\r\\nBojan Krki,Stoke+City,26,SS,1,5,1325,5.5,0.20%,30,2,Spain,0,3,15,0,0\\r\\nPhil Bardsley,Stoke+City,32,RB,3,1.5,365,4.5,0.00%,27,2,Scotland,0,5,15,0,0\\r\\nSaido Berahino,Stoke+City,23,CF,1,15,841,6,0.80%,26,1,England,0,2,15,0,0\\r\\nGiannelli Imbula,Stoke+City,24,DM,2,12,238,4.5,0.20%,24,2,France,0,2,15,0,0\\r\\nJack Butland,Stoke+City,24,GK,4,15,402,5,2.80%,20,1,England,0,2,15,0,0\\r\\nIbrahim Afellay,Stoke+City,31,LM,2,3,461,5,0.00%,15,2,Netherlands,0,4,15,0,0\\r\\nJosh Tymon,Stoke+City,18,LB,3,1,120,4.5,0.10%,9,1,England,0,1,15,0,0\\r\\nGylfi Sigurdsson,Swansea,27,AM,1,25,861,8.5,8.70%,181,2,Iceland,0,3,16,0,0\\r\\nFernando Llorente,Swansea,32,CF,1,6,1423,7.5,0.70%,146,2,Spain,0,5,16,0,1\\r\\n\\xe7\\x82\\xbd\\xe7\\x82\\xbdukasz Fabia\\xe7\\x82\\xbd\\xe7\\x82\\xbd\\xf0\\xa2\\x92\\x8bki,Swansea,32,GK,4,9,285,4.5,6.20%,116,2,Poland,0,5,16,0,0\\r\\nLeroy Fer,Swansea,27,CM,2,8,411,5.5,0.60%,95,2,Netherlands,0,3,16,0,1\\r\\nAlfie Mawson,Swansea,23,CB,3,6,509,5,1.80%,94,1,England,0,2,16,0,1\\r\\nKyle Naughton,Swansea,28,RB,3,5,170,4.5,2.00%,82,1,England,0,4,16,0,0\\r\\nWayne Routledge,Swansea,32,LW,1,2.5,264,5.5,0.10%,74,1,England,0,5,16,0,0\\r\\nFederico Fernandez,Swansea,28,CB,3,9,116,4.5,0.40%,63,3,Argentina,0,4,16,0,0\\r\\nMartin Olsson,Swansea,29,LB,3,5,458,5,0.30%,52,2,Sweden,0,4,16,0,0\\r\\nTom Carroll,Swansea,25,CM,2,6,432,4.5,4.30%,52,1,England,0,3,16,0,0\\r\\nKi Sung-yueng,Swansea,28,DM,2,7,478,5,0.00%,41,4,South Korea,0,4,16,0,0\\r\\nJordan Ayew,Swansea,25,CF,1,7.5,676,5,2.00%,39,4,Ghana,0,3,16,0,0\\r\\nModou Barrow,Swansea,24,RW,1,3,437,5,0.10%,34,4,The Gambia,0,2,16,0,0\\r\\nLeon Britton,Swansea,34,CM,2,1,218,4.5,0.10%,32,1,England,0,6,16,0,0\\r\\nStephen Kingsley,Swansea,22,LB,3,0.75,168,4.5,0.20%,29,2,Scotland,0,2,16,0,0\\r\\n\\xe7\\x82\\xbd\\xe7\\x82\\xbd\\xf0\\xa3\\xad\\x9agel Rangel,Swansea,34,RB,3,1,137,4,18.80%,26,2,Spain,0,6,16,0,0\\r\\nLuciano Narsingh,Swansea,26,RW,1,5,448,5,0.10%,25,2,Netherlands,0,3,16,0,0\\r\\nJay Fulton,Swansea,23,CM,2,0.5,104,4.5,0.10%,19,2,Scotland,0,2,16,0,0\\r\\nJefferson Montero,Swansea,27,LW,1,4.5,187,5,0.10%,18,3,Ecuador,0,3,16,0,0\\r\\nMike van der Hoorn,Swansea,24,CB,3,2,154,4.5,0.10%,16,2,Netherlands,0,2,16,0,1\\r\\nNathan Dyer,Swansea,29,RW,1,3.5,313,4.5,0.10%,12,1,England,0,4,16,0,0\\r\\nOliver McBurnie,Swansea,21,CF,1,0.25,149,4.5,0.70%,5,2,Scotland,0,1,16,0,0\\r\\nKristoffer Nordfeldt,Swansea,28,GK,4,1.5,82,4,1.70%,3,2,Sweden,0,4,16,0,0\\r\\nRoque Mesa,Swansea,28,CM,2,12,110,4.5,0.90%,0,2,Spain,1,4,16,0,0\\r\\nTammy Abraham,Swansea,19,CF,1,8,1227,5.5,3.30%,0,1,England,0,1,16,0,0\\r\\nDele Alli,Tottenham,21,CM,2,45,4626,9.5,38.60%,225,1,England,0,1,17,1,0\\r\\nHarry Kane,Tottenham,23,CF,1,60,4161,12.5,35.10%,224,1,England,0,2,17,1,0\\r\\nChristian Eriksen,Tottenham,25,AM,1,40,1130,9.5,12.00%,218,2,Denmark,0,3,17,1,0\\r\\nSon Heung-min,Tottenham,25,LW,1,30,2185,8,1.60%,174,4,South Korea,0,3,17,1,0\\r\\nHugo Lloris,Tottenham,30,GK,4,24,847,5.5,12.60%,143,2,France,0,4,17,1,0\\r\\nJan Vertonghen,Tottenham,30,CB,3,28,511,6,9.00%,126,2,Belgium,0,4,17,1,0\\r\\nToby Alderweireld,Tottenham,28,CB,3,35,756,6,13.30%,120,2,Belgium,0,4,17,1,0\\r\\nVictor Wanyama,Tottenham,26,DM,2,25,1002,5,3.10%,103,4,Kenya,0,3,17,1,1\\r\\nEric Dier,Tottenham,23,DM,2,25,1239,5,3.50%,93,1,England,0,2,17,1,0\\r\\nBen Davies,Tottenham,24,LB,3,12,396,5.5,1.80%,90,2,Wales,0,2,17,1,0\\r\\nDanny Rose,Tottenham,27,LB,3,28,848,6.5,0.60%,84,1,England,0,3,17,1,0\\r\\nMousa Dembele,Tottenham,30,CM,2,18,1161,5,1.80%,76,2,Belgium,0,4,17,1,0\\r\\nVincent Janssen,Tottenham,23,CF,1,13,1135,7.5,0.10%,55,2,Netherlands,0,2,17,1,1\\r\\nKieran Trippier,Tottenham,26,RB,3,10,525,5.5,17.30%,51,1,England,0,3,17,1,0\\r\\nMoussa Sissokho,Tottenham,27,CM,2,20,1162,5.5,0.30%,43,2,France,0,3,17,1,1\\r\\nHarry Winks,Tottenham,21,CM,2,4,806,5,0.00%,30,1,England,0,1,17,1,0\\r\\nErik Lamela,Tottenham,25,RW,1,25,672,6.5,0.10%,28,3,Argentina,0,3,17,1,0\\r\\nMichel Vorm,Tottenham,33,GK,4,4,252,5,0.10%,17,2,Netherlands,0,5,17,1,0\\r\\nGeorges-Kevin N%27Koudou,Tottenham,22,LW,1,7,510,5.5,0.10%,8,2,France,0,2,17,1,1\\r\\nKevin Wimmer,Tottenham,24,CB,3,7,355,4.5,0.30%,2,2,Austria,0,2,17,1,0\\r\\n\\xe7\\x82\\xbd\\xe7\\x82\\xbd\\xf0\\xa4\\xa3\\xb1ienne Capoue,Watford,29,DM,2,9,412,5.5,8.00%,131,2,France,0,4,18,0,0\\r\\nTroy Deeney,Watford,29,CF,1,11,1141,6.5,3.40%,130,1,England,0,4,18,0,0\\r\\nHeurelho Gomes,Watford,36,GK,4,1,439,4.5,2.20%,113,3,Brazil,0,6,18,0,0\\r\\nJose Holebas,Watford,33,LB,3,2,345,5,0.60%,87,2,Greece,0,5,18,0,0\\r\\nMiguel Britos,Watford,32,CB,3,3.5,131,4.5,0.60%,71,3,Uruguay,0,5,18,0,0\\r\\nSebastian Prodl,Watford,30,CB,3,4,169,4.5,0.80%,67,2,Austria,0,4,18,0,0\\r\\nNordin Amrabat,Watford,30,LW,1,4.5,295,5,0.10%,65,4,Morocco,0,4,18,0,0\\r\\nYoun\\xe5\\x9a\\x99\\xe8\\xb8\\x9d\\xe8\\x95\\xad\\xe5\\x9a\\x99\\xe8\\xb8\\x9d\\xe8\\x95\\xad,Watford,31,CB,3,2.5,263,4.5,0.10%,57,2,France,0,4,18,0,1\\r\\nTom Cleverley,Watford,27,CM,2,8,703,5,0.20%,55,1,England,0,3,18,0,0\\r\\nDaryl Janmaat,Watford,27,RB,3,7,242,5,0.30%,50,2,Netherlands,0,3,18,0,1\\r\\nValon Behrami,Watford,32,DM,2,2.5,237,4.5,0.40%,48,2,Switzerland,0,5,18,0,0\\r\\nRoberto Pereyra,Watford,26,AM,1,15,398,6,0.10%,43,3,Argentina,0,3,18,0,1\\r\\nStefano Okaka,Watford,27,CF,1,6,708,5.5,0.20%,43,2,Italy,0,3,18,0,1\\r\\nAbdoulaye Doucoure,Watford,24,CM,2,6,124,5,0.00%,38,2,France,0,2,18,0,0\\r\\nKabasele,Watford,26,CB,3,5.5,177,4.5,0.20%,35,2,Belgium,0,3,18,0,1\\r\\nCraig Cathcart,Watford,28,CB,3,4,128,4.5,0.00%,31,2,Northern Ireland,0,4,18,0,0\\r\\nIsaac Success,Watford,21,LW,1,4,474,5.5,0.10%,28,4,Nigeria,0,1,18,0,1\\r\\nAdrian Mariappa,Watford,30,CB,3,1,201,4,5.40%,15,3,Jamaica,0,4,18,0,1\\r\\nNathaniel Chalobah,Watford,22,DM,2,5,977,4.5,2.30%,12,1,England,0,2,18,0,0\\r\\nMauro Zarate,Watford,30,SS,1,2,473,5.5,0.00%,8,3,Argentina,0,4,18,0,0\\r\\nCostel Pantilimon,Watford,30,GK,4,3,268,4.5,0.20%,2,2,Romania,0,4,18,0,0\\r\\nKiko Femenia,Watford,26,RB,3,4,74,4.5,0.30%,0,2,Spain,1,3,18,0,0\\r\\nSteven Berghuis,Watford,25,RW,1,5.5,164,5,0.10%,0,2,Netherlands,0,3,18,0,0\\r\\nWill Hughes,Watford,22,CM,2,8,258,5,0.60%,0,1,England,1,2,18,0,0\\r\\nGareth McAuley,West+Brom,37,CB,3,1,458,5,11.80%,131,2,Northern Ireland,0,6,19,0,0\\r\\nSalomon Rondon,West+Brom,27,CF,1,15,502,6.5,2.00%,118,3,Venezuela,0,3,19,0,0\\r\\nMatt Phillips,West+Brom,26,RW,1,9,454,6,5.60%,115,2,Scotland,0,3,19,0,1\\r\\nBen Foster,West+Brom,34,GK,4,4,484,4.5,20.70%,113,1,England,0,6,19,0,0\\r\\nNacer Chadli,West+Brom,27,LW,1,15,570,6,2.40%,110,2,Belgium,0,3,19,0,1\\r\\nCraig Dawson,West+Brom,27,RB,3,6,215,5,6.00%,102,1,England,0,3,19,0,0\\r\\nChris Brunt,West+Brom,32,LM,2,4,242,5.5,0.80%,99,2,Northern Ireland,0,5,19,0,0\\r\\nJames Morrison,West+Brom,31,CM,2,5,238,5.5,0.00%,84,2,Scotland,0,4,19,0,0\\r\\nJonny Evans,West+Brom,29,CB,3,7,375,5,1.60%,79,2,Northern Ireland,0,4,19,0,0\\r\\nJake Livermore,West+Brom,27,DM,2,7,564,5,0.20%,77,1,England,0,3,19,0,0\\r\\nAllan Nyom,West+Brom,29,RB,3,4.5,236,5,0.30%,74,4,Cameroon,0,4,19,0,1\\r\\nJay Rodriguez,West+Brom,27,CF,1,10,472,6,2.90%,73,1,England,0,3,19,0,0\\r\\nClaudio Yacob,West+Brom,30,DM,2,4,165,4.5,0.40%,54,3,Argentina,0,4,19,0,0\\r\\nJames McClean,West+Brom,28,LW,1,3,454,5,0.20%,52,2,Ireland,0,4,19,0,0\\r\\nHal Robson-Kanu,West+Brom,28,LW,1,2.5,766,5,0.70%,52,2,Wales,0,4,19,0,1\\r\\nJonathan Leko,West+Brom,18,RW,1,1.5,169,4.5,0.20%,12,1,England,0,1,19,0,0\\r\\nSam Field,West+Brom,19,CM,2,0.25,15,4.5,0.10%,9,1,England,0,1,19,0,0\\r\\nBoaz Myhill,West+Brom,34,GK,4,1.5,100,4,5.30%,0,2,Wales,0,6,19,0,0\\r\\nAhmed Hegazy,West+Brom,26,CB,3,1,82,4.5,1.30%,0,4,Egypt,1,3,19,0,0\\r\\nRobert Snodgrass,West+Ham,29,RW,1,8,1210,6,6.50%,133,2,Scotland,0,4,20,0,0\\r\\nManuel Lanzini,West+Ham,24,AM,1,15,493,7,7.20%,133,3,Argentina,0,2,20,0,0\\r\\nMichail Antonio,West+Ham,27,RW,1,18,1142,7.5,0.50%,132,1,England,0,3,20,0,0\\r\\nWinston Reid,West+Ham,29,CB,3,10,338,5,0.40%,102,4,New Zealand,0,4,20,0,0\\r\\nJose Fonte,West+Ham,33,CB,3,7,867,5,2.10%,98,2,Portugal,0,5,20,0,1\\r\\nAndre Ayew,West+Ham,27,LW,1,18,845,7,3.40%,89,4,Ghana,0,3,20,0,1\\r\\nCheikhou Kouyate,West+Ham,27,DM,2,12,284,5,0.10%,79,4,Senegal,0,3,20,0,0\\r\\nMark Noble,West+Ham,30,CM,2,7,425,5.5,0.10%,71,1,England,0,4,20,0,0\\r\\nDarren Randolph,West+Ham,30,GK,4,2.5,459,4.5,0.40%,69,2,Ireland,0,4,20,0,0\\r\\nJames Collins,West+Ham,33,CB,3,2,187,4.5,0.90%,69,2,Wales,0,5,20,0,0\\r\\nAndy Carroll,West+Ham,28,CF,1,10,1212,6,0.40%,69,1,England,0,4,20,0,0\\r\\nAdrian,West+Ham,30,GK,4,8,266,4.5,0.80%,64,2,Spain,0,4,20,0,0\\r\\nAaron Cresswell,West+Ham,27,LB,3,12,380,5,1.30%,60,1,England,0,3,20,0,0\\r\\nPedro Obiang,West+Ham,25,CM,2,9,286,4.5,0.30%,55,2,Spain,0,3,20,0,0\\r\\nSofiane Feghouli,West+Ham,27,RW,1,12,394,5.5,0.20%,55,4,Algeria,0,3,20,0,1\\r\\nAngelo Ogbonna,West+Ham,29,CB,3,9,247,4.5,1.10%,45,2,Italy,0,4,20,0,0\\r\\nPablo Zabaleta,West+Ham,32,RB,3,7,698,5,2.70%,45,3,Argentina,0,5,20,0,0\\r\\nEdimilson Fernandes,West+Ham,21,CM,2,5,288,4.5,0.40%,38,2,Switzerland,0,1,20,0,1\\r\\nArthur Masuaku,West+Ham,23,LB,3,7,199,4.5,0.20%,34,4,Congo DR,0,2,20,0,1\\r\\nSam Byram,West+Ham,23,RB,3,4.5,198,4.5,0.30%,29,1,England,0,2,20,0,0\\r\\nAshley Fletcher,West+Ham,21,CF,1,1,412,4.5,5.90%,16,1,England,0,1,20,0,1\\r\\nDiafra Sakho,West+Ham,27,CF,1,10,214,5.5,0.10%,12,4,Senegal,0,3,20,0,0\"}"
            ]
          },
          "metadata": {
            "tags": []
          },
          "execution_count": 5
        }
      ]
    },
    {
      "cell_type": "code",
      "metadata": {
        "id": "qTti3M7Hz7ct"
      },
      "source": [
        "import io"
      ],
      "execution_count": 6,
      "outputs": []
    },
    {
      "cell_type": "code",
      "metadata": {
        "id": "HYNlIHR6z7fA",
        "outputId": "14ff7ac9-34d5-430b-a189-6daf18a44b5b",
        "colab": {
          "base_uri": "https://localhost:8080/",
          "height": 309
        }
      },
      "source": [
        "train= pd.read_csv(io.StringIO(uploaded['football_CLEAN.csv'].decode('utf-8')))\n",
        "train.head()"
      ],
      "execution_count": 7,
      "outputs": [
        {
          "output_type": "execute_result",
          "data": {
            "text/html": [
              "<div>\n",
              "<style scoped>\n",
              "    .dataframe tbody tr th:only-of-type {\n",
              "        vertical-align: middle;\n",
              "    }\n",
              "\n",
              "    .dataframe tbody tr th {\n",
              "        vertical-align: top;\n",
              "    }\n",
              "\n",
              "    .dataframe thead th {\n",
              "        text-align: right;\n",
              "    }\n",
              "</style>\n",
              "<table border=\"1\" class=\"dataframe\">\n",
              "  <thead>\n",
              "    <tr style=\"text-align: right;\">\n",
              "      <th></th>\n",
              "      <th>name</th>\n",
              "      <th>club</th>\n",
              "      <th>age</th>\n",
              "      <th>position</th>\n",
              "      <th>position_cat</th>\n",
              "      <th>market_value</th>\n",
              "      <th>page_views</th>\n",
              "      <th>fpl_value</th>\n",
              "      <th>fpl_sel</th>\n",
              "      <th>fpl_points</th>\n",
              "      <th>region</th>\n",
              "      <th>nationality</th>\n",
              "      <th>new_foreign</th>\n",
              "      <th>age_cat</th>\n",
              "      <th>club_id</th>\n",
              "      <th>big_club</th>\n",
              "      <th>new_signing</th>\n",
              "    </tr>\n",
              "  </thead>\n",
              "  <tbody>\n",
              "    <tr>\n",
              "      <th>0</th>\n",
              "      <td>Alexis Sanchez</td>\n",
              "      <td>Arsenal</td>\n",
              "      <td>28</td>\n",
              "      <td>LW</td>\n",
              "      <td>1</td>\n",
              "      <td>65.0</td>\n",
              "      <td>4329</td>\n",
              "      <td>12.0</td>\n",
              "      <td>17.10%</td>\n",
              "      <td>264</td>\n",
              "      <td>3</td>\n",
              "      <td>Chile</td>\n",
              "      <td>0</td>\n",
              "      <td>4</td>\n",
              "      <td>1</td>\n",
              "      <td>1</td>\n",
              "      <td>0</td>\n",
              "    </tr>\n",
              "    <tr>\n",
              "      <th>1</th>\n",
              "      <td>Mesut Ozil</td>\n",
              "      <td>Arsenal</td>\n",
              "      <td>28</td>\n",
              "      <td>AM</td>\n",
              "      <td>1</td>\n",
              "      <td>50.0</td>\n",
              "      <td>4395</td>\n",
              "      <td>9.5</td>\n",
              "      <td>5.60%</td>\n",
              "      <td>167</td>\n",
              "      <td>2</td>\n",
              "      <td>Germany</td>\n",
              "      <td>0</td>\n",
              "      <td>4</td>\n",
              "      <td>1</td>\n",
              "      <td>1</td>\n",
              "      <td>0</td>\n",
              "    </tr>\n",
              "    <tr>\n",
              "      <th>2</th>\n",
              "      <td>Petr Cech</td>\n",
              "      <td>Arsenal</td>\n",
              "      <td>35</td>\n",
              "      <td>GK</td>\n",
              "      <td>4</td>\n",
              "      <td>7.0</td>\n",
              "      <td>1529</td>\n",
              "      <td>5.5</td>\n",
              "      <td>5.90%</td>\n",
              "      <td>134</td>\n",
              "      <td>2</td>\n",
              "      <td>Czech Republic</td>\n",
              "      <td>0</td>\n",
              "      <td>6</td>\n",
              "      <td>1</td>\n",
              "      <td>1</td>\n",
              "      <td>0</td>\n",
              "    </tr>\n",
              "    <tr>\n",
              "      <th>3</th>\n",
              "      <td>Theo Walcott</td>\n",
              "      <td>Arsenal</td>\n",
              "      <td>28</td>\n",
              "      <td>RW</td>\n",
              "      <td>1</td>\n",
              "      <td>20.0</td>\n",
              "      <td>2393</td>\n",
              "      <td>7.5</td>\n",
              "      <td>1.50%</td>\n",
              "      <td>122</td>\n",
              "      <td>1</td>\n",
              "      <td>England</td>\n",
              "      <td>0</td>\n",
              "      <td>4</td>\n",
              "      <td>1</td>\n",
              "      <td>1</td>\n",
              "      <td>0</td>\n",
              "    </tr>\n",
              "    <tr>\n",
              "      <th>4</th>\n",
              "      <td>Laurent Koscielny</td>\n",
              "      <td>Arsenal</td>\n",
              "      <td>31</td>\n",
              "      <td>CB</td>\n",
              "      <td>3</td>\n",
              "      <td>22.0</td>\n",
              "      <td>912</td>\n",
              "      <td>6.0</td>\n",
              "      <td>0.70%</td>\n",
              "      <td>121</td>\n",
              "      <td>2</td>\n",
              "      <td>France</td>\n",
              "      <td>0</td>\n",
              "      <td>4</td>\n",
              "      <td>1</td>\n",
              "      <td>1</td>\n",
              "      <td>0</td>\n",
              "    </tr>\n",
              "  </tbody>\n",
              "</table>\n",
              "</div>"
            ],
            "text/plain": [
              "                name     club  age  ... club_id  big_club  new_signing\n",
              "0     Alexis Sanchez  Arsenal   28  ...       1         1            0\n",
              "1         Mesut Ozil  Arsenal   28  ...       1         1            0\n",
              "2          Petr Cech  Arsenal   35  ...       1         1            0\n",
              "3       Theo Walcott  Arsenal   28  ...       1         1            0\n",
              "4  Laurent Koscielny  Arsenal   31  ...       1         1            0\n",
              "\n",
              "[5 rows x 17 columns]"
            ]
          },
          "metadata": {
            "tags": []
          },
          "execution_count": 7
        }
      ]
    },
    {
      "cell_type": "code",
      "metadata": {
        "id": "qOb_t56Hz7h-",
        "outputId": "f50e3538-6a82-4813-b1ac-2b0d98ac08cc",
        "colab": {
          "base_uri": "https://localhost:8080/",
          "height": 340
        }
      },
      "source": [
        "sns.heatmap(train.isnull(),yticklabels=False,cbar=False,cmap='viridis')"
      ],
      "execution_count": 8,
      "outputs": [
        {
          "output_type": "execute_result",
          "data": {
            "text/plain": [
              "<matplotlib.axes._subplots.AxesSubplot at 0x7f7ff9be7b00>"
            ]
          },
          "metadata": {
            "tags": []
          },
          "execution_count": 8
        },
        {
          "output_type": "display_data",
          "data": {
            "image/png": "[encoded data removed]",
            "text/plain": [
              "<Figure size 432x288 with 1 Axes>"
            ]
          },
          "metadata": {
            "tags": [],
            "needs_background": "light"
          }
        }
      ]
    },
    {
      "cell_type": "code",
      "metadata": {
        "id": "n6qbQrdsz7ki"
      },
      "source": [
        "train.drop(['name'],axis=1,inplace=True)"
      ],
      "execution_count": 9,
      "outputs": []
    },
    {
      "cell_type": "code",
      "metadata": {
        "id": "lza8WyGKz7nU",
        "outputId": "abff7fbb-cd65-4692-8fd2-54bf9f541796",
        "colab": {
          "base_uri": "https://localhost:8080/",
          "height": 241
        }
      },
      "source": [
        "train.head()"
      ],
      "execution_count": 10,
      "outputs": [
        {
          "output_type": "execute_result",
          "data": {
            "text/html": [
              "<div>\n",
              "<style scoped>\n",
              "    .dataframe tbody tr th:only-of-type {\n",
              "        vertical-align: middle;\n",
              "    }\n",
              "\n",
              "    .dataframe tbody tr th {\n",
              "        vertical-align: top;\n",
              "    }\n",
              "\n",
              "    .dataframe thead th {\n",
              "        text-align: right;\n",
              "    }\n",
              "</style>\n",
              "<table border=\"1\" class=\"dataframe\">\n",
              "  <thead>\n",
              "    <tr style=\"text-align: right;\">\n",
              "      <th></th>\n",
              "      <th>club</th>\n",
              "      <th>age</th>\n",
              "      <th>position</th>\n",
              "      <th>position_cat</th>\n",
              "      <th>market_value</th>\n",
              "      <th>page_views</th>\n",
              "      <th>fpl_value</th>\n",
              "      <th>fpl_sel</th>\n",
              "      <th>fpl_points</th>\n",
              "      <th>region</th>\n",
              "      <th>nationality</th>\n",
              "      <th>new_foreign</th>\n",
              "      <th>age_cat</th>\n",
              "      <th>club_id</th>\n",
              "      <th>big_club</th>\n",
              "      <th>new_signing</th>\n",
              "    </tr>\n",
              "  </thead>\n",
              "  <tbody>\n",
              "    <tr>\n",
              "      <th>0</th>\n",
              "      <td>Arsenal</td>\n",
              "      <td>28</td>\n",
              "      <td>LW</td>\n",
              "      <td>1</td>\n",
              "      <td>65.0</td>\n",
              "      <td>4329</td>\n",
              "      <td>12.0</td>\n",
              "      <td>17.10%</td>\n",
              "      <td>264</td>\n",
              "      <td>3</td>\n",
              "      <td>Chile</td>\n",
              "      <td>0</td>\n",
              "      <td>4</td>\n",
              "      <td>1</td>\n",
              "      <td>1</td>\n",
              "      <td>0</td>\n",
              "    </tr>\n",
              "    <tr>\n",
              "      <th>1</th>\n",
              "      <td>Arsenal</td>\n",
              "      <td>28</td>\n",
              "      <td>AM</td>\n",
              "      <td>1</td>\n",
              "      <td>50.0</td>\n",
              "      <td>4395</td>\n",
              "      <td>9.5</td>\n",
              "      <td>5.60%</td>\n",
              "      <td>167</td>\n",
              "      <td>2</td>\n",
              "      <td>Germany</td>\n",
              "      <td>0</td>\n",
              "      <td>4</td>\n",
              "      <td>1</td>\n",
              "      <td>1</td>\n",
              "      <td>0</td>\n",
              "    </tr>\n",
              "    <tr>\n",
              "      <th>2</th>\n",
              "      <td>Arsenal</td>\n",
              "      <td>35</td>\n",
              "      <td>GK</td>\n",
              "      <td>4</td>\n",
              "      <td>7.0</td>\n",
              "      <td>1529</td>\n",
              "      <td>5.5</td>\n",
              "      <td>5.90%</td>\n",
              "      <td>134</td>\n",
              "      <td>2</td>\n",
              "      <td>Czech Republic</td>\n",
              "      <td>0</td>\n",
              "      <td>6</td>\n",
              "      <td>1</td>\n",
              "      <td>1</td>\n",
              "      <td>0</td>\n",
              "    </tr>\n",
              "    <tr>\n",
              "      <th>3</th>\n",
              "      <td>Arsenal</td>\n",
              "      <td>28</td>\n",
              "      <td>RW</td>\n",
              "      <td>1</td>\n",
              "      <td>20.0</td>\n",
              "      <td>2393</td>\n",
              "      <td>7.5</td>\n",
              "      <td>1.50%</td>\n",
              "      <td>122</td>\n",
              "      <td>1</td>\n",
              "      <td>England</td>\n",
              "      <td>0</td>\n",
              "      <td>4</td>\n",
              "      <td>1</td>\n",
              "      <td>1</td>\n",
              "      <td>0</td>\n",
              "    </tr>\n",
              "    <tr>\n",
              "      <th>4</th>\n",
              "      <td>Arsenal</td>\n",
              "      <td>31</td>\n",
              "      <td>CB</td>\n",
              "      <td>3</td>\n",
              "      <td>22.0</td>\n",
              "      <td>912</td>\n",
              "      <td>6.0</td>\n",
              "      <td>0.70%</td>\n",
              "      <td>121</td>\n",
              "      <td>2</td>\n",
              "      <td>France</td>\n",
              "      <td>0</td>\n",
              "      <td>4</td>\n",
              "      <td>1</td>\n",
              "      <td>1</td>\n",
              "      <td>0</td>\n",
              "    </tr>\n",
              "  </tbody>\n",
              "</table>\n",
              "</div>"
            ],
            "text/plain": [
              "      club  age position  position_cat  ...  age_cat  club_id  big_club new_signing\n",
              "0  Arsenal   28       LW             1  ...        4        1         1           0\n",
              "1  Arsenal   28       AM             1  ...        4        1         1           0\n",
              "2  Arsenal   35       GK             4  ...        6        1         1           0\n",
              "3  Arsenal   28       RW             1  ...        4        1         1           0\n",
              "4  Arsenal   31       CB             3  ...        4        1         1           0\n",
              "\n",
              "[5 rows x 16 columns]"
            ]
          },
          "metadata": {
            "tags": []
          },
          "execution_count": 10
        }
      ]
    },
    {
      "cell_type": "code",
      "metadata": {
        "id": "D75aIVTr4IUh"
      },
      "source": [
        "train.drop(['club'],axis=1,inplace=True)"
      ],
      "execution_count": 11,
      "outputs": []
    },
    {
      "cell_type": "code",
      "metadata": {
        "id": "bKbctVEd4IXd",
        "outputId": "7a6b01cb-b232-4514-b659-d3e3160d2a98",
        "colab": {
          "base_uri": "https://localhost:8080/",
          "height": 241
        }
      },
      "source": [
        "train.head()"
      ],
      "execution_count": 12,
      "outputs": [
        {
          "output_type": "execute_result",
          "data": {
            "text/html": [
              "<div>\n",
              "<style scoped>\n",
              "    .dataframe tbody tr th:only-of-type {\n",
              "        vertical-align: middle;\n",
              "    }\n",
              "\n",
              "    .dataframe tbody tr th {\n",
              "        vertical-align: top;\n",
              "    }\n",
              "\n",
              "    .dataframe thead th {\n",
              "        text-align: right;\n",
              "    }\n",
              "</style>\n",
              "<table border=\"1\" class=\"dataframe\">\n",
              "  <thead>\n",
              "    <tr style=\"text-align: right;\">\n",
              "      <th></th>\n",
              "      <th>age</th>\n",
              "      <th>position</th>\n",
              "      <th>position_cat</th>\n",
              "      <th>market_value</th>\n",
              "      <th>page_views</th>\n",
              "      <th>fpl_value</th>\n",
              "      <th>fpl_sel</th>\n",
              "      <th>fpl_points</th>\n",
              "      <th>region</th>\n",
              "      <th>nationality</th>\n",
              "      <th>new_foreign</th>\n",
              "      <th>age_cat</th>\n",
              "      <th>club_id</th>\n",
              "      <th>big_club</th>\n",
              "      <th>new_signing</th>\n",
              "    </tr>\n",
              "  </thead>\n",
              "  <tbody>\n",
              "    <tr>\n",
              "      <th>0</th>\n",
              "      <td>28</td>\n",
              "      <td>LW</td>\n",
              "      <td>1</td>\n",
              "      <td>65.0</td>\n",
              "      <td>4329</td>\n",
              "      <td>12.0</td>\n",
              "      <td>17.10%</td>\n",
              "      <td>264</td>\n",
              "      <td>3</td>\n",
              "      <td>Chile</td>\n",
              "      <td>0</td>\n",
              "      <td>4</td>\n",
              "      <td>1</td>\n",
              "      <td>1</td>\n",
              "      <td>0</td>\n",
              "    </tr>\n",
              "    <tr>\n",
              "      <th>1</th>\n",
              "      <td>28</td>\n",
              "      <td>AM</td>\n",
              "      <td>1</td>\n",
              "      <td>50.0</td>\n",
              "      <td>4395</td>\n",
              "      <td>9.5</td>\n",
              "      <td>5.60%</td>\n",
              "      <td>167</td>\n",
              "      <td>2</td>\n",
              "      <td>Germany</td>\n",
              "      <td>0</td>\n",
              "      <td>4</td>\n",
              "      <td>1</td>\n",
              "      <td>1</td>\n",
              "      <td>0</td>\n",
              "    </tr>\n",
              "    <tr>\n",
              "      <th>2</th>\n",
              "      <td>35</td>\n",
              "      <td>GK</td>\n",
              "      <td>4</td>\n",
              "      <td>7.0</td>\n",
              "      <td>1529</td>\n",
              "      <td>5.5</td>\n",
              "      <td>5.90%</td>\n",
              "      <td>134</td>\n",
              "      <td>2</td>\n",
              "      <td>Czech Republic</td>\n",
              "      <td>0</td>\n",
              "      <td>6</td>\n",
              "      <td>1</td>\n",
              "      <td>1</td>\n",
              "      <td>0</td>\n",
              "    </tr>\n",
              "    <tr>\n",
              "      <th>3</th>\n",
              "      <td>28</td>\n",
              "      <td>RW</td>\n",
              "      <td>1</td>\n",
              "      <td>20.0</td>\n",
              "      <td>2393</td>\n",
              "      <td>7.5</td>\n",
              "      <td>1.50%</td>\n",
              "      <td>122</td>\n",
              "      <td>1</td>\n",
              "      <td>England</td>\n",
              "      <td>0</td>\n",
              "      <td>4</td>\n",
              "      <td>1</td>\n",
              "      <td>1</td>\n",
              "      <td>0</td>\n",
              "    </tr>\n",
              "    <tr>\n",
              "      <th>4</th>\n",
              "      <td>31</td>\n",
              "      <td>CB</td>\n",
              "      <td>3</td>\n",
              "      <td>22.0</td>\n",
              "      <td>912</td>\n",
              "      <td>6.0</td>\n",
              "      <td>0.70%</td>\n",
              "      <td>121</td>\n",
              "      <td>2</td>\n",
              "      <td>France</td>\n",
              "      <td>0</td>\n",
              "      <td>4</td>\n",
              "      <td>1</td>\n",
              "      <td>1</td>\n",
              "      <td>0</td>\n",
              "    </tr>\n",
              "  </tbody>\n",
              "</table>\n",
              "</div>"
            ],
            "text/plain": [
              "   age position  position_cat  ...  club_id  big_club  new_signing\n",
              "0   28       LW             1  ...        1         1            0\n",
              "1   28       AM             1  ...        1         1            0\n",
              "2   35       GK             4  ...        1         1            0\n",
              "3   28       RW             1  ...        1         1            0\n",
              "4   31       CB             3  ...        1         1            0\n",
              "\n",
              "[5 rows x 15 columns]"
            ]
          },
          "metadata": {
            "tags": []
          },
          "execution_count": 12
        }
      ]
    },
    {
      "cell_type": "code",
      "metadata": {
        "id": "jiHcxFON4Ibr",
        "outputId": "1af96b9c-31d7-431a-9886-806c9b55a1cf",
        "colab": {
          "base_uri": "https://localhost:8080/",
          "height": 204
        }
      },
      "source": [
        "train.drop(['position'],axis=1,inplace=True)\n",
        "train.head()"
      ],
      "execution_count": 13,
      "outputs": [
        {
          "output_type": "execute_result",
          "data": {
            "text/html": [
              "<div>\n",
              "<style scoped>\n",
              "    .dataframe tbody tr th:only-of-type {\n",
              "        vertical-align: middle;\n",
              "    }\n",
              "\n",
              "    .dataframe tbody tr th {\n",
              "        vertical-align: top;\n",
              "    }\n",
              "\n",
              "    .dataframe thead th {\n",
              "        text-align: right;\n",
              "    }\n",
              "</style>\n",
              "<table border=\"1\" class=\"dataframe\">\n",
              "  <thead>\n",
              "    <tr style=\"text-align: right;\">\n",
              "      <th></th>\n",
              "      <th>age</th>\n",
              "      <th>position_cat</th>\n",
              "      <th>market_value</th>\n",
              "      <th>page_views</th>\n",
              "      <th>fpl_value</th>\n",
              "      <th>fpl_sel</th>\n",
              "      <th>fpl_points</th>\n",
              "      <th>region</th>\n",
              "      <th>nationality</th>\n",
              "      <th>new_foreign</th>\n",
              "      <th>age_cat</th>\n",
              "      <th>club_id</th>\n",
              "      <th>big_club</th>\n",
              "      <th>new_signing</th>\n",
              "    </tr>\n",
              "  </thead>\n",
              "  <tbody>\n",
              "    <tr>\n",
              "      <th>0</th>\n",
              "      <td>28</td>\n",
              "      <td>1</td>\n",
              "      <td>65.0</td>\n",
              "      <td>4329</td>\n",
              "      <td>12.0</td>\n",
              "      <td>17.10%</td>\n",
              "      <td>264</td>\n",
              "      <td>3</td>\n",
              "      <td>Chile</td>\n",
              "      <td>0</td>\n",
              "      <td>4</td>\n",
              "      <td>1</td>\n",
              "      <td>1</td>\n",
              "      <td>0</td>\n",
              "    </tr>\n",
              "    <tr>\n",
              "      <th>1</th>\n",
              "      <td>28</td>\n",
              "      <td>1</td>\n",
              "      <td>50.0</td>\n",
              "      <td>4395</td>\n",
              "      <td>9.5</td>\n",
              "      <td>5.60%</td>\n",
              "      <td>167</td>\n",
              "      <td>2</td>\n",
              "      <td>Germany</td>\n",
              "      <td>0</td>\n",
              "      <td>4</td>\n",
              "      <td>1</td>\n",
              "      <td>1</td>\n",
              "      <td>0</td>\n",
              "    </tr>\n",
              "    <tr>\n",
              "      <th>2</th>\n",
              "      <td>35</td>\n",
              "      <td>4</td>\n",
              "      <td>7.0</td>\n",
              "      <td>1529</td>\n",
              "      <td>5.5</td>\n",
              "      <td>5.90%</td>\n",
              "      <td>134</td>\n",
              "      <td>2</td>\n",
              "      <td>Czech Republic</td>\n",
              "      <td>0</td>\n",
              "      <td>6</td>\n",
              "      <td>1</td>\n",
              "      <td>1</td>\n",
              "      <td>0</td>\n",
              "    </tr>\n",
              "    <tr>\n",
              "      <th>3</th>\n",
              "      <td>28</td>\n",
              "      <td>1</td>\n",
              "      <td>20.0</td>\n",
              "      <td>2393</td>\n",
              "      <td>7.5</td>\n",
              "      <td>1.50%</td>\n",
              "      <td>122</td>\n",
              "      <td>1</td>\n",
              "      <td>England</td>\n",
              "      <td>0</td>\n",
              "      <td>4</td>\n",
              "      <td>1</td>\n",
              "      <td>1</td>\n",
              "      <td>0</td>\n",
              "    </tr>\n",
              "    <tr>\n",
              "      <th>4</th>\n",
              "      <td>31</td>\n",
              "      <td>3</td>\n",
              "      <td>22.0</td>\n",
              "      <td>912</td>\n",
              "      <td>6.0</td>\n",
              "      <td>0.70%</td>\n",
              "      <td>121</td>\n",
              "      <td>2</td>\n",
              "      <td>France</td>\n",
              "      <td>0</td>\n",
              "      <td>4</td>\n",
              "      <td>1</td>\n",
              "      <td>1</td>\n",
              "      <td>0</td>\n",
              "    </tr>\n",
              "  </tbody>\n",
              "</table>\n",
              "</div>"
            ],
            "text/plain": [
              "   age  position_cat  market_value  ...  club_id  big_club new_signing\n",
              "0   28             1          65.0  ...        1         1           0\n",
              "1   28             1          50.0  ...        1         1           0\n",
              "2   35             4           7.0  ...        1         1           0\n",
              "3   28             1          20.0  ...        1         1           0\n",
              "4   31             3          22.0  ...        1         1           0\n",
              "\n",
              "[5 rows x 14 columns]"
            ]
          },
          "metadata": {
            "tags": []
          },
          "execution_count": 13
        }
      ]
    },
    {
      "cell_type": "code",
      "metadata": {
        "id": "hdQQw4uqz7qB",
        "outputId": "87637384-66e9-4ea6-9221-38de72b96b17",
        "colab": {
          "base_uri": "https://localhost:8080/",
          "height": 204
        }
      },
      "source": [
        "train.drop(['nationality'],axis=1,inplace=True)\n",
        "train.head()"
      ],
      "execution_count": 14,
      "outputs": [
        {
          "output_type": "execute_result",
          "data": {
            "text/html": [
              "<div>\n",
              "<style scoped>\n",
              "    .dataframe tbody tr th:only-of-type {\n",
              "        vertical-align: middle;\n",
              "    }\n",
              "\n",
              "    .dataframe tbody tr th {\n",
              "        vertical-align: top;\n",
              "    }\n",
              "\n",
              "    .dataframe thead th {\n",
              "        text-align: right;\n",
              "    }\n",
              "</style>\n",
              "<table border=\"1\" class=\"dataframe\">\n",
              "  <thead>\n",
              "    <tr style=\"text-align: right;\">\n",
              "      <th></th>\n",
              "      <th>age</th>\n",
              "      <th>position_cat</th>\n",
              "      <th>market_value</th>\n",
              "      <th>page_views</th>\n",
              "      <th>fpl_value</th>\n",
              "      <th>fpl_sel</th>\n",
              "      <th>fpl_points</th>\n",
              "      <th>region</th>\n",
              "      <th>new_foreign</th>\n",
              "      <th>age_cat</th>\n",
              "      <th>club_id</th>\n",
              "      <th>big_club</th>\n",
              "      <th>new_signing</th>\n",
              "    </tr>\n",
              "  </thead>\n",
              "  <tbody>\n",
              "    <tr>\n",
              "      <th>0</th>\n",
              "      <td>28</td>\n",
              "      <td>1</td>\n",
              "      <td>65.0</td>\n",
              "      <td>4329</td>\n",
              "      <td>12.0</td>\n",
              "      <td>17.10%</td>\n",
              "      <td>264</td>\n",
              "      <td>3</td>\n",
              "      <td>0</td>\n",
              "      <td>4</td>\n",
              "      <td>1</td>\n",
              "      <td>1</td>\n",
              "      <td>0</td>\n",
              "    </tr>\n",
              "    <tr>\n",
              "      <th>1</th>\n",
              "      <td>28</td>\n",
              "      <td>1</td>\n",
              "      <td>50.0</td>\n",
              "      <td>4395</td>\n",
              "      <td>9.5</td>\n",
              "      <td>5.60%</td>\n",
              "      <td>167</td>\n",
              "      <td>2</td>\n",
              "      <td>0</td>\n",
              "      <td>4</td>\n",
              "      <td>1</td>\n",
              "      <td>1</td>\n",
              "      <td>0</td>\n",
              "    </tr>\n",
              "    <tr>\n",
              "      <th>2</th>\n",
              "      <td>35</td>\n",
              "      <td>4</td>\n",
              "      <td>7.0</td>\n",
              "      <td>1529</td>\n",
              "      <td>5.5</td>\n",
              "      <td>5.90%</td>\n",
              "      <td>134</td>\n",
              "      <td>2</td>\n",
              "      <td>0</td>\n",
              "      <td>6</td>\n",
              "      <td>1</td>\n",
              "      <td>1</td>\n",
              "      <td>0</td>\n",
              "    </tr>\n",
              "    <tr>\n",
              "      <th>3</th>\n",
              "      <td>28</td>\n",
              "      <td>1</td>\n",
              "      <td>20.0</td>\n",
              "      <td>2393</td>\n",
              "      <td>7.5</td>\n",
              "      <td>1.50%</td>\n",
              "      <td>122</td>\n",
              "      <td>1</td>\n",
              "      <td>0</td>\n",
              "      <td>4</td>\n",
              "      <td>1</td>\n",
              "      <td>1</td>\n",
              "      <td>0</td>\n",
              "    </tr>\n",
              "    <tr>\n",
              "      <th>4</th>\n",
              "      <td>31</td>\n",
              "      <td>3</td>\n",
              "      <td>22.0</td>\n",
              "      <td>912</td>\n",
              "      <td>6.0</td>\n",
              "      <td>0.70%</td>\n",
              "      <td>121</td>\n",
              "      <td>2</td>\n",
              "      <td>0</td>\n",
              "      <td>4</td>\n",
              "      <td>1</td>\n",
              "      <td>1</td>\n",
              "      <td>0</td>\n",
              "    </tr>\n",
              "  </tbody>\n",
              "</table>\n",
              "</div>"
            ],
            "text/plain": [
              "   age  position_cat  market_value  ...  club_id  big_club new_signing\n",
              "0   28             1          65.0  ...        1         1           0\n",
              "1   28             1          50.0  ...        1         1           0\n",
              "2   35             4           7.0  ...        1         1           0\n",
              "3   28             1          20.0  ...        1         1           0\n",
              "4   31             3          22.0  ...        1         1           0\n",
              "\n",
              "[5 rows x 13 columns]"
            ]
          },
          "metadata": {
            "tags": []
          },
          "execution_count": 14
        }
      ]
    },
    {
      "cell_type": "code",
      "metadata": {
        "id": "DB23FEdOb01u",
        "outputId": "14925ddc-ad02-4874-9c09-e9cf96e3ed52",
        "colab": {
          "base_uri": "https://localhost:8080/",
          "height": 204
        }
      },
      "source": [
        "train['FPL_SEL'] = pd.to_numeric(train['fpl_sel'].str[:-1])\n",
        "train.head()"
      ],
      "execution_count": 15,
      "outputs": [
        {
          "output_type": "execute_result",
          "data": {
            "text/html": [
              "<div>\n",
              "<style scoped>\n",
              "    .dataframe tbody tr th:only-of-type {\n",
              "        vertical-align: middle;\n",
              "    }\n",
              "\n",
              "    .dataframe tbody tr th {\n",
              "        vertical-align: top;\n",
              "    }\n",
              "\n",
              "    .dataframe thead th {\n",
              "        text-align: right;\n",
              "    }\n",
              "</style>\n",
              "<table border=\"1\" class=\"dataframe\">\n",
              "  <thead>\n",
              "    <tr style=\"text-align: right;\">\n",
              "      <th></th>\n",
              "      <th>age</th>\n",
              "      <th>position_cat</th>\n",
              "      <th>market_value</th>\n",
              "      <th>page_views</th>\n",
              "      <th>fpl_value</th>\n",
              "      <th>fpl_sel</th>\n",
              "      <th>fpl_points</th>\n",
              "      <th>region</th>\n",
              "      <th>new_foreign</th>\n",
              "      <th>age_cat</th>\n",
              "      <th>club_id</th>\n",
              "      <th>big_club</th>\n",
              "      <th>new_signing</th>\n",
              "      <th>FPL_SEL</th>\n",
              "    </tr>\n",
              "  </thead>\n",
              "  <tbody>\n",
              "    <tr>\n",
              "      <th>0</th>\n",
              "      <td>28</td>\n",
              "      <td>1</td>\n",
              "      <td>65.0</td>\n",
              "      <td>4329</td>\n",
              "      <td>12.0</td>\n",
              "      <td>17.10%</td>\n",
              "      <td>264</td>\n",
              "      <td>3</td>\n",
              "      <td>0</td>\n",
              "      <td>4</td>\n",
              "      <td>1</td>\n",
              "      <td>1</td>\n",
              "      <td>0</td>\n",
              "      <td>17.1</td>\n",
              "    </tr>\n",
              "    <tr>\n",
              "      <th>1</th>\n",
              "      <td>28</td>\n",
              "      <td>1</td>\n",
              "      <td>50.0</td>\n",
              "      <td>4395</td>\n",
              "      <td>9.5</td>\n",
              "      <td>5.60%</td>\n",
              "      <td>167</td>\n",
              "      <td>2</td>\n",
              "      <td>0</td>\n",
              "      <td>4</td>\n",
              "      <td>1</td>\n",
              "      <td>1</td>\n",
              "      <td>0</td>\n",
              "      <td>5.6</td>\n",
              "    </tr>\n",
              "    <tr>\n",
              "      <th>2</th>\n",
              "      <td>35</td>\n",
              "      <td>4</td>\n",
              "      <td>7.0</td>\n",
              "      <td>1529</td>\n",
              "      <td>5.5</td>\n",
              "      <td>5.90%</td>\n",
              "      <td>134</td>\n",
              "      <td>2</td>\n",
              "      <td>0</td>\n",
              "      <td>6</td>\n",
              "      <td>1</td>\n",
              "      <td>1</td>\n",
              "      <td>0</td>\n",
              "      <td>5.9</td>\n",
              "    </tr>\n",
              "    <tr>\n",
              "      <th>3</th>\n",
              "      <td>28</td>\n",
              "      <td>1</td>\n",
              "      <td>20.0</td>\n",
              "      <td>2393</td>\n",
              "      <td>7.5</td>\n",
              "      <td>1.50%</td>\n",
              "      <td>122</td>\n",
              "      <td>1</td>\n",
              "      <td>0</td>\n",
              "      <td>4</td>\n",
              "      <td>1</td>\n",
              "      <td>1</td>\n",
              "      <td>0</td>\n",
              "      <td>1.5</td>\n",
              "    </tr>\n",
              "    <tr>\n",
              "      <th>4</th>\n",
              "      <td>31</td>\n",
              "      <td>3</td>\n",
              "      <td>22.0</td>\n",
              "      <td>912</td>\n",
              "      <td>6.0</td>\n",
              "      <td>0.70%</td>\n",
              "      <td>121</td>\n",
              "      <td>2</td>\n",
              "      <td>0</td>\n",
              "      <td>4</td>\n",
              "      <td>1</td>\n",
              "      <td>1</td>\n",
              "      <td>0</td>\n",
              "      <td>0.7</td>\n",
              "    </tr>\n",
              "  </tbody>\n",
              "</table>\n",
              "</div>"
            ],
            "text/plain": [
              "   age  position_cat  market_value  ...  big_club  new_signing FPL_SEL\n",
              "0   28             1          65.0  ...         1            0    17.1\n",
              "1   28             1          50.0  ...         1            0     5.6\n",
              "2   35             4           7.0  ...         1            0     5.9\n",
              "3   28             1          20.0  ...         1            0     1.5\n",
              "4   31             3          22.0  ...         1            0     0.7\n",
              "\n",
              "[5 rows x 14 columns]"
            ]
          },
          "metadata": {
            "tags": []
          },
          "execution_count": 15
        }
      ]
    },
    {
      "cell_type": "code",
      "metadata": {
        "id": "mPaAVSzHdFPB",
        "outputId": "9f0ae1e7-4d06-4a01-8921-06982bb12182",
        "colab": {
          "base_uri": "https://localhost:8080/",
          "height": 204
        }
      },
      "source": [
        "train.drop(['fpl_sel'],axis=1,inplace=True)\n",
        "train.head()"
      ],
      "execution_count": 16,
      "outputs": [
        {
          "output_type": "execute_result",
          "data": {
            "text/html": [
              "<div>\n",
              "<style scoped>\n",
              "    .dataframe tbody tr th:only-of-type {\n",
              "        vertical-align: middle;\n",
              "    }\n",
              "\n",
              "    .dataframe tbody tr th {\n",
              "        vertical-align: top;\n",
              "    }\n",
              "\n",
              "    .dataframe thead th {\n",
              "        text-align: right;\n",
              "    }\n",
              "</style>\n",
              "<table border=\"1\" class=\"dataframe\">\n",
              "  <thead>\n",
              "    <tr style=\"text-align: right;\">\n",
              "      <th></th>\n",
              "      <th>age</th>\n",
              "      <th>position_cat</th>\n",
              "      <th>market_value</th>\n",
              "      <th>page_views</th>\n",
              "      <th>fpl_value</th>\n",
              "      <th>fpl_points</th>\n",
              "      <th>region</th>\n",
              "      <th>new_foreign</th>\n",
              "      <th>age_cat</th>\n",
              "      <th>club_id</th>\n",
              "      <th>big_club</th>\n",
              "      <th>new_signing</th>\n",
              "      <th>FPL_SEL</th>\n",
              "    </tr>\n",
              "  </thead>\n",
              "  <tbody>\n",
              "    <tr>\n",
              "      <th>0</th>\n",
              "      <td>28</td>\n",
              "      <td>1</td>\n",
              "      <td>65.0</td>\n",
              "      <td>4329</td>\n",
              "      <td>12.0</td>\n",
              "      <td>264</td>\n",
              "      <td>3</td>\n",
              "      <td>0</td>\n",
              "      <td>4</td>\n",
              "      <td>1</td>\n",
              "      <td>1</td>\n",
              "      <td>0</td>\n",
              "      <td>17.1</td>\n",
              "    </tr>\n",
              "    <tr>\n",
              "      <th>1</th>\n",
              "      <td>28</td>\n",
              "      <td>1</td>\n",
              "      <td>50.0</td>\n",
              "      <td>4395</td>\n",
              "      <td>9.5</td>\n",
              "      <td>167</td>\n",
              "      <td>2</td>\n",
              "      <td>0</td>\n",
              "      <td>4</td>\n",
              "      <td>1</td>\n",
              "      <td>1</td>\n",
              "      <td>0</td>\n",
              "      <td>5.6</td>\n",
              "    </tr>\n",
              "    <tr>\n",
              "      <th>2</th>\n",
              "      <td>35</td>\n",
              "      <td>4</td>\n",
              "      <td>7.0</td>\n",
              "      <td>1529</td>\n",
              "      <td>5.5</td>\n",
              "      <td>134</td>\n",
              "      <td>2</td>\n",
              "      <td>0</td>\n",
              "      <td>6</td>\n",
              "      <td>1</td>\n",
              "      <td>1</td>\n",
              "      <td>0</td>\n",
              "      <td>5.9</td>\n",
              "    </tr>\n",
              "    <tr>\n",
              "      <th>3</th>\n",
              "      <td>28</td>\n",
              "      <td>1</td>\n",
              "      <td>20.0</td>\n",
              "      <td>2393</td>\n",
              "      <td>7.5</td>\n",
              "      <td>122</td>\n",
              "      <td>1</td>\n",
              "      <td>0</td>\n",
              "      <td>4</td>\n",
              "      <td>1</td>\n",
              "      <td>1</td>\n",
              "      <td>0</td>\n",
              "      <td>1.5</td>\n",
              "    </tr>\n",
              "    <tr>\n",
              "      <th>4</th>\n",
              "      <td>31</td>\n",
              "      <td>3</td>\n",
              "      <td>22.0</td>\n",
              "      <td>912</td>\n",
              "      <td>6.0</td>\n",
              "      <td>121</td>\n",
              "      <td>2</td>\n",
              "      <td>0</td>\n",
              "      <td>4</td>\n",
              "      <td>1</td>\n",
              "      <td>1</td>\n",
              "      <td>0</td>\n",
              "      <td>0.7</td>\n",
              "    </tr>\n",
              "  </tbody>\n",
              "</table>\n",
              "</div>"
            ],
            "text/plain": [
              "   age  position_cat  market_value  ...  big_club  new_signing  FPL_SEL\n",
              "0   28             1          65.0  ...         1            0     17.1\n",
              "1   28             1          50.0  ...         1            0      5.6\n",
              "2   35             4           7.0  ...         1            0      5.9\n",
              "3   28             1          20.0  ...         1            0      1.5\n",
              "4   31             3          22.0  ...         1            0      0.7\n",
              "\n",
              "[5 rows x 13 columns]"
            ]
          },
          "metadata": {
            "tags": []
          },
          "execution_count": 16
        }
      ]
    },
    {
      "cell_type": "code",
      "metadata": {
        "id": "pzrDEPeQvdqb"
      },
      "source": [
        "X= train.drop('market_value',axis=1)\n",
        "Y= train['market_value']"
      ],
      "execution_count": 17,
      "outputs": []
    },
    {
      "cell_type": "code",
      "metadata": {
        "id": "cqT7reES5Cor"
      },
      "source": [
        "from sklearn.model_selection  import train_test_split"
      ],
      "execution_count": 18,
      "outputs": []
    },
    {
      "cell_type": "code",
      "metadata": {
        "id": "IR0Xjgmv5CtE",
        "outputId": "5233981c-1778-49e0-d76d-5d95ddfb96fd",
        "colab": {
          "base_uri": "https://localhost:8080/"
        }
      },
      "source": [
        "X_train, X_test, Y_train, Y_test = train_test_split(X, Y, test_size = 0.25, random_state=101)\n",
        "print(X_train.shape)\n",
        "print(X_test.shape)\n",
        "print(Y_train.shape)\n",
        "print(Y_test.shape)"
      ],
      "execution_count": 19,
      "outputs": [
        {
          "output_type": "stream",
          "text": [
            "(345, 12)\n",
            "(116, 12)\n",
            "(345,)\n",
            "(116,)\n"
          ],
          "name": "stdout"
        }
      ]
    },
    {
      "cell_type": "markdown",
      "metadata": {
        "id": "S5Si6-GS_ego"
      },
      "source": [
        "LINEAR REGRESSION"
      ]
    },
    {
      "cell_type": "code",
      "metadata": {
        "id": "bHyWesIN5Cwj",
        "outputId": "51be4166-d0ae-4538-a0c1-628ba4e8335e",
        "colab": {
          "base_uri": "https://localhost:8080/"
        }
      },
      "source": [
        "from sklearn.linear_model import LinearRegression\n",
        "regressor = LinearRegression()\n",
        "regressor.fit(X_train, Y_train)"
      ],
      "execution_count": 20,
      "outputs": [
        {
          "output_type": "execute_result",
          "data": {
            "text/plain": [
              "LinearRegression(copy_X=True, fit_intercept=True, n_jobs=None, normalize=False)"
            ]
          },
          "metadata": {
            "tags": []
          },
          "execution_count": 20
        }
      ]
    },
    {
      "cell_type": "code",
      "metadata": {
        "id": "MNeQvakK6z6E"
      },
      "source": [
        "from sklearn import metrics"
      ],
      "execution_count": 21,
      "outputs": []
    },
    {
      "cell_type": "code",
      "metadata": {
        "id": "xA-8oCme_5Lf"
      },
      "source": [
        "pred = regressor.predict(X_test)"
      ],
      "execution_count": 22,
      "outputs": []
    },
    {
      "cell_type": "code",
      "metadata": {
        "id": "tbNKJ23G8kvo",
        "outputId": "15b138c6-8f75-4efd-b568-b9c7afa4e824",
        "colab": {
          "base_uri": "https://localhost:8080/"
        }
      },
      "source": [
        "print(pred)"
      ],
      "execution_count": 55,
      "outputs": [
        {
          "output_type": "stream",
          "text": [
            "[ 1.78500698 18.72348397 11.14783687  9.30928964 13.18242016  1.85004844\n",
            "  3.13320882  1.5478006   3.64631318  6.49640386 -1.88708842  9.59915868\n",
            " 17.3594591   3.22442863  0.79212363 22.92731861  3.70302607 31.11142803\n",
            " 25.4038225   7.67437138 25.26828952 17.96601484  1.64977756  1.45608273\n",
            "  2.90657886 16.07341767 37.0536358   0.49596712  4.62433041  1.66587182\n",
            "  7.64968593 16.89701858 -2.89760957 43.46443102 -2.13643291  6.13772162\n",
            "  5.34784882  6.08170913  7.74255302  8.71594658 12.58567985 20.05699243\n",
            "  6.93106054  6.0629123   2.79500203  4.27338475 11.56684723 10.95938722\n",
            "  3.8288693   6.08245951  8.08794915  5.50382349 22.76850064  6.24454695\n",
            "  9.45717387  8.5665724   7.0289418   1.32028189  7.02957642  8.00621374\n",
            " 27.32296666  8.17538054 20.23121818  3.37059631 12.93480652  1.02447913\n",
            " 51.28167351 60.04359619  2.40364854 12.42226742 16.3099342  -2.26513654\n",
            " 17.92347733  6.11530328  0.44405872  3.65488252 18.75533679  9.19231692\n",
            "  2.02578289  6.33657741 24.87503858 17.67536342  4.13604827 18.0758438\n",
            " -0.64570861 -0.10624379 25.60925503  8.23264291  5.37299801 16.35732777\n",
            " 16.45115887  3.99251168  3.10353132  5.15414799 16.88374023  8.65428995\n",
            "  1.25539261 13.27637885  3.53329508  7.06562859 13.74711765  7.72082731\n",
            "  1.9590824  11.8065889  10.17183882  5.23251952  3.77823795  3.21567534\n",
            " 20.46577235  3.13428557 44.11106206 -0.42519875  2.64858366 10.18092534\n",
            " 20.25482587  7.93957503]\n"
          ],
          "name": "stdout"
        }
      ]
    },
    {
      "cell_type": "code",
      "metadata": {
        "id": "C-w-2_R4_553"
      },
      "source": [
        "RMSE = np.sqrt(metrics.mean_squared_error(Y_test, pred))"
      ],
      "execution_count": 23,
      "outputs": []
    },
    {
      "cell_type": "code",
      "metadata": {
        "id": "VPe3cbsXC0ju",
        "outputId": "677723e5-78a2-4dd4-b120-754075f9c882",
        "colab": {
          "base_uri": "https://localhost:8080/"
        }
      },
      "source": [
        "print(RMSE)"
      ],
      "execution_count": 24,
      "outputs": [
        {
          "output_type": "stream",
          "text": [
            "6.276964899844313\n"
          ],
          "name": "stdout"
        }
      ]
    },
    {
      "cell_type": "markdown",
      "metadata": {
        "id": "8Nncf8PT_iT5"
      },
      "source": [
        "LASSO REGRESSION"
      ]
    },
    {
      "cell_type": "code",
      "metadata": {
        "id": "TChqb4k6twMk"
      },
      "source": [
        "from sklearn.linear_model import Lasso"
      ],
      "execution_count": 25,
      "outputs": []
    },
    {
      "cell_type": "code",
      "metadata": {
        "id": "LsLBULp_uWo6",
        "outputId": "93817fcd-71ac-4a82-ce05-41a337c4a0e7",
        "colab": {
          "base_uri": "https://localhost:8080/"
        }
      },
      "source": [
        "reg = Lasso(alpha=1.0)\n",
        "reg.fit(X_train, Y_train)"
      ],
      "execution_count": 26,
      "outputs": [
        {
          "output_type": "execute_result",
          "data": {
            "text/plain": [
              "Lasso(alpha=1.0, copy_X=True, fit_intercept=True, max_iter=1000,\n",
              "      normalize=False, positive=False, precompute=False, random_state=None,\n",
              "      selection='cyclic', tol=0.0001, warm_start=False)"
            ]
          },
          "metadata": {
            "tags": []
          },
          "execution_count": 26
        }
      ]
    },
    {
      "cell_type": "code",
      "metadata": {
        "id": "Pytec52ZuWrb"
      },
      "source": [
        "pred_lasso= reg.predict(X_test)"
      ],
      "execution_count": 33,
      "outputs": []
    },
    {
      "cell_type": "code",
      "metadata": {
        "id": "oxByYJBX80Vl",
        "outputId": "24d2cd38-1103-458f-d6bc-c1cf3b992a54",
        "colab": {
          "base_uri": "https://localhost:8080/"
        }
      },
      "source": [
        "print(pred_lasso)"
      ],
      "execution_count": 56,
      "outputs": [
        {
          "output_type": "stream",
          "text": [
            "[ 3.98761444 22.2431065  12.71611439 13.15091381  9.84077998  3.97047202\n",
            "  3.98182233  4.5266162   4.54596209  7.4338917   1.02979289  9.07721708\n",
            " 17.3248199   4.43582961  0.70536408 17.44464975  7.94871594 29.29508037\n",
            " 24.95569627 11.18021785 22.35625537 15.45234324  4.99178674  1.29957993\n",
            "  4.54033762 11.05398468 36.10630113  3.08552999  6.58541106  3.26168427\n",
            "  8.93271875 13.57053343 -0.80563997 39.24624721  0.35405652  9.62873387\n",
            "  8.17104502  7.46121032  7.34195759  7.4576877  14.1674319  17.74225072\n",
            "  2.21058222  8.15408858  4.25740158  6.54998684 12.76474065  6.49264029\n",
            "  4.24100569  6.94293944  5.65648633  6.34744897 20.30249456  9.26084536\n",
            "  7.97384135  2.53295237 10.10759241  2.91008109  6.35931521  9.90312567\n",
            " 27.15092177  4.58847738 22.8776724   3.83249068 16.68353035  2.8538389\n",
            " 49.12555394 59.82587922  4.90690046 12.08255839 12.9500553   0.51559748\n",
            " 14.08895417  2.07853507  3.62492308  5.7486813  14.07860321 10.99692768\n",
            "  3.33944074  8.00741852 22.15568815 18.70361074  3.88657459 16.48665157\n",
            "  2.1474077   2.95790591 19.62235711  9.50244663  4.50482247 11.52205538\n",
            " 20.68954628  5.63471747  3.57028147  7.62846732 13.89879195 10.86633511\n",
            "  2.01441951 12.57248391  6.33765903  9.1996898  14.29559487  9.39553558\n",
            "  3.37024264 11.82138926 11.44090012  7.08782821  4.923021    5.01406529\n",
            " 20.6677072   2.74220214 63.10750977  2.6476737   3.97215496 14.84688208\n",
            " 18.49890833  9.16103898]\n"
          ],
          "name": "stdout"
        }
      ]
    },
    {
      "cell_type": "code",
      "metadata": {
        "id": "wfsfc5MKuWuM"
      },
      "source": [
        "RMSE = np.sqrt(metrics.mean_squared_error(Y_test, pred_lasso))"
      ],
      "execution_count": 34,
      "outputs": []
    },
    {
      "cell_type": "code",
      "metadata": {
        "id": "p4nuZauzuWws",
        "outputId": "01bc24ba-c3e9-4d0f-c01b-37920b0b6e2c",
        "colab": {
          "base_uri": "https://localhost:8080/"
        }
      },
      "source": [
        "print(RMSE)"
      ],
      "execution_count": 35,
      "outputs": [
        {
          "output_type": "stream",
          "text": [
            "7.8093684285209735\n"
          ],
          "name": "stdout"
        }
      ]
    },
    {
      "cell_type": "markdown",
      "metadata": {
        "id": "Vo2xcjp1_mxY"
      },
      "source": [
        "RIDGE REGRESSION"
      ]
    },
    {
      "cell_type": "code",
      "metadata": {
        "id": "hBSpyT7_uXJl"
      },
      "source": [
        "from sklearn.linear_model import Ridge"
      ],
      "execution_count": 36,
      "outputs": []
    },
    {
      "cell_type": "code",
      "metadata": {
        "id": "j3kp10TcuXMf",
        "outputId": "54bb5470-2bdb-45e1-f159-b3809cfc8361",
        "colab": {
          "base_uri": "https://localhost:8080/"
        }
      },
      "source": [
        "clf = Ridge(alpha=1.0)\n",
        "clf.fit(X_train, Y_train)"
      ],
      "execution_count": 37,
      "outputs": [
        {
          "output_type": "execute_result",
          "data": {
            "text/plain": [
              "Ridge(alpha=1.0, copy_X=True, fit_intercept=True, max_iter=None,\n",
              "      normalize=False, random_state=None, solver='auto', tol=0.001)"
            ]
          },
          "metadata": {
            "tags": []
          },
          "execution_count": 37
        }
      ]
    },
    {
      "cell_type": "code",
      "metadata": {
        "id": "Baia0WGWuXPg"
      },
      "source": [
        "pred_ridge= clf.predict(X_test)"
      ],
      "execution_count": 38,
      "outputs": []
    },
    {
      "cell_type": "code",
      "metadata": {
        "id": "z8AQZo5K89KO",
        "outputId": "dee6fba2-b7e0-4f25-bd1c-93ef9e8e31d5",
        "colab": {
          "base_uri": "https://localhost:8080/"
        }
      },
      "source": [
        "print(pred_ridge)"
      ],
      "execution_count": 57,
      "outputs": [
        {
          "output_type": "stream",
          "text": [
            "[ 1.78500698 18.72348397 11.14783687  9.30928964 13.18242016  1.85004844\n",
            "  3.13320882  1.5478006   3.64631318  6.49640386 -1.88708842  9.59915868\n",
            " 17.3594591   3.22442863  0.79212363 22.92731861  3.70302607 31.11142803\n",
            " 25.4038225   7.67437138 25.26828952 17.96601484  1.64977756  1.45608273\n",
            "  2.90657886 16.07341767 37.0536358   0.49596712  4.62433041  1.66587182\n",
            "  7.64968593 16.89701858 -2.89760957 43.46443102 -2.13643291  6.13772162\n",
            "  5.34784882  6.08170913  7.74255302  8.71594658 12.58567985 20.05699243\n",
            "  6.93106054  6.0629123   2.79500203  4.27338475 11.56684723 10.95938722\n",
            "  3.8288693   6.08245951  8.08794915  5.50382349 22.76850064  6.24454695\n",
            "  9.45717387  8.5665724   7.0289418   1.32028189  7.02957642  8.00621374\n",
            " 27.32296666  8.17538054 20.23121818  3.37059631 12.93480652  1.02447913\n",
            " 51.28167351 60.04359619  2.40364854 12.42226742 16.3099342  -2.26513654\n",
            " 17.92347733  6.11530328  0.44405872  3.65488252 18.75533679  9.19231692\n",
            "  2.02578289  6.33657741 24.87503858 17.67536342  4.13604827 18.0758438\n",
            " -0.64570861 -0.10624379 25.60925503  8.23264291  5.37299801 16.35732777\n",
            " 16.45115887  3.99251168  3.10353132  5.15414799 16.88374023  8.65428995\n",
            "  1.25539261 13.27637885  3.53329508  7.06562859 13.74711765  7.72082731\n",
            "  1.9590824  11.8065889  10.17183882  5.23251952  3.77823795  3.21567534\n",
            " 20.46577235  3.13428557 44.11106206 -0.42519875  2.64858366 10.18092534\n",
            " 20.25482587  7.93957503]\n"
          ],
          "name": "stdout"
        }
      ]
    },
    {
      "cell_type": "code",
      "metadata": {
        "id": "o4XBR6fzuXRn"
      },
      "source": [
        "RMSE = np.sqrt(metrics.mean_squared_error(Y_test, pred_ridge))"
      ],
      "execution_count": 39,
      "outputs": []
    },
    {
      "cell_type": "code",
      "metadata": {
        "id": "T_xCUtVBvqSt",
        "outputId": "fffb3037-0759-4f71-e634-70b92f9da670",
        "colab": {
          "base_uri": "https://localhost:8080/"
        }
      },
      "source": [
        "print(RMSE)"
      ],
      "execution_count": 40,
      "outputs": [
        {
          "output_type": "stream",
          "text": [
            "6.279079648258132\n"
          ],
          "name": "stdout"
        }
      ]
    },
    {
      "cell_type": "markdown",
      "metadata": {
        "id": "YW2TYvmk_rPX"
      },
      "source": [
        "NEAREST NEIGHBOUR REGRESSOR"
      ]
    },
    {
      "cell_type": "code",
      "metadata": {
        "id": "WESq69MBvqV5",
        "outputId": "d89415d8-6d19-4751-e506-e07cf10812ad",
        "colab": {
          "base_uri": "https://localhost:8080/"
        }
      },
      "source": [
        "from sklearn.neighbors import KNeighborsRegressor\n",
        "neigh = KNeighborsRegressor(n_neighbors=5)\n",
        "neigh.fit(X_train, Y_train)"
      ],
      "execution_count": 41,
      "outputs": [
        {
          "output_type": "execute_result",
          "data": {
            "text/plain": [
              "KNeighborsRegressor(algorithm='auto', leaf_size=30, metric='minkowski',\n",
              "                    metric_params=None, n_jobs=None, n_neighbors=5, p=2,\n",
              "                    weights='uniform')"
            ]
          },
          "metadata": {
            "tags": []
          },
          "execution_count": 41
        }
      ]
    },
    {
      "cell_type": "code",
      "metadata": {
        "id": "6pgKrM21vqY8"
      },
      "source": [
        "pred_knn= neigh.predict(X_test)"
      ],
      "execution_count": 44,
      "outputs": []
    },
    {
      "cell_type": "code",
      "metadata": {
        "id": "OD47wfgU9DTK",
        "outputId": "fcbc97f6-924f-469d-ad06-1ea5d3707bb9",
        "colab": {
          "base_uri": "https://localhost:8080/"
        }
      },
      "source": [
        "print(pred_knn)"
      ],
      "execution_count": 58,
      "outputs": [
        {
          "output_type": "stream",
          "text": [
            "[ 2.1  24.4  12.   13.3   5.5   4.85  3.9   2.5   3.    4.8   6.    5.6\n",
            " 23.    4.9   1.45 23.    7.2  28.6  30.   10.7  20.2  22.    4.4   0.7\n",
            "  3.4   6.3  26.    2.15  7.3   6.4   7.1   8.5   1.8  23.6   2.4  11.4\n",
            "  7.6  10.    4.    6.1  14.4  23.    1.8   9.2   4.    5.7  22.4   8.7\n",
            "  8.7   5.4   5.7   5.3  18.8   8.   18.2   0.7   8.6   1.45  5.1  14.\n",
            " 23.    8.5  20.1   7.3  13.3   0.7  56.   47.6   5.62 17.2  20.2   5.7\n",
            " 27.    1.75  2.25  4.5  12.    8.    5.2   5.5  20.2  11.6   4.8  22.\n",
            "  1.1   2.35 23.6   9.3   8.5  11.8  20.1   3.3   1.65  6.2  22.2   7.5\n",
            "  3.35  9.6   6.4   8.4  15.4  19.4   8.6  15.8   9.4   6.9   4.9   5.9\n",
            " 24.2   3.35 57.    6.81  8.5  14.1  19.8   9.2 ]\n"
          ],
          "name": "stdout"
        }
      ]
    },
    {
      "cell_type": "code",
      "metadata": {
        "id": "YvoyUDJdvqbc",
        "outputId": "6a031660-23d9-4b16-d690-e4ea85eee722",
        "colab": {
          "base_uri": "https://localhost:8080/"
        }
      },
      "source": [
        "RMSE = np.sqrt(metrics.mean_squared_error(Y_test, pred_knn))\n",
        "print(RMSE)"
      ],
      "execution_count": 45,
      "outputs": [
        {
          "output_type": "stream",
          "text": [
            "8.044732427345624\n"
          ],
          "name": "stdout"
        }
      ]
    },
    {
      "cell_type": "markdown",
      "metadata": {
        "id": "7tYkT9td_xmR"
      },
      "source": [
        "SUPPORT VECTOR REGRESSOR"
      ]
    },
    {
      "cell_type": "code",
      "metadata": {
        "id": "wb6V5H7YvrBE",
        "outputId": "8ebba1c1-45df-4f33-afe5-ec06ee811bf5",
        "colab": {
          "base_uri": "https://localhost:8080/"
        }
      },
      "source": [
        "from sklearn.svm import SVR\n",
        "sregressor = SVR(kernel = 'rbf')\n",
        "sregressor.fit(X_train, Y_train)"
      ],
      "execution_count": 46,
      "outputs": [
        {
          "output_type": "execute_result",
          "data": {
            "text/plain": [
              "SVR(C=1.0, cache_size=200, coef0=0.0, degree=3, epsilon=0.1, gamma='scale',\n",
              "    kernel='rbf', max_iter=-1, shrinking=True, tol=0.001, verbose=False)"
            ]
          },
          "metadata": {
            "tags": []
          },
          "execution_count": 46
        }
      ]
    },
    {
      "cell_type": "code",
      "metadata": {
        "id": "pdgj282uvrFG"
      },
      "source": [
        "pred_svr= sregressor.predict(X_test)"
      ],
      "execution_count": 47,
      "outputs": []
    },
    {
      "cell_type": "code",
      "metadata": {
        "id": "vB5U_G089K9p",
        "outputId": "f9567606-eda4-4946-daed-7b6859bdca5e",
        "colab": {
          "base_uri": "https://localhost:8080/"
        }
      },
      "source": [
        "print(pred_svr)"
      ],
      "execution_count": 59,
      "outputs": [
        {
          "output_type": "stream",
          "text": [
            "[ 2.96996011 21.78199717  7.51380715 19.51759329  9.98661551  3.56047438\n",
            "  3.55616805  2.78302788  3.38651292  4.11509873  3.88734316  5.41769659\n",
            " 21.88977841  3.45384389  2.55771778 17.47993581  6.53489477 21.85765697\n",
            " 21.25324362  8.9105487  19.29732718 21.34799689  3.13129659  2.45547825\n",
            "  3.52280539 10.06807416 20.09560471  2.64703737  4.35369726  3.866244\n",
            "  8.17630071  7.78597818  2.37269691 20.35306479  3.00125749 10.99023591\n",
            "  6.50918543  5.70042427  3.30803428  4.99081916 10.90127185 21.35251557\n",
            "  2.39783162  6.83875797  3.30201342  3.53240987 21.87450268  4.7853562\n",
            "  4.71773109  4.89718568  8.10306614  4.22096274 22.02040287 11.77523583\n",
            " 14.45176646  2.44522739 10.26455551  2.19990579  3.64045488  8.73450886\n",
            " 20.98608619  5.07968388 20.66039956  4.86536616 19.90939889  2.44916892\n",
            " 23.40318464 22.22039368  5.67107044 18.54887916 13.70058879  3.48211373\n",
            " 16.7306728   2.62193755  3.14043143  3.49056882  8.00398715  7.23525173\n",
            "  3.99713472  6.38637469 16.11805486 11.18153557  3.10291772 21.64031785\n",
            "  2.47959904  3.05502482 17.79414298 10.75256523  4.92794595  9.60853993\n",
            " 20.15940964  2.93132774  2.34529231 10.36207863 14.54169895  7.08769814\n",
            "  3.05054848 11.30716277  3.8936496  11.19927714  9.0232786  11.66681018\n",
            "  4.08438358 12.73995569  6.38113543  4.99406295  3.45414724  4.91077887\n",
            " 20.73788993  3.084963   17.6096646   6.54229131  4.27528509 20.01348055\n",
            " 21.0136327  11.78024799]\n"
          ],
          "name": "stdout"
        }
      ]
    },
    {
      "cell_type": "code",
      "metadata": {
        "id": "o0YSt6UM0a7h",
        "outputId": "e17da420-c79e-4061-9d7f-f9baa6dc8829",
        "colab": {
          "base_uri": "https://localhost:8080/"
        }
      },
      "source": [
        "RMSE = np.sqrt(metrics.mean_squared_error(Y_test, pred_svr))\n",
        "print(RMSE)"
      ],
      "execution_count": 48,
      "outputs": [
        {
          "output_type": "stream",
          "text": [
            "8.809050257909\n"
          ],
          "name": "stdout"
        }
      ]
    },
    {
      "cell_type": "markdown",
      "metadata": {
        "id": "vuZZ3S71_4nY"
      },
      "source": [
        "TREE REGRESSOR"
      ]
    },
    {
      "cell_type": "code",
      "metadata": {
        "id": "B2w27-kB0n8q",
        "outputId": "a9a42b56-031b-41b5-c3f5-8bd8fd712052",
        "colab": {
          "base_uri": "https://localhost:8080/"
        }
      },
      "source": [
        "from sklearn.tree import DecisionTreeRegressor\n",
        "tregressor = DecisionTreeRegressor(random_state=0)\n",
        "tregressor.fit(X_train, Y_train)"
      ],
      "execution_count": 49,
      "outputs": [
        {
          "output_type": "execute_result",
          "data": {
            "text/plain": [
              "DecisionTreeRegressor(ccp_alpha=0.0, criterion='mse', max_depth=None,\n",
              "                      max_features=None, max_leaf_nodes=None,\n",
              "                      min_impurity_decrease=0.0, min_impurity_split=None,\n",
              "                      min_samples_leaf=1, min_samples_split=2,\n",
              "                      min_weight_fraction_leaf=0.0, presort='deprecated',\n",
              "                      random_state=0, splitter='best')"
            ]
          },
          "metadata": {
            "tags": []
          },
          "execution_count": 49
        }
      ]
    },
    {
      "cell_type": "code",
      "metadata": {
        "id": "06K4kZuq0oAK"
      },
      "source": [
        "pred_tree= tregressor.predict(X_test)"
      ],
      "execution_count": 50,
      "outputs": []
    },
    {
      "cell_type": "code",
      "metadata": {
        "id": "8vCgVu789RPl",
        "outputId": "80e4f2a2-ae9e-4aa8-9f47-4cf8a94f2b51",
        "colab": {
          "base_uri": "https://localhost:8080/"
        }
      },
      "source": [
        "print(pred_tree)"
      ],
      "execution_count": 60,
      "outputs": [
        {
          "output_type": "stream",
          "text": [
            "[ 0.25 12.    1.   15.   12.    0.75  2.5   0.5   5.    5.    2.   12.\n",
            " 15.    2.    0.5  20.   15.   20.   25.    6.   24.   15.    2.5   5.\n",
            "  3.   15.   28.    2.5   4.    3.5  18.    9.    0.5  40.    1.   10.\n",
            "  1.    6.    2.5   9.    7.    4.    5.    9.    5.5   0.75  1.5   6.\n",
            "  5.    8.    7.   15.   35.    6.    6.    6.   10.    0.75  6.   15.\n",
            " 28.    7.   18.    3.    8.    0.5  50.   45.    5.    2.5  18.    1.\n",
            " 20.    3.5   3.    1.5  13.   15.    2.    5.   30.    8.    2.5  12.\n",
            "  0.25  5.   30.   20.    5.   12.    8.    1.    0.75  9.   10.    7.\n",
            "  1.5  20.   12.    8.    7.    4.    5.   20.    6.    2.   10.    8.\n",
            " 10.    6.   16.    1.5   3.5  15.   15.   20.  ]\n"
          ],
          "name": "stdout"
        }
      ]
    },
    {
      "cell_type": "code",
      "metadata": {
        "id": "SKlbVHWD0oDv",
        "outputId": "d4d5bbbd-b45c-440f-df67-e71f7801c278",
        "colab": {
          "base_uri": "https://localhost:8080/"
        }
      },
      "source": [
        "RMSE = np.sqrt(metrics.mean_squared_error(Y_test, pred_tree))\n",
        "print(RMSE)"
      ],
      "execution_count": 51,
      "outputs": [
        {
          "output_type": "stream",
          "text": [
            "6.63698493033676\n"
          ],
          "name": "stdout"
        }
      ]
    },
    {
      "cell_type": "markdown",
      "metadata": {
        "id": "x-fMqULt_7k-"
      },
      "source": [
        "RANDOM FOREST REGRESSOR"
      ]
    },
    {
      "cell_type": "code",
      "metadata": {
        "id": "Cc6Js7Oa0oJl",
        "outputId": "81939d1e-150b-4323-8fef-c970af9c9f6f",
        "colab": {
          "base_uri": "https://localhost:8080/"
        }
      },
      "source": [
        "from sklearn.ensemble import RandomForestRegressor\n",
        "rregressor = RandomForestRegressor(n_estimators = 100, random_state = 0)\n",
        "rregressor.fit(X_train, Y_train)"
      ],
      "execution_count": 52,
      "outputs": [
        {
          "output_type": "execute_result",
          "data": {
            "text/plain": [
              "RandomForestRegressor(bootstrap=True, ccp_alpha=0.0, criterion='mse',\n",
              "                      max_depth=None, max_features='auto', max_leaf_nodes=None,\n",
              "                      max_samples=None, min_impurity_decrease=0.0,\n",
              "                      min_impurity_split=None, min_samples_leaf=1,\n",
              "                      min_samples_split=2, min_weight_fraction_leaf=0.0,\n",
              "                      n_estimators=100, n_jobs=None, oob_score=False,\n",
              "                      random_state=0, verbose=0, warm_start=False)"
            ]
          },
          "metadata": {
            "tags": []
          },
          "execution_count": 52
        }
      ]
    },
    {
      "cell_type": "code",
      "metadata": {
        "id": "1o4A8lea0a-V"
      },
      "source": [
        "pred_rftree= rregressor.predict(X_test)"
      ],
      "execution_count": 53,
      "outputs": []
    },
    {
      "cell_type": "code",
      "metadata": {
        "id": "s_vRJ0ur9Y8g",
        "outputId": "63bf70bb-997a-4a73-b3b5-8db479d2ff88",
        "colab": {
          "base_uri": "https://localhost:8080/"
        }
      },
      "source": [
        "print(pred_rftree)"
      ],
      "execution_count": 61,
      "outputs": [
        {
          "output_type": "stream",
          "text": [
            "[ 1.374  17.465   6.001  12.68    8.79    1.995   3.855   1.635   4.44\n",
            "  6.825   3.278   8.54   17.17    5.14    2.0125 16.2     6.645  24.92\n",
            " 21.415   8.61   30.08   19.05    3.625   1.83    4.3325 10.97   30.04\n",
            "  2.6365  4.513   5.0755 11.055  17.48    0.71   34.76    1.488  10.675\n",
            "  7.025   9.155   5.5415  8.515  11.18   16.19    2.835   5.9005  3.993\n",
            "  4.8825  6.87    5.702   5.656   7.13    6.95    5.775  29.05    9.375\n",
            "  9.615   3.4205 10.6     0.756   6.75    8.17   25.66    5.6685 17.125\n",
            "  6.39   14.71    1.321  50.78   53.53    6.031   8.49   20.695   2.839\n",
            " 21.24    3.2275  3.085   3.05   15.63    7.681   3.1065  7.975  29.19\n",
            " 15.065   3.71   17.08    1.315   2.89   27.12   11.395   5.497  13.74\n",
            " 20.295   2.9075  2.753   6.7    17.075  10.545   3.0225 14.125   6.2075\n",
            " 10.4    13.27   10.16    4.93   13.025   9.51    5.1985  3.855   6.415\n",
            " 15.325   3.5715 35.105   2.667   4.6155 11.865  15.53   10.67  ]\n"
          ],
          "name": "stdout"
        }
      ]
    },
    {
      "cell_type": "code",
      "metadata": {
        "id": "SjUGwUex0bB_",
        "outputId": "e6abe948-924f-41fc-b5a8-d355a0ea22e9",
        "colab": {
          "base_uri": "https://localhost:8080/"
        }
      },
      "source": [
        "RMSE = np.sqrt(metrics.mean_squared_error(Y_test, pred_rftree))\n",
        "print(RMSE)"
      ],
      "execution_count": 54,
      "outputs": [
        {
          "output_type": "stream",
          "text": [
            "5.541554655704045\n"
          ],
          "name": "stdout"
        }
      ]
    },
    {
      "cell_type": "markdown",
      "metadata": {
        "id": "PxOQsgZMAAj-"
      },
      "source": [
        "GRADIENT BOOSTING REGRESSOR"
      ]
    },
    {
      "cell_type": "code",
      "metadata": {
        "id": "fzNdOot10bEX",
        "outputId": "f1aa83c6-a16e-4783-ea33-625c9b04f43d",
        "colab": {
          "base_uri": "https://localhost:8080/"
        }
      },
      "source": [
        "from sklearn.ensemble import GradientBoostingRegressor\n",
        "REGGB = GradientBoostingRegressor(random_state=0)\n",
        "REGGB.fit(X_train, Y_train)"
      ],
      "execution_count": 62,
      "outputs": [
        {
          "output_type": "execute_result",
          "data": {
            "text/plain": [
              "GradientBoostingRegressor(alpha=0.9, ccp_alpha=0.0, criterion='friedman_mse',\n",
              "                          init=None, learning_rate=0.1, loss='ls', max_depth=3,\n",
              "                          max_features=None, max_leaf_nodes=None,\n",
              "                          min_impurity_decrease=0.0, min_impurity_split=None,\n",
              "                          min_samples_leaf=1, min_samples_split=2,\n",
              "                          min_weight_fraction_leaf=0.0, n_estimators=100,\n",
              "                          n_iter_no_change=None, presort='deprecated',\n",
              "                          random_state=0, subsample=1.0, tol=0.0001,\n",
              "                          validation_fraction=0.1, verbose=0, warm_start=False)"
            ]
          },
          "metadata": {
            "tags": []
          },
          "execution_count": 62
        }
      ]
    },
    {
      "cell_type": "code",
      "metadata": {
        "id": "omX6Q8W00bHO"
      },
      "source": [
        "pred_GB= REGGB.predict(X_test)"
      ],
      "execution_count": 63,
      "outputs": []
    },
    {
      "cell_type": "code",
      "metadata": {
        "id": "aE_00muJ0bJ9",
        "outputId": "69b550b1-2b3d-43ff-93f1-7d1a2de27214",
        "colab": {
          "base_uri": "https://localhost:8080/"
        }
      },
      "source": [
        "print(pred_GB)"
      ],
      "execution_count": 64,
      "outputs": [
        {
          "output_type": "stream",
          "text": [
            "[ 0.90602794 17.36769438  3.67429342 12.3262993   5.53109106  1.3413235\n",
            "  3.27744022  0.79605546  3.72802815  8.12268384  1.51902835  8.2818338\n",
            " 12.81526617  5.52612824  0.52602921 15.1372918   4.52105033 26.30567518\n",
            " 22.74718303  7.11233871 34.19974225 21.34991767  2.09862128  1.40852057\n",
            "  6.70277386 11.95428973 34.04133058  2.45857871  5.52886373  2.96008766\n",
            " 11.84579843 22.6858592  -0.87868668 37.42019142 -0.69540258 10.4433931\n",
            "  7.16794027  9.03649679  6.85871098  9.67772158 12.39373294 12.59786345\n",
            "  2.65693934  0.66630728  4.53757393  4.29127193  6.75686804  2.57897826\n",
            "  3.92414275  6.90057126  8.49939722  5.10781931 25.57408887  8.4838468\n",
            "  9.64916812  3.64031799 11.07844146 -0.68871505  6.47479041  4.42310306\n",
            " 22.23017467  7.2822515  16.06212956  4.96028098 11.16066525 -0.73163042\n",
            " 46.8426356  55.2116949   6.73168121  3.66694871 19.93182568 -0.28366495\n",
            " 21.39886321  3.70040191  3.09788967  2.55350379 18.9940213   3.82845814\n",
            "  3.71617582  5.47702094 37.86869863 16.21194307  4.1441723  18.52861598\n",
            " -0.07686171  2.06541463 30.22610733 11.81595241  4.55566384 18.14002671\n",
            " 20.98288825  3.12397393  3.43233531  1.81709427 15.85225555  9.05037888\n",
            "  1.90737432 12.41663005  6.63893398 10.38800076 13.65422319  7.09304555\n",
            "  5.28347455  9.71166904  9.43665693  4.45838084  5.01651261  7.25864234\n",
            " 12.49995465  2.35560754 31.45985337  0.91223     3.67632081  6.04241176\n",
            " 16.61133205 12.90931057]\n"
          ],
          "name": "stdout"
        }
      ]
    },
    {
      "cell_type": "code",
      "metadata": {
        "id": "hYtPLjGS0bM-",
        "outputId": "ea78869c-e719-4268-f17d-2a93cb67ea2f",
        "colab": {
          "base_uri": "https://localhost:8080/"
        }
      },
      "source": [
        "RMSE = np.sqrt(metrics.mean_squared_error(Y_test, pred_GB))\n",
        "print(RMSE)"
      ],
      "execution_count": 65,
      "outputs": [
        {
          "output_type": "stream",
          "text": [
            "5.347902407831462\n"
          ],
          "name": "stdout"
        }
      ]
    }
  ]
}