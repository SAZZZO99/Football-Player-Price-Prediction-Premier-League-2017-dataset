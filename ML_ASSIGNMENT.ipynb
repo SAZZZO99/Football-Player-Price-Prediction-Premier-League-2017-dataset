{
  "nbformat": 4,
  "nbformat_minor": 0,
  "metadata": {
    "colab": {
      "name": "ML ASSIGNMENT.ipynb",
      "provenance": []
    },
    "kernelspec": {
      "name": "python3",
      "display_name": "Python 3"
    },
    "widgets": {
      "application/vnd.jupyter.widget-state+json": {
        "1a0034050f114af4974202e7d7502068": {
          "model_module": "@jupyter-widgets/controls",
          "model_name": "HBoxModel",
          "state": {
            "_view_name": "HBoxView",
            "_dom_classes": [],
            "_model_name": "HBoxModel",
            "_view_module": "@jupyter-widgets/controls",
            "_model_module_version": "1.5.0",
            "_view_count": null,
            "_view_module_version": "1.5.0",
            "box_style": "",
            "layout": "IPY_MODEL_9059e89373f14846b1061174e61de64e",
            "_model_module": "@jupyter-widgets/controls",
            "children": [
              "IPY_MODEL_0230e7f129cd48b3881ed8323f9c06ae",
              "IPY_MODEL_6d5ba42ba8ff4c498dea36061c723cc7"
            ]
          }
        },
        "9059e89373f14846b1061174e61de64e": {
          "model_module": "@jupyter-widgets/base",
          "model_name": "LayoutModel",
          "state": {
            "_view_name": "LayoutView",
            "grid_template_rows": null,
            "right": null,
            "justify_content": null,
            "_view_module": "@jupyter-widgets/base",
            "overflow": null,
            "_model_module_version": "1.2.0",
            "_view_count": null,
            "flex_flow": null,
            "width": null,
            "min_width": null,
            "border": null,
            "align_items": null,
            "bottom": null,
            "_model_module": "@jupyter-widgets/base",
            "top": null,
            "grid_column": null,
            "overflow_y": null,
            "overflow_x": null,
            "grid_auto_flow": null,
            "grid_area": null,
            "grid_template_columns": null,
            "flex": null,
            "_model_name": "LayoutModel",
            "justify_items": null,
            "grid_row": null,
            "max_height": null,
            "align_content": null,
            "visibility": null,
            "align_self": null,
            "height": null,
            "min_height": null,
            "padding": null,
            "grid_auto_rows": null,
            "grid_gap": null,
            "max_width": null,
            "order": null,
            "_view_module_version": "1.2.0",
            "grid_template_areas": null,
            "object_position": null,
            "object_fit": null,
            "grid_auto_columns": null,
            "margin": null,
            "display": null,
            "left": null
          }
        },
        "0230e7f129cd48b3881ed8323f9c06ae": {
          "model_module": "@jupyter-widgets/controls",
          "model_name": "FloatProgressModel",
          "state": {
            "_view_name": "ProgressView",
            "style": "IPY_MODEL_2aa43f1dd0414d5e82a1e83f1af44943",
            "_dom_classes": [],
            "description": "Optimization Progress: 100%",
            "_model_name": "FloatProgressModel",
            "bar_style": "",
            "max": 3300,
            "_view_module": "@jupyter-widgets/controls",
            "_model_module_version": "1.5.0",
            "value": 3300,
            "_view_count": null,
            "_view_module_version": "1.5.0",
            "orientation": "horizontal",
            "min": 0,
            "description_tooltip": null,
            "_model_module": "@jupyter-widgets/controls",
            "layout": "IPY_MODEL_dc219655805b40fdb3dbe0e6c586b793"
          }
        },
        "6d5ba42ba8ff4c498dea36061c723cc7": {
          "model_module": "@jupyter-widgets/controls",
          "model_name": "HTMLModel",
          "state": {
            "_view_name": "HTMLView",
            "style": "IPY_MODEL_a2396bd5182843e6bbc5f3c1f1a084bb",
            "_dom_classes": [],
            "description": "",
            "_model_name": "HTMLModel",
            "placeholder": "​",
            "_view_module": "@jupyter-widgets/controls",
            "_model_module_version": "1.5.0",
            "value": " 3300/3300 [44:19&lt;00:00,  1.30pipeline/s]",
            "_view_count": null,
            "_view_module_version": "1.5.0",
            "description_tooltip": null,
            "_model_module": "@jupyter-widgets/controls",
            "layout": "IPY_MODEL_595136c5317348a589ea48a45408eda3"
          }
        },
        "2aa43f1dd0414d5e82a1e83f1af44943": {
          "model_module": "@jupyter-widgets/controls",
          "model_name": "ProgressStyleModel",
          "state": {
            "_view_name": "StyleView",
            "_model_name": "ProgressStyleModel",
            "description_width": "initial",
            "_view_module": "@jupyter-widgets/base",
            "_model_module_version": "1.5.0",
            "_view_count": null,
            "_view_module_version": "1.2.0",
            "bar_color": null,
            "_model_module": "@jupyter-widgets/controls"
          }
        },
        "dc219655805b40fdb3dbe0e6c586b793": {
          "model_module": "@jupyter-widgets/base",
          "model_name": "LayoutModel",
          "state": {
            "_view_name": "LayoutView",
            "grid_template_rows": null,
            "right": null,
            "justify_content": null,
            "_view_module": "@jupyter-widgets/base",
            "overflow": null,
            "_model_module_version": "1.2.0",
            "_view_count": null,
            "flex_flow": null,
            "width": null,
            "min_width": null,
            "border": null,
            "align_items": null,
            "bottom": null,
            "_model_module": "@jupyter-widgets/base",
            "top": null,
            "grid_column": null,
            "overflow_y": null,
            "overflow_x": null,
            "grid_auto_flow": null,
            "grid_area": null,
            "grid_template_columns": null,
            "flex": null,
            "_model_name": "LayoutModel",
            "justify_items": null,
            "grid_row": null,
            "max_height": null,
            "align_content": null,
            "visibility": null,
            "align_self": null,
            "height": null,
            "min_height": null,
            "padding": null,
            "grid_auto_rows": null,
            "grid_gap": null,
            "max_width": null,
            "order": null,
            "_view_module_version": "1.2.0",
            "grid_template_areas": null,
            "object_position": null,
            "object_fit": null,
            "grid_auto_columns": null,
            "margin": null,
            "display": null,
            "left": null
          }
        },
        "a2396bd5182843e6bbc5f3c1f1a084bb": {
          "model_module": "@jupyter-widgets/controls",
          "model_name": "DescriptionStyleModel",
          "state": {
            "_view_name": "StyleView",
            "_model_name": "DescriptionStyleModel",
            "description_width": "",
            "_view_module": "@jupyter-widgets/base",
            "_model_module_version": "1.5.0",
            "_view_count": null,
            "_view_module_version": "1.2.0",
            "_model_module": "@jupyter-widgets/controls"
          }
        },
        "595136c5317348a589ea48a45408eda3": {
          "model_module": "@jupyter-widgets/base",
          "model_name": "LayoutModel",
          "state": {
            "_view_name": "LayoutView",
            "grid_template_rows": null,
            "right": null,
            "justify_content": null,
            "_view_module": "@jupyter-widgets/base",
            "overflow": null,
            "_model_module_version": "1.2.0",
            "_view_count": null,
            "flex_flow": null,
            "width": null,
            "min_width": null,
            "border": null,
            "align_items": null,
            "bottom": null,
            "_model_module": "@jupyter-widgets/base",
            "top": null,
            "grid_column": null,
            "overflow_y": null,
            "overflow_x": null,
            "grid_auto_flow": null,
            "grid_area": null,
            "grid_template_columns": null,
            "flex": null,
            "_model_name": "LayoutModel",
            "justify_items": null,
            "grid_row": null,
            "max_height": null,
            "align_content": null,
            "visibility": null,
            "align_self": null,
            "height": null,
            "min_height": null,
            "padding": null,
            "grid_auto_rows": null,
            "grid_gap": null,
            "max_width": null,
            "order": null,
            "_view_module_version": "1.2.0",
            "grid_template_areas": null,
            "object_position": null,
            "object_fit": null,
            "grid_auto_columns": null,
            "margin": null,
            "display": null,
            "left": null
          }
        }
      }
    }
  },
  "cells": [
    {
      "cell_type": "code",
      "metadata": {
        "id": "Os1PrRNpzd7z"
      },
      "source": [
        "import numpy as np\n",
        "import pandas as pd\n",
        "import matplotlib.pyplot as plt\n",
        "import seaborn as sns\n",
        "%matplotlib inline"
      ],
      "execution_count": 27,
      "outputs": []
    },
    {
      "cell_type": "code",
      "metadata": {
        "id": "hLGdNh6iz7Rp"
      },
      "source": [
        "from google.colab import files"
      ],
      "execution_count": 28,
      "outputs": []
    },
    {
      "cell_type": "code",
      "metadata": {
        "id": "aMRLNF3dz7UV",
        "outputId": "a081ffda-9da3-4b13-ad58-7114e69b0398",
        "colab": {
          "resources": {
            "http://localhost:8080/nbextensions/google.colab/files.js": {
              "data": "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",
              "ok": true,
              "headers": [
                [
                  "content-type",
                  "application/javascript"
                ]
              ],
              "status": 200,
              "status_text": ""
            }
          },
          "base_uri": "https://localhost:8080/",
          "height": 72
        }
      },
      "source": [
        "uploaded = files.upload()"
      ],
      "execution_count": 29,
      "outputs": [
        {
          "output_type": "display_data",
          "data": {
            "text/html": [
              "\n",
              "     <input type=\"file\" id=\"files-e23d2065-a96a-4b39-af35-df20b74e09f9\" name=\"files[]\" multiple disabled\n",
              "        style=\"border:none\" />\n",
              "     <output id=\"result-e23d2065-a96a-4b39-af35-df20b74e09f9\">\n",
              "      Upload widget is only available when the cell has been executed in the\n",
              "      current browser session. Please rerun this cell to enable.\n",
              "      </output>\n",
              "      <script src=\"/nbextensions/google.colab/files.js\"></script> "
            ],
            "text/plain": [
              "<IPython.core.display.HTML object>"
            ]
          },
          "metadata": {
            "tags": []
          }
        },
        {
          "output_type": "stream",
          "text": [
            "Saving football_CLEAN.csv to football_CLEAN.csv\n"
          ],
          "name": "stdout"
        }
      ]
    },
    {
      "cell_type": "code",
      "metadata": {
        "id": "LVV2unvJz7Xf",
        "outputId": "f54f36f9-7c27-40a3-c7ce-6f9106dab53a",
        "colab": {
          "base_uri": "https://localhost:8080/"
        }
      },
      "source": [
        "for fn in uploaded.keys():\n",
        "  print('User uploaded file \"{name}\" with length {length} bytes'.format(\n",
        "      name=fn, length=len(uploaded[fn])))"
      ],
      "execution_count": 30,
      "outputs": [
        {
          "output_type": "stream",
          "text": [
            "User uploaded file \"football_CLEAN.csv\" with length 34648 bytes\n"
          ],
          "name": "stdout"
        }
      ]
    },
    {
      "cell_type": "code",
      "metadata": {
        "id": "rD4Xfcq3z7aJ",
        "outputId": "ebede66d-87f4-4493-f698-b6bc1939472d",
        "colab": {
          "base_uri": "https://localhost:8080/"
        }
      },
      "source": [
        "uploaded"
      ],
      "execution_count": 31,
      "outputs": [
        {
          "output_type": "execute_result",
          "data": {
            "text/plain": [
              "{'football_CLEAN.csv': b\"name,club,age,position,position_cat,market_value,page_views,fpl_value,fpl_sel,fpl_points,region,nationality,new_foreign,age_cat,club_id,big_club,new_signing\\r\\nAlexis Sanchez,Arsenal,28,LW,1,65,4329,12,17.10%,264,3,Chile,0,4,1,1,0\\r\\nMesut Ozil,Arsenal,28,AM,1,50,4395,9.5,5.60%,167,2,Germany,0,4,1,1,0\\r\\nPetr Cech,Arsenal,35,GK,4,7,1529,5.5,5.90%,134,2,Czech Republic,0,6,1,1,0\\r\\nTheo Walcott,Arsenal,28,RW,1,20,2393,7.5,1.50%,122,1,England,0,4,1,1,0\\r\\nLaurent Koscielny,Arsenal,31,CB,3,22,912,6,0.70%,121,2,France,0,4,1,1,0\\r\\nHector Bellerin,Arsenal,22,RB,3,30,1675,6,13.70%,119,2,Spain,0,2,1,1,0\\r\\nOlivier Giroud,Arsenal,30,CF,1,22,2230,8.5,2.50%,116,2,France,0,4,1,1,0\\r\\nNacho Monreal,Arsenal,31,LB,3,13,555,5.5,4.70%,115,2,Spain,0,4,1,1,0\\r\\nShkodran Mustafi,Arsenal,25,CB,3,30,1877,5.5,4.00%,90,2,Germany,0,3,1,1,1\\r\\nAlex Iwobi,Arsenal,21,LW,1,10,1812,5.5,1.00%,89,4,Nigeria,0,1,1,1,0\\r\\nGranit Xhaka,Arsenal,24,DM,2,35,1815,5.5,2.00%,85,2,Switzerland,0,2,1,1,0\\r\\nAlex Oxlade-Chamberlain,Arsenal,23,RM,2,22,1519,6,1.80%,83,1,England,0,2,1,1,0\\r\\nJack Wilshere,Arsenal,25,CM,2,18,1759,5.5,0.00%,61,1,England,0,3,1,1,0\\r\\nAaron Ramsey,Arsenal,26,CM,2,35,1040,7,5.10%,56,1,Wales,0,3,1,1,0\\r\\nFrancis Coquelin,Arsenal,26,DM,2,15,549,4.5,1.70%,52,2,France,0,3,1,1,0\\r\\nGabriel Paulista,Arsenal,26,CB,3,13,552,5,0.10%,45,3,Brazil,0,3,1,1,0\\r\\nKieran Gibbs,Arsenal,27,LB,3,10,489,5,0.50%,45,1,England,0,3,1,1,0\\r\\nSanti Cazorla,Arsenal,32,CM,2,12,943,7,0.10%,38,2,Spain,0,5,1,1,0\\r\\nDanny Welbeck,Arsenal,26,CF,1,15,1521,7.5,0.50%,37,1,England,0,3,1,1,0\\r\\nRob Holding,Arsenal,21,CB,3,7,666,5,1.70%,32,1,England,0,1,1,1,1\\r\\nMohamed Elneny,Arsenal,25,DM,2,10,683,4.5,0.80%,26,4,Egypt,0,3,1,1,0\\r\\nLucas Perez,Arsenal,28,CF,1,15,2055,7.5,0.10%,20,2,Spain,0,4,1,1,1\\r\\nEmiliano Martinez,Arsenal,24,GK,4,1,372,4,4.20%,8,3,Argentina,0,2,1,1,0\\r\\nDavid Ospina,Arsenal,28,GK,4,7,544,5,0.20%,2,3,Colombia,0,4,1,1,0\\r\\nCarl Jenkinson,Arsenal,25,RB,3,5,561,4.5,0.40%,2,1,England,0,3,1,1,0\\r\\nPer Mertesacker,Arsenal,32,CB,3,6,702,5,1.00%,1,2,Germany,0,5,1,1,0\\r\\nSead Kolasinac,Arsenal,24,LB,3,15,618,6,6.90%,0,2,Bosnia,1,2,1,1,0\\r\\nAlexandre Lacazette,Arsenal,26,CF,1,40,1183,10.5,26.50%,0,2,France,1,3,1,1,0\\r\\nJoshua King,Bournemouth,25,SS,1,8,997,7.5,10.40%,178,2,Norway,0,3,2,0,0\\r\\nJermain Defoe,Bournemouth,34,CF,1,5,3213,8,15.00%,166,1,England,0,6,2,0,0\\r\\nCharlie Daniels,Bournemouth,30,LB,3,3,185,5,19.80%,134,1,England,0,4,2,0,0\\r\\nArtur Boruc,Bournemouth,37,GK,4,1,436,4.5,6.90%,120,2,Poland,0,6,2,0,0\\r\\nSteve Cook,Bournemouth,26,CB,3,5,184,5,2.00%,112,1,England,0,3,2,0,0\\r\\nJunior Stanislas,Bournemouth,27,LW,1,4.5,315,6,0.60%,107,1,England,0,3,2,0,0\\r\\nAdam Smith,Bournemouth,26,RB,3,5,200,5,0.90%,104,1,England,0,3,2,0,0\\r\\nRyan Fraser,Bournemouth,23,LW,1,5,516,5.5,1.60%,100,2,Scotland,0,2,2,0,0\\r\\nSimon Francis,Bournemouth,32,RB,3,2.5,167,4.5,4.00%,89,1,England,0,5,2,0,0\\r\\nBenik Afobe,Bournemouth,24,CF,1,10,528,6,0.70%,88,4,Congo DR,0,2,2,0,0\\r\\nHarry Arter,Bournemouth,27,CM,2,2.5,666,5,0.90%,84,2,Ireland,0,3,2,0,0\\r\\nMarc Pugh,Bournemouth,30,LW,1,2,140,5,0.10%,64,1,England,0,4,2,0,0\\r\\nCallum Wilson,Bournemouth,25,CF,1,10,337,6,0.20%,63,1,England,0,3,2,0,0\\r\\nNathan Ake,Bournemouth,22,CB,3,8,1274,5,11.50%,55,2,Netherlands,0,2,2,0,0\\r\\nDan Gosling,Bournemouth,27,CM,2,3,184,5,0.10%,49,1,England,0,3,2,0,0\\r\\nAndrew Surman,Bournemouth,30,CM,2,2,154,4.5,1.10%,44,1,England,0,4,2,0,0\\r\\nJordon Ibe,Bournemouth,21,RW,1,8,504,5,0.40%,36,1,England,0,1,2,0,0\\r\\nLewis Cook,Bournemouth,20,CM,2,6,243,4.5,0.80%,17,1,England,0,1,2,0,0\\r\\nLys Mousset,Bournemouth,21,CF,1,4,131,5,0.10%,14,2,France,0,1,2,0,0\\r\\nAdam Federici,Bournemouth,32,GK,4,1,126,4,1.50%,8,4,Australia,0,5,2,0,0\\r\\nMax Gradel,Bournemouth,29,LW,1,7,287,5,0.10%,8,4,Cote d'Ivoire,0,4,2,0,0\\r\\nTyrone Mings,Bournemouth,24,CB,3,5,422,4.5,0.40%,4,1,England,0,2,2,0,0\\r\\nBrad Smith,Bournemouth,23,LB,3,2,297,4,3.30%,4,4,Australia,0,2,2,0,0\\r\\nAsmir Begovic,Bournemouth,30,GK,4,8,697,4.5,9.30%,2,2,Bosnia,0,4,2,0,0\\r\\nNiki Maenpaa,Brighton+and+Hove,32,GK,4,0.25,103,4,2.10%,0,2,Finland,0,5,3,0,0\\r\\nMathew Ryan,Brighton+and+Hove,25,GK,4,3.5,344,4.5,1.50%,0,4,Australia,0,3,3,0,0\\r\\nLewis Dunk,Brighton+and+Hove,25,CB,3,5,140,4.5,4.10%,0,1,England,0,3,3,0,0\\r\\nShane Duffy,Brighton+and+Hove,25,CB,3,5,243,4.5,0.60%,0,2,Ireland,0,3,3,0,0\\r\\nUwe Hunemeier,Brighton+and+Hove,31,CB,3,1.5,88,4,8.00%,0,2,Germany,0,4,3,0,0\\r\\nBruno,Brighton+and+Hove,36,RB,1,0.5,215,4.5,0.40%,0,3,Argentina,0,6,3,0,0\\r\\nGaetan Bong,Brighton+and+Hove,29,LB,3,1.5,97,4.5,0.20%,0,4,Cameroon,0,4,3,0,0\\r\\nLiam Rosenior,Brighton+and+Hove,33,RB,3,1,132,4,3.20%,0,1,England,0,5,3,0,0\\r\\nConnor Goldson,Brighton+and+Hove,24,CB,3,0.75,52,4,0.80%,0,1,England,0,2,3,0,0\\r\\nMarkus Suttner,Brighton+and+Hove,30,LB,3,2,23,4.5,0.20%,0,2,Austria,0,4,3,0,0\\r\\nAnthony Knockaert,Brighton+and+Hove,25,RW,1,8,726,6,4.80%,0,2,France,0,3,3,0,0\\r\\nDale Stephens,Brighton+and+Hove,27,CM,2,5,122,4.5,0.90%,0,1,England,0,3,3,0,0\\r\\nBeram Kayal,Brighton+and+Hove,29,CM,2,1.25,167,4.5,0.30%,0,4,Israel,0,4,3,0,0\\r\\nSteve Sidwell,Brighton+and+Hove,34,CM,2,1,461,4.5,0.60%,0,1,England,0,6,3,0,0\\r\\nSolly March,Brighton+and+Hove,23,RM,2,0.5,139,5,0.20%,0,1,England,0,2,3,0,0\\r\\nJiri Skalak,Brighton+and+Hove,25,LW,1,1.5,87,5,0.10%,0,2,Czech Republic,0,3,3,0,0\\r\\nOliver Norwood,Brighton+and+Hove,26,CM,2,2.5,134,4.5,0.20%,0,2,Northern Ireland,0,3,3,0,0\\r\\nJamie Murphy,Brighton+and+Hove,27,LW,1,1.75,114,5,0.10%,0,2,Scotland,0,3,3,0,0\\r\\nPascal Gross,Brighton+and+Hove,26,CM,2,4,22,5.5,0.30%,0,2,Germany,0,3,3,0,0\\r\\nGlenn Murray,Brighton+and+Hove,33,CF,1,3.5,496,6,1.30%,0,1,England,0,5,3,0,0\\r\\nTomer Hemed,Brighton+and+Hove,30,CF,1,2.5,253,5,0.40%,0,4,Israel,0,4,3,0,0\\r\\nSam Baldock,Brighton+and+Hove,28,CF,1,3,204,5,0.20%,0,1,England,0,4,3,0,0\\r\\nTom Heaton,Burnley,31,GK,4,4,717,5,13.50%,149,1,England,0,4,4,0,0\\r\\nSam Vokes,Burnley,27,CF,1,4.5,290,6,2.90%,121,2,Wales,0,3,4,0,0\\r\\nAndre Gray,Burnley,26,CF,1,10,687,6.5,1.70%,108,1,England,0,3,4,0,0\\r\\nBen Mee,Burnley,27,CB,3,6,166,4.5,13.70%,94,1,England,0,3,4,0,0\\r\\nStephen Ward,Burnley,31,LB,3,1.5,152,4.5,2.50%,91,2,Ireland,0,4,4,0,0\\r\\nMatthew Lowton,Burnley,28,RB,3,2.5,121,4.5,1.20%,90,1,England,0,4,4,0,0\\r\\nAshley Barnes,Burnley,27,CF,1,2.5,287,5.5,1.20%,81,1,England,0,3,4,0,0\\r\\nJeff Hendrick,Burnley,25,CM,2,6,352,5.5,0.20%,76,2,Ireland,0,3,4,0,1\\r\\nScott Arfield,Burnley,28,LM,2,3,304,5,0.10%,69,3,Canada,0,4,4,0,0\\r\\nSteven Defour,Burnley,29,CM,2,6,336,5.5,0.20%,54,2,Belgium,0,4,4,0,1\\r\\nDean Marney,Burnley,33,CM,2,1,171,4.5,0.00%,51,1,England,0,5,4,0,0\\r\\nJack Cork,Burnley,28,DM,2,5,204,4.5,0.50%,50,1,England,0,4,4,0,0\\r\\nJohann Berg Gudmundsson,Burnley,26,RW,1,2.5,180,5,0.10%,47,2,Iceland,0,3,4,0,1\\r\\nRobbie Brady,Burnley,25,LM,2,10,614,5.5,0.40%,39,2,Ireland,0,3,4,0,0\\r\\nJames Tarkowski,Burnley,24,CB,3,2,116,4.5,0.10%,23,1,England,0,2,4,0,0\\r\\nAshley Westwood,Burnley,27,DM,2,4,161,4.5,0.10%,13,1,England,0,3,4,0,0\\r\\nKevin Long,Burnley,26,CB,3,0.5,68,4,1.70%,3,2,Ireland,0,3,4,0,0\\r\\nMatthew Taylor,Burnley,35,LM,2,0.25,255,4.5,0.40%,0,1,England,0,6,4,0,0\\r\\nEden Hazard,Chelsea,26,LW,1,75,4220,10.5,2.30%,224,2,Belgium,0,3,5,1,0\\r\\nDiego Costa,Chelsea,28,CF,1,50,4454,10,3.00%,196,2,Spain,0,4,5,1,0\\r\\nGary Cahill,Chelsea,31,CB,3,16,1420,6.5,12.00%,178,1,England,0,4,5,1,0\\r\\nMarcos Alonso Mendoza,Chelsea,26,LB,3,25,3069,7,12.40%,177,2,Spain,0,3,5,1,1\\r\\nCesar Azpilicueta,Chelsea,27,RB,3,30,869,6.5,12.30%,170,2,Spain,0,3,5,1,0\\r\\nPedro,Chelsea,29,RW,1,28,1500,8,7.80%,162,2,Spain,0,4,5,1,0\\r\\nThibaut Courtois,Chelsea,25,GK,4,40,1260,5.5,18.50%,141,2,Belgium,0,3,5,1,0\\r\\nDavid Luiz,Chelsea,30,CB,3,30,2745,6,20.30%,132,3,Brazil,0,4,5,1,0\\r\\nCesc Fabregas,Chelsea,30,CM,2,35,2378,7,7.50%,121,2,Spain,0,4,5,1,0\\r\\nWillian,Chelsea,28,RW,1,32,1165,7,9.00%,114,3,Brazil,0,4,5,1,0\\r\\nVictor Moses,Chelsea,26,RM,2,18,2537,6.5,0.20%,105,4,Nigeria,0,3,5,1,0\\r\\nNemanja Matic,Chelsea,28,DM,2,35,892,5,5.00%,105,2,Serbia,0,4,5,1,0\\r\\nN%27Golo Kante,Chelsea,26,DM,2,50,4042,5,13.80%,83,2,France,0,3,5,1,1\\r\\nWilly Caballero,Chelsea,35,GK,4,1.5,542,5,0.20%,64,3,Argentina,0,6,5,1,0\\r\\nMichy Batshuayi,Chelsea,23,CF,1,25,1162,8.5,1.60%,48,2,Belgium,0,2,5,1,1\\r\\nKurt Zouma,Chelsea,22,CB,3,15,723,5.5,0.80%,15,2,France,0,2,5,1,0\\r\\nKenedy,Chelsea,21,LB,3,7,566,5,0.10%,3,3,Brazil,0,1,5,1,0\\r\\nEduardo Carvalho,Chelsea,34,LW,1,0.05,467,5,0.10%,0,2,Portugal,0,6,5,1,1\\r\\nAntonio Rudiger,Chelsea,24,CB,3,25,454,6,6.40%,0,2,Germany,1,2,5,1,0\\r\\nTiemoue Bakayoko,Chelsea,22,DM,2,16,1011,5,1.60%,0,2,France,1,2,5,1,0\\r\\nWilfried Zaha,Crystal+Palace,24,RW,1,18,1709,7,20.90%,149,4,Cote d'Ivoire,0,2,6,0,0\\r\\nChristian Benteke,Crystal+Palace,26,CF,1,28,1661,8,10.50%,136,2,Belgium,0,3,6,0,1\\r\\nAndros Townsend,Crystal+Palace,26,RW,1,12,693,6,2.70%,116,1,England,0,3,6,0,1\\r\\nPatrick van Aanholt,Crystal+Palace,26,LB,3,9,524,5.5,4.20%,98,2,Netherlands,0,3,6,0,0\\r\\nJames McArthur,Crystal+Palace,29,CM,2,7,216,4.5,10.90%,93,2,Scotland,0,4,6,0,0\\r\\nWayne Hennessey,Crystal+Palace,30,GK,4,4,242,4.5,2.10%,92,2,Wales,0,4,6,0,0\\r\\nJason Puncheon,Crystal+Palace,31,AM,1,5.5,427,5,1.20%,92,1,England,0,4,6,0,0\\r\\nYohan Cabaye,Crystal+Palace,31,CM,2,15,456,5.5,1.40%,91,2,France,0,4,6,0,0\\r\\nJoel Ward,Crystal+Palace,27,RB,3,5,154,5,0.60%,86,1,England,0,3,6,0,0\\r\\nJames Tomkins,Crystal+Palace,28,CB,3,7,208,4.5,2.00%,75,1,England,0,4,6,0,1\\r\\nScott Dann,Crystal+Palace,30,CB,3,5,217,5,1.10%,61,1,England,0,4,6,0,0\\r\\nDamien Delaney,Crystal+Palace,36,CB,3,1,195,4.5,0.60%,51,2,Ireland,0,6,6,0,0\\r\\nJeffrey Schlupp,Crystal+Palace,24,LB,3,8,385,5,0.30%,47,4,Ghana,0,2,6,0,0\\r\\nMartin Kelly,Crystal+Palace,27,RB,3,3,210,4.5,0.30%,46,1,England,0,3,6,0,0\\r\\nLuka Milivojevic,Crystal+Palace,26,DM,2,10,407,5,0.20%,42,2,Serbia,0,3,6,0,0\\r\\nLee Chung-yong,Crystal+Palace,29,RW,1,1.5,327,4.5,0.10%,24,4,South Korea,0,4,6,0,0\\r\\nConnor Wickham,Crystal+Palace,24,CF,1,6,248,5.5,0.00%,18,1,England,0,2,6,0,0\\r\\nBakary Sako,Crystal+Palace,29,LW,1,6,226,5,0.10%,7,4,Mali,0,4,6,0,0\\r\\nPape Souare,Crystal+Palace,27,LB,3,6,186,4.5,0.00%,6,4,Senegal,0,3,6,0,0\\r\\nRuben Loftus-Cheek,Crystal+Palace,21,CM,2,5,685,4.5,16.40%,6,1,England,0,1,6,0,0\\r\\nJulian Speroni,Crystal+Palace,38,GK,4,0.25,188,4,2.00%,0,3,Argentina,0,6,6,0,0\\r\\nRoss Barkley,Everton,23,AM,1,25,1413,7.5,0.70%,144,1,England,0,2,7,0,0\\r\\nLeighton Baines,Everton,32,LB,3,12,491,6,10.00%,135,1,England,0,5,7,0,0\\r\\nSeamus Coleman,Everton,28,RB,3,17,843,6.5,0.40%,133,2,Ireland,0,4,7,0,0\\r\\nAshley Williams,Everton,32,CB,3,8,599,5.5,4.70%,127,2,Wales,0,5,7,0,1\\r\\nKevin Mirallas,Everton,29,RW,1,13,417,6.5,3.20%,119,2,Belgium,0,4,7,0,0\\r\\nMichael Keane,Everton,24,CB,3,18,1362,5.5,13.10%,113,1,England,0,2,7,0,0\\r\\nPhil Jagielka,Everton,34,CB,3,2,566,5,6.30%,104,1,England,0,6,7,0,0\\r\\nJordan Pickford,Everton,23,GK,4,15,719,5,14.60%,102,1,England,0,2,7,0,0\\r\\nJoel Robles,Everton,27,GK,4,5,304,4.5,0.40%,89,2,Spain,0,3,7,0,0\\r\\nIdrissa Gueye,Everton,27,CM,2,18,705,5,1.30%,80,4,Senegal,0,3,7,0,1\\r\\nWayne Rooney,Everton,31,SS,1,15,7664,7.5,20.90%,76,1,England,0,4,7,0,0\\r\\nRamiro Funes Mori,Everton,26,CB,3,12,460,5,0.10%,69,3,Argentina,0,3,7,0,0\\r\\nMaarten Stekelenburg,Everton,34,GK,4,2,623,4.5,0.30%,68,2,Netherlands,0,6,7,0,1\\r\\nGareth Barry,Everton,36,DM,2,1.5,1331,4.5,1.70%,68,1,England,0,6,7,0,0\\r\\nTom Davies,Everton,19,CM,2,8,1354,5.5,1.00%,63,1,England,0,1,7,0,0\\r\\nMason Holgate,Everton,20,CB,3,5,344,4.5,2.90%,54,1,England,0,1,7,0,0\\r\\nYannick Bolasie,Everton,28,LW,1,20,896,6.5,0.20%,45,4,Congo DR,0,4,7,0,1\\r\\nMorgan Schneiderlin,Everton,27,DM,2,22,1272,5,0.90%,37,2,France,0,3,7,0,1\\r\\nCuco Martina,Everton,27,RB,3,2,232,4.5,0.40%,31,2,Curacao,0,3,7,0,0\\r\\nJames McCarthy,Everton,26,CM,2,15,306,5,0.10%,23,2,Ireland,0,3,7,0,0\\r\\nAaron Lennon,Everton,30,RW,1,5,504,5.5,0.20%,22,1,England,0,4,7,0,0\\r\\nDominic Calvert-Lewin,Everton,20,SS,1,3.5,343,5,0.30%,17,1,England,0,1,7,0,1\\r\\nAdemola Lookman,Everton,19,LW,1,5,1387,5.5,0.30%,16,1,England,0,1,7,0,0\\r\\nMatthew Pennington,Everton,22,CB,3,0.5,219,4,1.70%,9,1,England,0,2,7,0,0\\r\\nJonjoe Kenny,Everton,20,RB,3,0.25,53,4.5,0.20%,1,1,England,0,1,7,0,0\\r\\nMuhamed Besic,Everton,24,DM,2,5,238,4.5,0.20%,0,2,Germany,0,2,7,0,0\\r\\nDavy Klaassen,Everton,24,AM,1,18,428,7.5,3.60%,0,2,Netherlands,1,2,7,0,0\\r\\nSandro Ramirez,Everton,22,CF,1,10,373,7.5,2.10%,0,2,Spain,1,2,7,0,0\\r\\nJoel Coleman,Huddersfield,21,GK,4,0.25,36,4,2.40%,0,1,England,0,1,8,0,0\\r\\nJonas Lossl,Huddersfield,28,GK,4,1.5,56,4.5,0.50%,0,2,Denmark,0,4,8,0,0\\r\\nChristopher Schindler,Huddersfield,27,CB,3,2,73,4.5,0.90%,0,2,Germany,0,3,8,0,0\\r\\nChris Lowe,Huddersfield,28,LB,3,1.5,84,4.5,0.70%,0,2,Germany,0,4,8,0,0\\r\\nTommy Smith,Huddersfield,25,RB,3,2,65,5,1.10%,0,1,England,0,3,8,0,0\\r\\nMichael Hefele,Huddersfield,26,CB,3,1.5,116,4.5,0.20%,0,2,Germany,0,3,8,0,0\\r\\nMartin Cranie,Huddersfield,30,CB,3,0.5,67,4,1.40%,0,1,England,0,4,8,0,0\\r\\nJon Gorenc Stankovic,Huddersfield,21,CB,3,0.5,83,4,1.10%,0,2,Slovenia,0,1,8,0,0\\r\\nMark Hudson,Huddersfield,35,CB,3,0.5,70,4,1.40%,0,1,England,0,6,8,0,0\\r\\nMathias Jorgensen,Huddersfield,27,CB,3,2.5,107,4.5,0.20%,0,2,Denmark,0,3,8,0,0\\r\\nScott Malone,Huddersfield,26,LB,3,0.75,81,4.5,0.10%,0,1,England,0,3,8,0,0\\r\\nAaron Mooy,Huddersfield,26,CM,2,5,588,5.5,2.50%,0,4,Australia,0,3,8,0,0\\r\\nRajiv van La Parra,Huddersfield,26,LW,1,2,174,5,0.30%,0,2,Netherlands,0,3,8,0,0\\r\\nJonathan Hogg,Huddersfield,28,CM,2,1,75,4.5,0.30%,0,1,England,0,4,8,0,0\\r\\nPhilip Billing,Huddersfield,21,CM,2,0.5,157,4.5,0.10%,0,2,Denmark,0,1,8,0,0\\r\\nJoe Lolley,Huddersfield,24,RW,1,0.25,63,4.5,0.10%,0,1,England,0,2,8,0,0\\r\\nJack Payne,Huddersfield,25,CM,2,0.25,81,4.5,0.10%,0,1,England,0,3,8,0,0\\r\\nDean Whitehead,Huddersfield,35,CM,2,0.25,161,4.5,0.10%,0,1,England,0,6,8,0,0\\r\\nHarry Bunn,Huddersfield,24,LW,1,0.5,85,4.5,0.10%,0,1,England,0,2,8,0,0\\r\\nSean Scannell,Huddersfield,26,RW,1,0.5,85,4.5,0.10%,0,2,Ireland,0,3,8,0,0\\r\\nElias Kachunga,Huddersfield,25,RW,1,3.5,231,6,0.60%,0,4,Congo DR,0,3,8,0,0\\r\\nTom Ince,Huddersfield,25,RW,1,7,512,6,2.60%,0,1,England,0,3,8,0,0\\r\\nKasey Palmer,Huddersfield,20,AM,1,0.75,220,5.5,0.20%,0,1,England,0,1,8,0,0\\r\\nAndy Williams,Huddersfield,26,CB,3,0.65,3,5,0.10%,0,3,Trinidad and Tobago,0,3,8,0,0\\r\\nNahki Wells,Huddersfield,27,CF,1,5,247,5,0.60%,0,3,Bermuda,0,3,8,0,0\\r\\nCollin Quaner,Huddersfield,26,CF,1,1,126,4.5,1.60%,0,2,Germany,0,3,8,0,0\\r\\nLaurent Depoitre,Huddersfield,28,CF,1,3,212,5.5,0.30%,0,2,Belgium,0,4,8,0,0\\r\\nSteve Mounie,Huddersfield,22,CF,1,5.5,56,6,0.60%,0,4,Benin,0,2,8,0,0\\r\\nJamie Vardy,Leicester+City,30,CF,1,15,2988,8.5,1.50%,161,1,England,0,4,9,0,0\\r\\nRiyad Mahrez,Leicester+City,26,RW,1,30,1753,8.5,1.70%,120,4,Algeria,0,3,9,0,0\\r\\nKasper Schmeichel,Leicester+City,30,GK,4,10,1601,5,2.40%,109,2,Denmark,0,4,9,0,0\\r\\nChristian Fuchs,Leicester+City,31,LB,3,6,417,5,3.50%,104,2,Austria,0,4,9,0,0\\r\\nMarc Albrighton,Leicester+City,27,LM,2,6,347,5.5,1.10%,95,1,England,0,3,9,0,0\\r\\nRobert Huth,Leicester+City,32,CB,3,5,748,5,0.60%,88,2,Germany,0,5,9,0,0\\r\\nDanny Simpson,Leicester+City,30,RB,3,5,428,4.5,5.50%,85,1,England,0,4,9,0,0\\r\\nIslam Slimani,Leicester+City,29,CF,1,25,1581,7,0.70%,83,4,Algeria,0,4,9,0,1\\r\\nHarry Maguire,Leicester+City,24,CB,3,8,488,5,1.50%,71,1,England,0,2,9,0,0\\r\\nDanny Drinkwater,Leicester+City,27,CM,2,9,714,5,0.20%,69,1,England,0,3,9,0,0\\r\\nWes Morgan,Leicester+City,33,CB,3,3,649,4.5,3.30%,63,3,Jamaica,0,5,9,0,0\\r\\nShinji Okazaki,Leicester+City,31,CF,1,7,607,5.5,1.20%,63,4,Japan,0,4,9,0,0\\r\\nWilfred Ndidi,Leicester+City,20,DM,2,14,821,5,0.50%,59,4,Nigeria,0,1,9,0,1\\r\\nDemarai Gray,Leicester+City,21,LW,1,9,593,5.5,1.10%,58,1,England,0,1,9,0,0\\r\\nDaniel Amartey,Leicester+City,22,DM,2,5,356,4.5,0.30%,53,4,Ghana,0,2,9,0,0\\r\\nAndy King,Leicester+City,28,CM,2,3,327,4.5,0.70%,41,2,Wales,0,4,9,0,0\\r\\nAhmed Musa,Leicester+City,24,CF,1,17,742,6.5,1.50%,39,4,Nigeria,0,2,9,0,1\\r\\nYohan Benalouane,Leicester+City,30,CB,3,1,305,4.5,0.10%,27,4,Tunisia,0,4,9,0,0\\r\\nLeonardo Ulloa,Leicester+City,30,CF,1,6,472,5,0.20%,24,2,Argentina,0,4,9,0,0\\r\\nBen Chilwell,Leicester+City,20,LB,3,2.5,288,4.5,0.80%,19,1,England,0,1,9,0,0\\r\\nNampalys Mendy,Leicester+City,25,DM,2,10,325,4.5,0.10%,6,2,France,0,3,9,0,1\\r\\nBen Hamer,Leicester+City,29,GK,4,0.5,132,4.5,0.10%,0,1,England,0,4,9,0,0\\r\\nMolla Wague,Leicester+City,26,CB,3,1.5,171,4.5,0.00%,0,4,Mali,0,3,9,0,0\\r\\nVicente Iborra,Leicester+City,29,DM,2,9,253,6,0.80%,0,2,Spain,1,4,9,0,0\\r\\nRoberto Firmino,Liverpool,25,SS,1,38,2196,8.5,20.30%,180,3,Brazil,0,3,10,1,0\\r\\nPhilippe Coutinho,Liverpool,25,AM,1,45,2958,9,30.80%,171,3,Brazil,0,3,10,1,0\\r\\nSadio Mane,Liverpool,25,LW,1,40,3219,9.5,5.30%,156,4,Senegal,0,3,10,1,1\\r\\nGeorginio Wijnaldum,Liverpool,26,CM,2,28,1280,7,7.10%,149,2,Netherlands,0,3,10,1,1\\r\\nJames Milner,Liverpool,31,CM,2,12,1824,6.5,10.40%,139,1,England,0,4,10,1,0\\r\\nAdam Lallana,Liverpool,29,AM,1,25,1808,7.5,6.40%,139,1,England,0,4,10,1,0\\r\\nNathaniel Clyne,Liverpool,26,RB,3,21,602,5.5,4.50%,129,1,England,0,3,10,1,0\\r\\nSimon Mignolet,Liverpool,29,GK,4,12,721,5,1.60%,110,2,Belgium,0,4,10,1,0\\r\\nDejan Lovren,Liverpool,28,CB,3,17,708,5.5,1.30%,106,2,Croatia,0,4,10,1,0\\r\\nEmre Can,Liverpool,23,DM,2,15,1253,5,6.60%,104,2,Germany,0,2,10,1,0\\r\\nJoel Matip,Liverpool,25,CB,3,25,1313,5.5,2.30%,97,2,Cameroon,0,3,10,1,1\\r\\nDivock Origi,Liverpool,22,CF,1,12,1092,7.5,0.40%,96,2,Belgium,0,2,10,1,0\\r\\nJordan Henderson,Liverpool,27,CM,2,28,1236,5.5,1.80%,73,1,England,0,3,10,1,0\\r\\nDaniel Sturridge,Liverpool,27,CF,1,20,2042,8,4.30%,54,1,England,0,3,10,1,0\\r\\nLucas Leiva,Liverpool,30,DM,2,7,998,4.5,0.30%,47,3,Brazil,0,4,10,1,0\\r\\nRagnar Klavan,Liverpool,31,CB,3,3.5,875,4.5,0.40%,43,2,Estonia,0,4,10,1,1\\r\\nMamadou Sakho,Liverpool,27,CB,3,15,934,5,0.10%,35,2,France,0,3,10,1,0\\r\\nLoris Karius,Liverpool,24,GK,4,8,1255,5,0.20%,32,2,Germany,0,2,10,1,0\\r\\nTrent Alexander-Arnold,Liverpool,18,RB,3,1.5,327,4.5,0.30%,15,2,England,0,1,10,1,0\\r\\nAlberto Moreno,Liverpool,25,LB,3,10,397,4.5,0.30%,8,2,Spain,0,3,10,1,0\\r\\nBen Woodburn,Liverpool,17,LW,1,1.5,1241,4.5,0.10%,5,1,Wales,0,1,10,1,0\\r\\nMarko Grujic,Liverpool,21,CM,2,5,615,4.5,0.20%,4,2,Serbia,0,1,10,1,0\\r\\nJoe Gomez,Liverpool,20,CB,3,4,460,4.5,0.40%,0,1,England,0,1,10,1,0\\r\\nSheyi Ojo,Liverpool,20,LW,1,2,383,5,0.10%,0,1,England,0,1,10,1,0\\r\\nMohamed Salah,Liverpool,25,RW,1,35,1117,9,12.40%,0,4,Egypt,1,3,10,1,0\\r\\nDanny Ings,Liverpool,24,CF,1,8,748,5.5,0.10%,0,1,England,0,2,10,1,0\\r\\nDominic Solanke,Liverpool,19,CF,1,2,671,5,2.00%,0,1,England,0,1,10,1,0\\r\\nKevin De Bruyne,Manchester+City,26,AM,1,65,2252,10,17.50%,199,2,Belgium,0,3,11,1,0\\r\\nSergio Aguero,Manchester+City,29,CF,1,65,4046,11.5,9.70%,175,3,Argentina,0,4,11,1,0\\r\\nRaheem Sterling,Manchester+City,22,LW,1,45,2074,8,3.80%,149,1,England,0,2,11,1,0\\r\\nKyle Walker,Manchester+City,27,RB,3,30,1008,6.5,18.50%,142,1,England,0,3,11,1,0\\r\\nDavid Silva,Manchester+City,31,AM,1,30,1434,8,3.30%,130,2,Spain,0,4,11,1,0\\r\\nLeroy Sane,Manchester+City,21,LW,1,35,2302,8.5,8.80%,105,2,Germany,0,1,11,1,1\\r\\nNicolas Otamendi,Manchester+City,29,CB,3,30,621,5.5,3.30%,100,3,Argentina,0,4,11,1,0\\r\\nAleksandar Kolarov,Manchester+City,31,LB,3,10,633,5.5,1.10%,95,2,Serbia,0,4,11,1,0\\r\\nYaya Toure,Manchester+City,34,CM,2,8,2318,6.5,2.50%,86,4,Cote d'Ivoire,0,6,11,1,0\\r\\nFernandinho,Manchester+City,32,DM,2,18,595,5,0.80%,78,3,Brazil,0,5,11,1,0\\r\\nClaudio Bravo,Manchester+City,34,GK,4,8,436,5,1.20%,73,3,Chile,0,6,11,1,1\\r\\nGabriel Jesus,Manchester+City,20,CF,1,30,4254,10.5,15.20%,67,3,Brazil,0,1,11,1,1\\r\\nJohn Stones,Manchester+City,23,CB,3,35,1078,5.5,2.30%,59,1,England,0,2,11,1,1\\r\\nVincent Kompany,Manchester+City,31,CB,3,22,935,6,6.60%,57,2,Belgium,0,4,11,1,0\\r\\nKelechi Iheanacho,Manchester+City,20,CF,1,15,1662,7,1.50%,52,4,Nigeria,0,1,11,1,0\\r\\nIlkay Gundogan,Manchester+City,26,CM,2,30,1586,5.5,1.00%,41,2,Germany,0,3,11,1,1\\r\\nFernando,Manchester+City,32,DM,2,18,338,4.5,0.40%,18,3,Brazil,0,5,11,1,0\\r\\nFabian Delph,Manchester+City,27,CM,2,8,520,4.5,0.40%,13,1,England,0,3,11,1,0\\r\\nEderson Moraes,Manchester+City,23,GK,4,22,297,5.5,4.50%,0,3,Brazil,1,2,11,1,0\\r\\nBernardo Silva,Manchester+City,22,RW,1,40,1098,8,4.60%,0,2,Portugal,1,2,11,1,0\\r\\nRomelu Lukaku,Manchester+United,24,CF,1,50,3727,11.5,45.00%,221,2,Belgium,0,2,12,1,0\\r\\nDavid de Gea,Manchester+United,26,GK,4,40,2126,5.5,26.10%,136,2,Spain,0,3,12,1,0\\r\\nAntonio Valencia,Manchester+United,31,RB,3,10,1561,6.5,6.20%,120,3,Ecuador,0,4,12,1,0\\r\\nPaul Pogba,Manchester+United,24,CM,2,75,7435,8,19.50%,115,2,France,0,2,12,1,1\\r\\nEric Bailly,Manchester+United,23,CB,3,30,1588,6,10.20%,105,4,Cote d'Ivoire,0,2,12,1,1\\r\\nJuan Mata,Manchester+United,29,AM,1,30,2280,7,3.50%,102,2,Spain,0,4,12,1,0\\r\\nDaley Blind,Manchester+United,27,LB,3,22,867,5.5,1.20%,98,2,Netherlands,0,3,12,1,0\\r\\nAnder Herrera,Manchester+United,27,CM,2,30,1603,5.5,7.70%,97,2,Spain,0,3,12,1,0\\r\\nAnthony Martial,Manchester+United,21,CF,1,30,2430,8,0.60%,95,2,France,0,1,12,1,0\\r\\nMarcos Rojo,Manchester+United,27,CB,3,18,1063,5.5,0.10%,77,3,Argentina,0,3,12,1,0\\r\\nMarcus Rashford,Manchester+United,19,CF,1,18,3668,7.5,4.80%,76,1,England,0,1,12,1,0\\r\\nHenrikh Mkhitaryan,Manchester+United,28,AM,1,35,3312,8,4.50%,73,4,Armenia,0,4,12,1,1\\r\\nMatteo Darmian,Manchester+United,27,RB,3,12,1640,5.5,0.30%,70,2,Italy,0,3,12,1,0\\r\\nJesse Lingard,Manchester+United,24,LW,1,12,1939,6,0.70%,60,1,England,0,2,12,1,0\\r\\nPhil Jones,Manchester+United,25,CB,3,14,808,5,0.40%,55,1,England,0,3,12,1,0\\r\\nChris Smalling,Manchester+United,27,CB,3,18,834,5.5,1.30%,52,1,England,0,3,12,1,0\\r\\nMarouane Fellaini,Manchester+United,29,CM,2,12,1498,5,0.20%,48,2,Belgium,0,4,12,1,0\\r\\nLuke Shaw,Manchester+United,22,LB,3,20,947,5,0.40%,45,1,England,0,2,12,1,0\\r\\nMichael Carrick,Manchester+United,35,DM,2,1.5,1789,4.5,1.80%,42,1,England,0,6,12,1,0\\r\\nAshley Young,Manchester+United,32,LM,2,5,936,5,0.00%,26,1,England,0,5,12,1,0\\r\\nSergio Romero,Manchester+United,30,GK,4,6,849,5,0.20%,23,3,Argentina,0,4,12,1,0\\r\\nAxel Tuanzebe,Manchester+United,19,CB,3,1,279,4,1.70%,14,1,England,0,1,12,1,0\\r\\nTimothy Fosu-Mensah,Manchester+United,19,DM,2,2.5,860,4.5,0.20%,9,2,Netherlands,0,1,12,1,0\\r\\nJoel Castro Pereira,Manchester+United,21,GK,4,0.1,395,4,1.00%,6,2,Portugal,0,1,12,1,0\\r\\nVictor Lindelof,Manchester+United,23,CB,3,22,950,5.5,17.00%,0,2,Sweden,1,2,12,1,0\\r\\nRob Elliot,Newcastle+United,31,GK,4,1,134,4,13.50%,0,2,Ireland,0,4,13,0,0\\r\\nKarl Darlow,Newcastle+United,26,GK,4,4.5,235,4.5,1.10%,0,1,England,0,3,13,0,0\\r\\nDeAndre Yedlin,Newcastle+United,24,RB,3,5,764,4.5,5.20%,0,3,United States,0,2,13,0,0\\r\\nCiaran Clark,Newcastle+United,27,CB,3,5,273,4.5,0.90%,0,2,Ireland,0,3,13,0,0\\r\\nLascelles,Newcastle+United,27,CB,3,5,400,4.5,3.60%,0,1,England,0,3,13,0,0\\r\\nPaul Dummett,Newcastle+United,25,LB,3,3.5,177,4.5,1.00%,0,2,Wales,0,3,13,0,0\\r\\nGrant Hanley,Newcastle+United,25,CB,3,4.5,265,4,2.50%,0,2,Scotland,0,3,13,0,0\\r\\nJesus Gamez,Newcastle+United,32,RB,3,2.5,186,4,2.30%,0,2,Spain,0,5,13,0,0\\r\\nFlorian Lejeune,Newcastle+United,26,CB,3,5,65,4.5,1.00%,0,2,France,0,3,13,0,0\\r\\nMassadio Haidara,Newcastle+United,24,LB,3,1.5,114,4,0.50%,0,2,France,0,2,13,0,0\\r\\nMatt Ritchie,Newcastle+United,27,RM,2,9,566,6,4.20%,0,2,Scotland,0,3,13,0,0\\r\\nJonjo Shelvey,Newcastle+United,25,CM,2,11,747,5.5,2.50%,0,1,England,0,3,13,0,0\\r\\nMohamed Diame,Newcastle+United,30,CM,2,6,339,5,0.50%,0,4,Senegal,0,4,13,0,0\\r\\nJack Colback,Newcastle+United,27,DM,2,5,181,4.5,1.10%,0,1,England,0,3,13,0,0\\r\\nChristian Atsu,Newcastle+United,25,RW,1,5,641,5,2.10%,0,4,Ghana,0,3,13,0,0\\r\\nSiem de Jong,Newcastle+United,28,AM,1,5.5,341,5,0.10%,0,2,Netherlands,0,4,13,0,0\\r\\nRolando Aarons,Newcastle+United,21,LW,1,0.75,170,4.5,0.10%,0,1,England,0,1,13,0,0\\r\\nDwight Gayle,Newcastle+United,26,CF,1,10,1351,6.5,11.40%,0,1,England,0,3,13,0,0\\r\\nAyoze Perez,Newcastle+United,23,SS,1,8,368,5.5,1.60%,0,2,Spain,0,2,13,0,0\\r\\nAleksandar Mitrovic,Newcastle+United,22,CF,1,10,781,5,2.50%,0,2,Serbia,0,2,13,0,0\\r\\nDaryl Murphy,Newcastle+United,34,CF,1,1.5,541,4.5,2.80%,0,2,Ireland,0,6,13,0,0\\r\\nFraser Forster,Southampton,29,GK,4,15,548,5,7.30%,134,1,England,0,4,14,0,0\\r\\nNathan Redmond,Southampton,23,RW,1,15,706,6.5,11.30%,126,1,England,0,2,14,0,1\\r\\nRyan Bertrand,Southampton,27,LB,3,20,578,5.5,11.20%,123,1,England,0,3,14,0,0\\r\\nDu\\xe5\\x9a\\x99\\xe8\\xb8\\x9d\\xe8\\x95\\xad\\xe5\\x9a\\x99\\xe8\\xb8\\x9d\\xe8\\x95\\xadan T,Southampton,28,LW,1,17,458,6.5,4.90%,108,2,Portugal,0,4,14,0,0\\r\\nCedric Soares,Southampton,25,RB,3,15,338,5,16.40%,102,2,Portugal,0,3,14,0,0\\r\\nJames Ward-Prowse,Southampton,22,CM,2,15,416,5.5,2.20%,92,1,England,0,2,14,0,0\\r\\nOriol Romeu,Southampton,25,DM,2,10,476,4.5,4.20%,80,2,Spain,0,3,14,0,0\\r\\nMaya Yoshida,Southampton,28,CB,3,5,317,5,1.10%,78,4,Japan,0,4,14,0,0\\r\\nSteven Davis,Southampton,32,CM,2,6,310,5,0.20%,77,2,Northern Ireland,0,5,14,0,0\\r\\nVirgil van Dijk,Southampton,26,CB,3,30,1102,5.5,4.00%,75,2,Netherlands,0,3,14,0,0\\r\\nCharlie Austin,Southampton,28,CF,1,13,874,6.5,2.10%,62,1,England,0,4,14,0,0\\r\\nJack Stephens,Southampton,23,CB,3,3.5,249,5,0.40%,60,1,England,0,2,14,0,0\\r\\nShane Long,Southampton,30,CF,1,9,703,6,0.30%,57,2,Ireland,0,4,14,0,0\\r\\nSofiane Boufal,Southampton,23,AM,1,15,590,6,0.30%,40,4,Morocco,0,2,14,0,1\\r\\nJordy Clasie,Southampton,26,DM,2,10,201,4.5,0.40%,38,2,Netherlands,0,3,14,0,0\\r\\nPierre-Emile Hojbjerg,Southampton,21,CM,2,8,368,4.5,0.40%,38,2,Denmark,0,1,14,0,1\\r\\nManolo Gabbiadini,Southampton,25,CF,1,15,2012,7,5.20%,38,2,Italy,0,3,14,0,0\\r\\nSam McQueen,Southampton,22,LM,2,0.75,221,4.5,0.10%,23,1,England,0,2,14,0,0\\r\\nMatt Targett,Southampton,21,LB,3,3,110,4.5,0.20%,12,1,England,0,1,14,0,0\\r\\nJosh Sims,Southampton,20,RW,1,0.5,126,4.5,0.10%,12,1,England,0,1,14,0,0\\r\\nJeremy Pied,Southampton,28,RM,2,3.5,136,4.5,0.10%,5,2,France,0,4,14,0,1\\r\\nJason McCarthy,Southampton,21,CB,3,0.25,53,4.5,0.10%,0,1,England,0,1,14,0,0\\r\\nJan Bednarek,Southampton,21,CB,3,0.5,9,4.5,0.40%,0,2,Poland,1,1,14,0,0\\r\\nJoe Allen,Stoke+City,27,CM,2,15,523,5.5,6.00%,118,2,Wales,0,3,15,0,1\\r\\nMarko Arnautovi,Stoke+City,28,LW,1,15,579,7,0.70%,117,1,England,0,4,15,0,0\\r\\nLee Grant,Stoke+City,34,GK,4,1,480,4.5,1.20%,106,1,England,0,6,15,0,1\\r\\nErik Pieters,Stoke+City,28,LB,3,7,134,5,1.30%,103,2,Netherlands,0,4,15,0,0\\r\\nSteven Fletcher,Stoke+City,30,CF,1,3,522,5,1.00%,103,2,Scotland,0,4,15,0,0\\r\\nRyan Shawcross,Stoke+City,29,CB,3,11,281,5,1.00%,94,2,England,0,4,15,0,0\\r\\nXherdan Shaqiri,Stoke+City,25,RW,1,15,1000,6,3.20%,80,2,Switzerland,0,3,15,0,0\\r\\nPeter Crouch,Stoke+City,36,CF,1,1.5,2656,5,2.90%,79,1,England,0,6,15,0,0\\r\\nGlenn Whelan,Stoke+City,33,DM,2,2.5,182,4.5,0.40%,62,2,Ireland,0,5,15,0,0\\r\\nCharlie Adam,Stoke+City,31,CM,2,3.5,561,5,0.10%,59,2,Scotland,0,4,15,0,0\\r\\nGeoff Cameron,Stoke+City,32,CB,3,3,260,4.5,0.50%,58,4,United States,0,5,15,0,0\\r\\nGlen Johnson,Stoke+City,32,RB,3,5,512,4.5,0.80%,56,1,England,0,5,15,0,0\\r\\nMame Biram Diouf,Stoke+City,29,CF,1,7,310,5.5,0.40%,51,4,Senegal,0,4,15,0,0\\r\\nRamadan Sobhi,Stoke+City,20,LW,1,5,461,5,1.10%,36,4,Egypt,0,1,15,0,1\\r\\nMarc Muniesa,Stoke+City,25,CB,3,3,172,4.5,0.20%,34,2,Spain,0,3,15,0,0\\r\\nBojan Krki,Stoke+City,26,SS,1,5,1325,5.5,0.20%,30,2,Spain,0,3,15,0,0\\r\\nPhil Bardsley,Stoke+City,32,RB,3,1.5,365,4.5,0.00%,27,2,Scotland,0,5,15,0,0\\r\\nSaido Berahino,Stoke+City,23,CF,1,15,841,6,0.80%,26,1,England,0,2,15,0,0\\r\\nGiannelli Imbula,Stoke+City,24,DM,2,12,238,4.5,0.20%,24,2,France,0,2,15,0,0\\r\\nJack Butland,Stoke+City,24,GK,4,15,402,5,2.80%,20,1,England,0,2,15,0,0\\r\\nIbrahim Afellay,Stoke+City,31,LM,2,3,461,5,0.00%,15,2,Netherlands,0,4,15,0,0\\r\\nJosh Tymon,Stoke+City,18,LB,3,1,120,4.5,0.10%,9,1,England,0,1,15,0,0\\r\\nGylfi Sigurdsson,Swansea,27,AM,1,25,861,8.5,8.70%,181,2,Iceland,0,3,16,0,0\\r\\nFernando Llorente,Swansea,32,CF,1,6,1423,7.5,0.70%,146,2,Spain,0,5,16,0,1\\r\\n\\xe7\\x82\\xbd\\xe7\\x82\\xbdukasz Fabia\\xe7\\x82\\xbd\\xe7\\x82\\xbd\\xf0\\xa2\\x92\\x8bki,Swansea,32,GK,4,9,285,4.5,6.20%,116,2,Poland,0,5,16,0,0\\r\\nLeroy Fer,Swansea,27,CM,2,8,411,5.5,0.60%,95,2,Netherlands,0,3,16,0,1\\r\\nAlfie Mawson,Swansea,23,CB,3,6,509,5,1.80%,94,1,England,0,2,16,0,1\\r\\nKyle Naughton,Swansea,28,RB,3,5,170,4.5,2.00%,82,1,England,0,4,16,0,0\\r\\nWayne Routledge,Swansea,32,LW,1,2.5,264,5.5,0.10%,74,1,England,0,5,16,0,0\\r\\nFederico Fernandez,Swansea,28,CB,3,9,116,4.5,0.40%,63,3,Argentina,0,4,16,0,0\\r\\nMartin Olsson,Swansea,29,LB,3,5,458,5,0.30%,52,2,Sweden,0,4,16,0,0\\r\\nTom Carroll,Swansea,25,CM,2,6,432,4.5,4.30%,52,1,England,0,3,16,0,0\\r\\nKi Sung-yueng,Swansea,28,DM,2,7,478,5,0.00%,41,4,South Korea,0,4,16,0,0\\r\\nJordan Ayew,Swansea,25,CF,1,7.5,676,5,2.00%,39,4,Ghana,0,3,16,0,0\\r\\nModou Barrow,Swansea,24,RW,1,3,437,5,0.10%,34,4,The Gambia,0,2,16,0,0\\r\\nLeon Britton,Swansea,34,CM,2,1,218,4.5,0.10%,32,1,England,0,6,16,0,0\\r\\nStephen Kingsley,Swansea,22,LB,3,0.75,168,4.5,0.20%,29,2,Scotland,0,2,16,0,0\\r\\n\\xe7\\x82\\xbd\\xe7\\x82\\xbd\\xf0\\xa3\\xad\\x9agel Rangel,Swansea,34,RB,3,1,137,4,18.80%,26,2,Spain,0,6,16,0,0\\r\\nLuciano Narsingh,Swansea,26,RW,1,5,448,5,0.10%,25,2,Netherlands,0,3,16,0,0\\r\\nJay Fulton,Swansea,23,CM,2,0.5,104,4.5,0.10%,19,2,Scotland,0,2,16,0,0\\r\\nJefferson Montero,Swansea,27,LW,1,4.5,187,5,0.10%,18,3,Ecuador,0,3,16,0,0\\r\\nMike van der Hoorn,Swansea,24,CB,3,2,154,4.5,0.10%,16,2,Netherlands,0,2,16,0,1\\r\\nNathan Dyer,Swansea,29,RW,1,3.5,313,4.5,0.10%,12,1,England,0,4,16,0,0\\r\\nOliver McBurnie,Swansea,21,CF,1,0.25,149,4.5,0.70%,5,2,Scotland,0,1,16,0,0\\r\\nKristoffer Nordfeldt,Swansea,28,GK,4,1.5,82,4,1.70%,3,2,Sweden,0,4,16,0,0\\r\\nRoque Mesa,Swansea,28,CM,2,12,110,4.5,0.90%,0,2,Spain,1,4,16,0,0\\r\\nTammy Abraham,Swansea,19,CF,1,8,1227,5.5,3.30%,0,1,England,0,1,16,0,0\\r\\nDele Alli,Tottenham,21,CM,2,45,4626,9.5,38.60%,225,1,England,0,1,17,1,0\\r\\nHarry Kane,Tottenham,23,CF,1,60,4161,12.5,35.10%,224,1,England,0,2,17,1,0\\r\\nChristian Eriksen,Tottenham,25,AM,1,40,1130,9.5,12.00%,218,2,Denmark,0,3,17,1,0\\r\\nSon Heung-min,Tottenham,25,LW,1,30,2185,8,1.60%,174,4,South Korea,0,3,17,1,0\\r\\nHugo Lloris,Tottenham,30,GK,4,24,847,5.5,12.60%,143,2,France,0,4,17,1,0\\r\\nJan Vertonghen,Tottenham,30,CB,3,28,511,6,9.00%,126,2,Belgium,0,4,17,1,0\\r\\nToby Alderweireld,Tottenham,28,CB,3,35,756,6,13.30%,120,2,Belgium,0,4,17,1,0\\r\\nVictor Wanyama,Tottenham,26,DM,2,25,1002,5,3.10%,103,4,Kenya,0,3,17,1,1\\r\\nEric Dier,Tottenham,23,DM,2,25,1239,5,3.50%,93,1,England,0,2,17,1,0\\r\\nBen Davies,Tottenham,24,LB,3,12,396,5.5,1.80%,90,2,Wales,0,2,17,1,0\\r\\nDanny Rose,Tottenham,27,LB,3,28,848,6.5,0.60%,84,1,England,0,3,17,1,0\\r\\nMousa Dembele,Tottenham,30,CM,2,18,1161,5,1.80%,76,2,Belgium,0,4,17,1,0\\r\\nVincent Janssen,Tottenham,23,CF,1,13,1135,7.5,0.10%,55,2,Netherlands,0,2,17,1,1\\r\\nKieran Trippier,Tottenham,26,RB,3,10,525,5.5,17.30%,51,1,England,0,3,17,1,0\\r\\nMoussa Sissokho,Tottenham,27,CM,2,20,1162,5.5,0.30%,43,2,France,0,3,17,1,1\\r\\nHarry Winks,Tottenham,21,CM,2,4,806,5,0.00%,30,1,England,0,1,17,1,0\\r\\nErik Lamela,Tottenham,25,RW,1,25,672,6.5,0.10%,28,3,Argentina,0,3,17,1,0\\r\\nMichel Vorm,Tottenham,33,GK,4,4,252,5,0.10%,17,2,Netherlands,0,5,17,1,0\\r\\nGeorges-Kevin N%27Koudou,Tottenham,22,LW,1,7,510,5.5,0.10%,8,2,France,0,2,17,1,1\\r\\nKevin Wimmer,Tottenham,24,CB,3,7,355,4.5,0.30%,2,2,Austria,0,2,17,1,0\\r\\n\\xe7\\x82\\xbd\\xe7\\x82\\xbd\\xf0\\xa4\\xa3\\xb1ienne Capoue,Watford,29,DM,2,9,412,5.5,8.00%,131,2,France,0,4,18,0,0\\r\\nTroy Deeney,Watford,29,CF,1,11,1141,6.5,3.40%,130,1,England,0,4,18,0,0\\r\\nHeurelho Gomes,Watford,36,GK,4,1,439,4.5,2.20%,113,3,Brazil,0,6,18,0,0\\r\\nJose Holebas,Watford,33,LB,3,2,345,5,0.60%,87,2,Greece,0,5,18,0,0\\r\\nMiguel Britos,Watford,32,CB,3,3.5,131,4.5,0.60%,71,3,Uruguay,0,5,18,0,0\\r\\nSebastian Prodl,Watford,30,CB,3,4,169,4.5,0.80%,67,2,Austria,0,4,18,0,0\\r\\nNordin Amrabat,Watford,30,LW,1,4.5,295,5,0.10%,65,4,Morocco,0,4,18,0,0\\r\\nYoun\\xe5\\x9a\\x99\\xe8\\xb8\\x9d\\xe8\\x95\\xad\\xe5\\x9a\\x99\\xe8\\xb8\\x9d\\xe8\\x95\\xad,Watford,31,CB,3,2.5,263,4.5,0.10%,57,2,France,0,4,18,0,1\\r\\nTom Cleverley,Watford,27,CM,2,8,703,5,0.20%,55,1,England,0,3,18,0,0\\r\\nDaryl Janmaat,Watford,27,RB,3,7,242,5,0.30%,50,2,Netherlands,0,3,18,0,1\\r\\nValon Behrami,Watford,32,DM,2,2.5,237,4.5,0.40%,48,2,Switzerland,0,5,18,0,0\\r\\nRoberto Pereyra,Watford,26,AM,1,15,398,6,0.10%,43,3,Argentina,0,3,18,0,1\\r\\nStefano Okaka,Watford,27,CF,1,6,708,5.5,0.20%,43,2,Italy,0,3,18,0,1\\r\\nAbdoulaye Doucoure,Watford,24,CM,2,6,124,5,0.00%,38,2,France,0,2,18,0,0\\r\\nKabasele,Watford,26,CB,3,5.5,177,4.5,0.20%,35,2,Belgium,0,3,18,0,1\\r\\nCraig Cathcart,Watford,28,CB,3,4,128,4.5,0.00%,31,2,Northern Ireland,0,4,18,0,0\\r\\nIsaac Success,Watford,21,LW,1,4,474,5.5,0.10%,28,4,Nigeria,0,1,18,0,1\\r\\nAdrian Mariappa,Watford,30,CB,3,1,201,4,5.40%,15,3,Jamaica,0,4,18,0,1\\r\\nNathaniel Chalobah,Watford,22,DM,2,5,977,4.5,2.30%,12,1,England,0,2,18,0,0\\r\\nMauro Zarate,Watford,30,SS,1,2,473,5.5,0.00%,8,3,Argentina,0,4,18,0,0\\r\\nCostel Pantilimon,Watford,30,GK,4,3,268,4.5,0.20%,2,2,Romania,0,4,18,0,0\\r\\nKiko Femenia,Watford,26,RB,3,4,74,4.5,0.30%,0,2,Spain,1,3,18,0,0\\r\\nSteven Berghuis,Watford,25,RW,1,5.5,164,5,0.10%,0,2,Netherlands,0,3,18,0,0\\r\\nWill Hughes,Watford,22,CM,2,8,258,5,0.60%,0,1,England,1,2,18,0,0\\r\\nGareth McAuley,West+Brom,37,CB,3,1,458,5,11.80%,131,2,Northern Ireland,0,6,19,0,0\\r\\nSalomon Rondon,West+Brom,27,CF,1,15,502,6.5,2.00%,118,3,Venezuela,0,3,19,0,0\\r\\nMatt Phillips,West+Brom,26,RW,1,9,454,6,5.60%,115,2,Scotland,0,3,19,0,1\\r\\nBen Foster,West+Brom,34,GK,4,4,484,4.5,20.70%,113,1,England,0,6,19,0,0\\r\\nNacer Chadli,West+Brom,27,LW,1,15,570,6,2.40%,110,2,Belgium,0,3,19,0,1\\r\\nCraig Dawson,West+Brom,27,RB,3,6,215,5,6.00%,102,1,England,0,3,19,0,0\\r\\nChris Brunt,West+Brom,32,LM,2,4,242,5.5,0.80%,99,2,Northern Ireland,0,5,19,0,0\\r\\nJames Morrison,West+Brom,31,CM,2,5,238,5.5,0.00%,84,2,Scotland,0,4,19,0,0\\r\\nJonny Evans,West+Brom,29,CB,3,7,375,5,1.60%,79,2,Northern Ireland,0,4,19,0,0\\r\\nJake Livermore,West+Brom,27,DM,2,7,564,5,0.20%,77,1,England,0,3,19,0,0\\r\\nAllan Nyom,West+Brom,29,RB,3,4.5,236,5,0.30%,74,4,Cameroon,0,4,19,0,1\\r\\nJay Rodriguez,West+Brom,27,CF,1,10,472,6,2.90%,73,1,England,0,3,19,0,0\\r\\nClaudio Yacob,West+Brom,30,DM,2,4,165,4.5,0.40%,54,3,Argentina,0,4,19,0,0\\r\\nJames McClean,West+Brom,28,LW,1,3,454,5,0.20%,52,2,Ireland,0,4,19,0,0\\r\\nHal Robson-Kanu,West+Brom,28,LW,1,2.5,766,5,0.70%,52,2,Wales,0,4,19,0,1\\r\\nJonathan Leko,West+Brom,18,RW,1,1.5,169,4.5,0.20%,12,1,England,0,1,19,0,0\\r\\nSam Field,West+Brom,19,CM,2,0.25,15,4.5,0.10%,9,1,England,0,1,19,0,0\\r\\nBoaz Myhill,West+Brom,34,GK,4,1.5,100,4,5.30%,0,2,Wales,0,6,19,0,0\\r\\nAhmed Hegazy,West+Brom,26,CB,3,1,82,4.5,1.30%,0,4,Egypt,1,3,19,0,0\\r\\nRobert Snodgrass,West+Ham,29,RW,1,8,1210,6,6.50%,133,2,Scotland,0,4,20,0,0\\r\\nManuel Lanzini,West+Ham,24,AM,1,15,493,7,7.20%,133,3,Argentina,0,2,20,0,0\\r\\nMichail Antonio,West+Ham,27,RW,1,18,1142,7.5,0.50%,132,1,England,0,3,20,0,0\\r\\nWinston Reid,West+Ham,29,CB,3,10,338,5,0.40%,102,4,New Zealand,0,4,20,0,0\\r\\nJose Fonte,West+Ham,33,CB,3,7,867,5,2.10%,98,2,Portugal,0,5,20,0,1\\r\\nAndre Ayew,West+Ham,27,LW,1,18,845,7,3.40%,89,4,Ghana,0,3,20,0,1\\r\\nCheikhou Kouyate,West+Ham,27,DM,2,12,284,5,0.10%,79,4,Senegal,0,3,20,0,0\\r\\nMark Noble,West+Ham,30,CM,2,7,425,5.5,0.10%,71,1,England,0,4,20,0,0\\r\\nDarren Randolph,West+Ham,30,GK,4,2.5,459,4.5,0.40%,69,2,Ireland,0,4,20,0,0\\r\\nJames Collins,West+Ham,33,CB,3,2,187,4.5,0.90%,69,2,Wales,0,5,20,0,0\\r\\nAndy Carroll,West+Ham,28,CF,1,10,1212,6,0.40%,69,1,England,0,4,20,0,0\\r\\nAdrian,West+Ham,30,GK,4,8,266,4.5,0.80%,64,2,Spain,0,4,20,0,0\\r\\nAaron Cresswell,West+Ham,27,LB,3,12,380,5,1.30%,60,1,England,0,3,20,0,0\\r\\nPedro Obiang,West+Ham,25,CM,2,9,286,4.5,0.30%,55,2,Spain,0,3,20,0,0\\r\\nSofiane Feghouli,West+Ham,27,RW,1,12,394,5.5,0.20%,55,4,Algeria,0,3,20,0,1\\r\\nAngelo Ogbonna,West+Ham,29,CB,3,9,247,4.5,1.10%,45,2,Italy,0,4,20,0,0\\r\\nPablo Zabaleta,West+Ham,32,RB,3,7,698,5,2.70%,45,3,Argentina,0,5,20,0,0\\r\\nEdimilson Fernandes,West+Ham,21,CM,2,5,288,4.5,0.40%,38,2,Switzerland,0,1,20,0,1\\r\\nArthur Masuaku,West+Ham,23,LB,3,7,199,4.5,0.20%,34,4,Congo DR,0,2,20,0,1\\r\\nSam Byram,West+Ham,23,RB,3,4.5,198,4.5,0.30%,29,1,England,0,2,20,0,0\\r\\nAshley Fletcher,West+Ham,21,CF,1,1,412,4.5,5.90%,16,1,England,0,1,20,0,1\\r\\nDiafra Sakho,West+Ham,27,CF,1,10,214,5.5,0.10%,12,4,Senegal,0,3,20,0,0\"}"
            ]
          },
          "metadata": {
            "tags": []
          },
          "execution_count": 31
        }
      ]
    },
    {
      "cell_type": "code",
      "metadata": {
        "id": "qTti3M7Hz7ct"
      },
      "source": [
        "import io"
      ],
      "execution_count": 32,
      "outputs": []
    },
    {
      "cell_type": "code",
      "metadata": {
        "id": "HYNlIHR6z7fA",
        "outputId": "38f5acb2-d09c-4a3b-8b3d-f5761dc774f8",
        "colab": {
          "base_uri": "https://localhost:8080/",
          "height": 309
        }
      },
      "source": [
        "train= pd.read_csv(io.StringIO(uploaded['football_CLEAN.csv'].decode('utf-8')))\n",
        "train.head()"
      ],
      "execution_count": 34,
      "outputs": [
        {
          "output_type": "execute_result",
          "data": {
            "text/html": [
              "<div>\n",
              "<style scoped>\n",
              "    .dataframe tbody tr th:only-of-type {\n",
              "        vertical-align: middle;\n",
              "    }\n",
              "\n",
              "    .dataframe tbody tr th {\n",
              "        vertical-align: top;\n",
              "    }\n",
              "\n",
              "    .dataframe thead th {\n",
              "        text-align: right;\n",
              "    }\n",
              "</style>\n",
              "<table border=\"1\" class=\"dataframe\">\n",
              "  <thead>\n",
              "    <tr style=\"text-align: right;\">\n",
              "      <th></th>\n",
              "      <th>name</th>\n",
              "      <th>club</th>\n",
              "      <th>age</th>\n",
              "      <th>position</th>\n",
              "      <th>position_cat</th>\n",
              "      <th>market_value</th>\n",
              "      <th>page_views</th>\n",
              "      <th>fpl_value</th>\n",
              "      <th>fpl_sel</th>\n",
              "      <th>fpl_points</th>\n",
              "      <th>region</th>\n",
              "      <th>nationality</th>\n",
              "      <th>new_foreign</th>\n",
              "      <th>age_cat</th>\n",
              "      <th>club_id</th>\n",
              "      <th>big_club</th>\n",
              "      <th>new_signing</th>\n",
              "    </tr>\n",
              "  </thead>\n",
              "  <tbody>\n",
              "    <tr>\n",
              "      <th>0</th>\n",
              "      <td>Alexis Sanchez</td>\n",
              "      <td>Arsenal</td>\n",
              "      <td>28</td>\n",
              "      <td>LW</td>\n",
              "      <td>1</td>\n",
              "      <td>65.0</td>\n",
              "      <td>4329</td>\n",
              "      <td>12.0</td>\n",
              "      <td>17.10%</td>\n",
              "      <td>264</td>\n",
              "      <td>3</td>\n",
              "      <td>Chile</td>\n",
              "      <td>0</td>\n",
              "      <td>4</td>\n",
              "      <td>1</td>\n",
              "      <td>1</td>\n",
              "      <td>0</td>\n",
              "    </tr>\n",
              "    <tr>\n",
              "      <th>1</th>\n",
              "      <td>Mesut Ozil</td>\n",
              "      <td>Arsenal</td>\n",
              "      <td>28</td>\n",
              "      <td>AM</td>\n",
              "      <td>1</td>\n",
              "      <td>50.0</td>\n",
              "      <td>4395</td>\n",
              "      <td>9.5</td>\n",
              "      <td>5.60%</td>\n",
              "      <td>167</td>\n",
              "      <td>2</td>\n",
              "      <td>Germany</td>\n",
              "      <td>0</td>\n",
              "      <td>4</td>\n",
              "      <td>1</td>\n",
              "      <td>1</td>\n",
              "      <td>0</td>\n",
              "    </tr>\n",
              "    <tr>\n",
              "      <th>2</th>\n",
              "      <td>Petr Cech</td>\n",
              "      <td>Arsenal</td>\n",
              "      <td>35</td>\n",
              "      <td>GK</td>\n",
              "      <td>4</td>\n",
              "      <td>7.0</td>\n",
              "      <td>1529</td>\n",
              "      <td>5.5</td>\n",
              "      <td>5.90%</td>\n",
              "      <td>134</td>\n",
              "      <td>2</td>\n",
              "      <td>Czech Republic</td>\n",
              "      <td>0</td>\n",
              "      <td>6</td>\n",
              "      <td>1</td>\n",
              "      <td>1</td>\n",
              "      <td>0</td>\n",
              "    </tr>\n",
              "    <tr>\n",
              "      <th>3</th>\n",
              "      <td>Theo Walcott</td>\n",
              "      <td>Arsenal</td>\n",
              "      <td>28</td>\n",
              "      <td>RW</td>\n",
              "      <td>1</td>\n",
              "      <td>20.0</td>\n",
              "      <td>2393</td>\n",
              "      <td>7.5</td>\n",
              "      <td>1.50%</td>\n",
              "      <td>122</td>\n",
              "      <td>1</td>\n",
              "      <td>England</td>\n",
              "      <td>0</td>\n",
              "      <td>4</td>\n",
              "      <td>1</td>\n",
              "      <td>1</td>\n",
              "      <td>0</td>\n",
              "    </tr>\n",
              "    <tr>\n",
              "      <th>4</th>\n",
              "      <td>Laurent Koscielny</td>\n",
              "      <td>Arsenal</td>\n",
              "      <td>31</td>\n",
              "      <td>CB</td>\n",
              "      <td>3</td>\n",
              "      <td>22.0</td>\n",
              "      <td>912</td>\n",
              "      <td>6.0</td>\n",
              "      <td>0.70%</td>\n",
              "      <td>121</td>\n",
              "      <td>2</td>\n",
              "      <td>France</td>\n",
              "      <td>0</td>\n",
              "      <td>4</td>\n",
              "      <td>1</td>\n",
              "      <td>1</td>\n",
              "      <td>0</td>\n",
              "    </tr>\n",
              "  </tbody>\n",
              "</table>\n",
              "</div>"
            ],
            "text/plain": [
              "                name     club  age  ... club_id  big_club  new_signing\n",
              "0     Alexis Sanchez  Arsenal   28  ...       1         1            0\n",
              "1         Mesut Ozil  Arsenal   28  ...       1         1            0\n",
              "2          Petr Cech  Arsenal   35  ...       1         1            0\n",
              "3       Theo Walcott  Arsenal   28  ...       1         1            0\n",
              "4  Laurent Koscielny  Arsenal   31  ...       1         1            0\n",
              "\n",
              "[5 rows x 17 columns]"
            ]
          },
          "metadata": {
            "tags": []
          },
          "execution_count": 34
        }
      ]
    },
    {
      "cell_type": "code",
      "metadata": {
        "id": "qOb_t56Hz7h-",
        "outputId": "d168410f-55bb-40f3-a6b4-151ffbead6cd",
        "colab": {
          "base_uri": "https://localhost:8080/",
          "height": 340
        }
      },
      "source": [
        "sns.heatmap(train.isnull(),yticklabels=False,cbar=False,cmap='viridis')"
      ],
      "execution_count": 35,
      "outputs": [
        {
          "output_type": "execute_result",
          "data": {
            "text/plain": [
              "<matplotlib.axes._subplots.AxesSubplot at 0x7fba80f29a90>"
            ]
          },
          "metadata": {
            "tags": []
          },
          "execution_count": 35
        },
        {
          "output_type": "display_data",
          "data": {
            "image/png": "[encoded data removed]",
            "text/plain": [
              "<Figure size 432x288 with 1 Axes>"
            ]
          },
          "metadata": {
            "tags": [],
            "needs_background": "light"
          }
        }
      ]
    },
    {
      "cell_type": "code",
      "metadata": {
        "id": "n6qbQrdsz7ki"
      },
      "source": [
        "train.drop(['name'],axis=1,inplace=True)"
      ],
      "execution_count": 36,
      "outputs": []
    },
    {
      "cell_type": "code",
      "metadata": {
        "id": "lza8WyGKz7nU",
        "outputId": "39036ae7-7670-465d-bf2d-d5316e408fb8",
        "colab": {
          "base_uri": "https://localhost:8080/",
          "height": 241
        }
      },
      "source": [
        "train.head()"
      ],
      "execution_count": 37,
      "outputs": [
        {
          "output_type": "execute_result",
          "data": {
            "text/html": [
              "<div>\n",
              "<style scoped>\n",
              "    .dataframe tbody tr th:only-of-type {\n",
              "        vertical-align: middle;\n",
              "    }\n",
              "\n",
              "    .dataframe tbody tr th {\n",
              "        vertical-align: top;\n",
              "    }\n",
              "\n",
              "    .dataframe thead th {\n",
              "        text-align: right;\n",
              "    }\n",
              "</style>\n",
              "<table border=\"1\" class=\"dataframe\">\n",
              "  <thead>\n",
              "    <tr style=\"text-align: right;\">\n",
              "      <th></th>\n",
              "      <th>club</th>\n",
              "      <th>age</th>\n",
              "      <th>position</th>\n",
              "      <th>position_cat</th>\n",
              "      <th>market_value</th>\n",
              "      <th>page_views</th>\n",
              "      <th>fpl_value</th>\n",
              "      <th>fpl_sel</th>\n",
              "      <th>fpl_points</th>\n",
              "      <th>region</th>\n",
              "      <th>nationality</th>\n",
              "      <th>new_foreign</th>\n",
              "      <th>age_cat</th>\n",
              "      <th>club_id</th>\n",
              "      <th>big_club</th>\n",
              "      <th>new_signing</th>\n",
              "    </tr>\n",
              "  </thead>\n",
              "  <tbody>\n",
              "    <tr>\n",
              "      <th>0</th>\n",
              "      <td>Arsenal</td>\n",
              "      <td>28</td>\n",
              "      <td>LW</td>\n",
              "      <td>1</td>\n",
              "      <td>65.0</td>\n",
              "      <td>4329</td>\n",
              "      <td>12.0</td>\n",
              "      <td>17.10%</td>\n",
              "      <td>264</td>\n",
              "      <td>3</td>\n",
              "      <td>Chile</td>\n",
              "      <td>0</td>\n",
              "      <td>4</td>\n",
              "      <td>1</td>\n",
              "      <td>1</td>\n",
              "      <td>0</td>\n",
              "    </tr>\n",
              "    <tr>\n",
              "      <th>1</th>\n",
              "      <td>Arsenal</td>\n",
              "      <td>28</td>\n",
              "      <td>AM</td>\n",
              "      <td>1</td>\n",
              "      <td>50.0</td>\n",
              "      <td>4395</td>\n",
              "      <td>9.5</td>\n",
              "      <td>5.60%</td>\n",
              "      <td>167</td>\n",
              "      <td>2</td>\n",
              "      <td>Germany</td>\n",
              "      <td>0</td>\n",
              "      <td>4</td>\n",
              "      <td>1</td>\n",
              "      <td>1</td>\n",
              "      <td>0</td>\n",
              "    </tr>\n",
              "    <tr>\n",
              "      <th>2</th>\n",
              "      <td>Arsenal</td>\n",
              "      <td>35</td>\n",
              "      <td>GK</td>\n",
              "      <td>4</td>\n",
              "      <td>7.0</td>\n",
              "      <td>1529</td>\n",
              "      <td>5.5</td>\n",
              "      <td>5.90%</td>\n",
              "      <td>134</td>\n",
              "      <td>2</td>\n",
              "      <td>Czech Republic</td>\n",
              "      <td>0</td>\n",
              "      <td>6</td>\n",
              "      <td>1</td>\n",
              "      <td>1</td>\n",
              "      <td>0</td>\n",
              "    </tr>\n",
              "    <tr>\n",
              "      <th>3</th>\n",
              "      <td>Arsenal</td>\n",
              "      <td>28</td>\n",
              "      <td>RW</td>\n",
              "      <td>1</td>\n",
              "      <td>20.0</td>\n",
              "      <td>2393</td>\n",
              "      <td>7.5</td>\n",
              "      <td>1.50%</td>\n",
              "      <td>122</td>\n",
              "      <td>1</td>\n",
              "      <td>England</td>\n",
              "      <td>0</td>\n",
              "      <td>4</td>\n",
              "      <td>1</td>\n",
              "      <td>1</td>\n",
              "      <td>0</td>\n",
              "    </tr>\n",
              "    <tr>\n",
              "      <th>4</th>\n",
              "      <td>Arsenal</td>\n",
              "      <td>31</td>\n",
              "      <td>CB</td>\n",
              "      <td>3</td>\n",
              "      <td>22.0</td>\n",
              "      <td>912</td>\n",
              "      <td>6.0</td>\n",
              "      <td>0.70%</td>\n",
              "      <td>121</td>\n",
              "      <td>2</td>\n",
              "      <td>France</td>\n",
              "      <td>0</td>\n",
              "      <td>4</td>\n",
              "      <td>1</td>\n",
              "      <td>1</td>\n",
              "      <td>0</td>\n",
              "    </tr>\n",
              "  </tbody>\n",
              "</table>\n",
              "</div>"
            ],
            "text/plain": [
              "      club  age position  position_cat  ...  age_cat  club_id  big_club new_signing\n",
              "0  Arsenal   28       LW             1  ...        4        1         1           0\n",
              "1  Arsenal   28       AM             1  ...        4        1         1           0\n",
              "2  Arsenal   35       GK             4  ...        6        1         1           0\n",
              "3  Arsenal   28       RW             1  ...        4        1         1           0\n",
              "4  Arsenal   31       CB             3  ...        4        1         1           0\n",
              "\n",
              "[5 rows x 16 columns]"
            ]
          },
          "metadata": {
            "tags": []
          },
          "execution_count": 37
        }
      ]
    },
    {
      "cell_type": "code",
      "metadata": {
        "id": "D75aIVTr4IUh"
      },
      "source": [
        "train.drop(['club'],axis=1,inplace=True)"
      ],
      "execution_count": 38,
      "outputs": []
    },
    {
      "cell_type": "code",
      "metadata": {
        "id": "bKbctVEd4IXd",
        "outputId": "f3e23966-91fe-4736-ae9c-748314a21b65",
        "colab": {
          "base_uri": "https://localhost:8080/",
          "height": 241
        }
      },
      "source": [
        "train.head()"
      ],
      "execution_count": 39,
      "outputs": [
        {
          "output_type": "execute_result",
          "data": {
            "text/html": [
              "<div>\n",
              "<style scoped>\n",
              "    .dataframe tbody tr th:only-of-type {\n",
              "        vertical-align: middle;\n",
              "    }\n",
              "\n",
              "    .dataframe tbody tr th {\n",
              "        vertical-align: top;\n",
              "    }\n",
              "\n",
              "    .dataframe thead th {\n",
              "        text-align: right;\n",
              "    }\n",
              "</style>\n",
              "<table border=\"1\" class=\"dataframe\">\n",
              "  <thead>\n",
              "    <tr style=\"text-align: right;\">\n",
              "      <th></th>\n",
              "      <th>age</th>\n",
              "      <th>position</th>\n",
              "      <th>position_cat</th>\n",
              "      <th>market_value</th>\n",
              "      <th>page_views</th>\n",
              "      <th>fpl_value</th>\n",
              "      <th>fpl_sel</th>\n",
              "      <th>fpl_points</th>\n",
              "      <th>region</th>\n",
              "      <th>nationality</th>\n",
              "      <th>new_foreign</th>\n",
              "      <th>age_cat</th>\n",
              "      <th>club_id</th>\n",
              "      <th>big_club</th>\n",
              "      <th>new_signing</th>\n",
              "    </tr>\n",
              "  </thead>\n",
              "  <tbody>\n",
              "    <tr>\n",
              "      <th>0</th>\n",
              "      <td>28</td>\n",
              "      <td>LW</td>\n",
              "      <td>1</td>\n",
              "      <td>65.0</td>\n",
              "      <td>4329</td>\n",
              "      <td>12.0</td>\n",
              "      <td>17.10%</td>\n",
              "      <td>264</td>\n",
              "      <td>3</td>\n",
              "      <td>Chile</td>\n",
              "      <td>0</td>\n",
              "      <td>4</td>\n",
              "      <td>1</td>\n",
              "      <td>1</td>\n",
              "      <td>0</td>\n",
              "    </tr>\n",
              "    <tr>\n",
              "      <th>1</th>\n",
              "      <td>28</td>\n",
              "      <td>AM</td>\n",
              "      <td>1</td>\n",
              "      <td>50.0</td>\n",
              "      <td>4395</td>\n",
              "      <td>9.5</td>\n",
              "      <td>5.60%</td>\n",
              "      <td>167</td>\n",
              "      <td>2</td>\n",
              "      <td>Germany</td>\n",
              "      <td>0</td>\n",
              "      <td>4</td>\n",
              "      <td>1</td>\n",
              "      <td>1</td>\n",
              "      <td>0</td>\n",
              "    </tr>\n",
              "    <tr>\n",
              "      <th>2</th>\n",
              "      <td>35</td>\n",
              "      <td>GK</td>\n",
              "      <td>4</td>\n",
              "      <td>7.0</td>\n",
              "      <td>1529</td>\n",
              "      <td>5.5</td>\n",
              "      <td>5.90%</td>\n",
              "      <td>134</td>\n",
              "      <td>2</td>\n",
              "      <td>Czech Republic</td>\n",
              "      <td>0</td>\n",
              "      <td>6</td>\n",
              "      <td>1</td>\n",
              "      <td>1</td>\n",
              "      <td>0</td>\n",
              "    </tr>\n",
              "    <tr>\n",
              "      <th>3</th>\n",
              "      <td>28</td>\n",
              "      <td>RW</td>\n",
              "      <td>1</td>\n",
              "      <td>20.0</td>\n",
              "      <td>2393</td>\n",
              "      <td>7.5</td>\n",
              "      <td>1.50%</td>\n",
              "      <td>122</td>\n",
              "      <td>1</td>\n",
              "      <td>England</td>\n",
              "      <td>0</td>\n",
              "      <td>4</td>\n",
              "      <td>1</td>\n",
              "      <td>1</td>\n",
              "      <td>0</td>\n",
              "    </tr>\n",
              "    <tr>\n",
              "      <th>4</th>\n",
              "      <td>31</td>\n",
              "      <td>CB</td>\n",
              "      <td>3</td>\n",
              "      <td>22.0</td>\n",
              "      <td>912</td>\n",
              "      <td>6.0</td>\n",
              "      <td>0.70%</td>\n",
              "      <td>121</td>\n",
              "      <td>2</td>\n",
              "      <td>France</td>\n",
              "      <td>0</td>\n",
              "      <td>4</td>\n",
              "      <td>1</td>\n",
              "      <td>1</td>\n",
              "      <td>0</td>\n",
              "    </tr>\n",
              "  </tbody>\n",
              "</table>\n",
              "</div>"
            ],
            "text/plain": [
              "   age position  position_cat  ...  club_id  big_club  new_signing\n",
              "0   28       LW             1  ...        1         1            0\n",
              "1   28       AM             1  ...        1         1            0\n",
              "2   35       GK             4  ...        1         1            0\n",
              "3   28       RW             1  ...        1         1            0\n",
              "4   31       CB             3  ...        1         1            0\n",
              "\n",
              "[5 rows x 15 columns]"
            ]
          },
          "metadata": {
            "tags": []
          },
          "execution_count": 39
        }
      ]
    },
    {
      "cell_type": "code",
      "metadata": {
        "id": "jiHcxFON4Ibr",
        "outputId": "88b0fe72-697c-49ab-df1d-84dc9a131241",
        "colab": {
          "base_uri": "https://localhost:8080/",
          "height": 204
        }
      },
      "source": [
        "train.drop(['position'],axis=1,inplace=True)\n",
        "train.head()"
      ],
      "execution_count": 40,
      "outputs": [
        {
          "output_type": "execute_result",
          "data": {
            "text/html": [
              "<div>\n",
              "<style scoped>\n",
              "    .dataframe tbody tr th:only-of-type {\n",
              "        vertical-align: middle;\n",
              "    }\n",
              "\n",
              "    .dataframe tbody tr th {\n",
              "        vertical-align: top;\n",
              "    }\n",
              "\n",
              "    .dataframe thead th {\n",
              "        text-align: right;\n",
              "    }\n",
              "</style>\n",
              "<table border=\"1\" class=\"dataframe\">\n",
              "  <thead>\n",
              "    <tr style=\"text-align: right;\">\n",
              "      <th></th>\n",
              "      <th>age</th>\n",
              "      <th>position_cat</th>\n",
              "      <th>market_value</th>\n",
              "      <th>page_views</th>\n",
              "      <th>fpl_value</th>\n",
              "      <th>fpl_sel</th>\n",
              "      <th>fpl_points</th>\n",
              "      <th>region</th>\n",
              "      <th>nationality</th>\n",
              "      <th>new_foreign</th>\n",
              "      <th>age_cat</th>\n",
              "      <th>club_id</th>\n",
              "      <th>big_club</th>\n",
              "      <th>new_signing</th>\n",
              "    </tr>\n",
              "  </thead>\n",
              "  <tbody>\n",
              "    <tr>\n",
              "      <th>0</th>\n",
              "      <td>28</td>\n",
              "      <td>1</td>\n",
              "      <td>65.0</td>\n",
              "      <td>4329</td>\n",
              "      <td>12.0</td>\n",
              "      <td>17.10%</td>\n",
              "      <td>264</td>\n",
              "      <td>3</td>\n",
              "      <td>Chile</td>\n",
              "      <td>0</td>\n",
              "      <td>4</td>\n",
              "      <td>1</td>\n",
              "      <td>1</td>\n",
              "      <td>0</td>\n",
              "    </tr>\n",
              "    <tr>\n",
              "      <th>1</th>\n",
              "      <td>28</td>\n",
              "      <td>1</td>\n",
              "      <td>50.0</td>\n",
              "      <td>4395</td>\n",
              "      <td>9.5</td>\n",
              "      <td>5.60%</td>\n",
              "      <td>167</td>\n",
              "      <td>2</td>\n",
              "      <td>Germany</td>\n",
              "      <td>0</td>\n",
              "      <td>4</td>\n",
              "      <td>1</td>\n",
              "      <td>1</td>\n",
              "      <td>0</td>\n",
              "    </tr>\n",
              "    <tr>\n",
              "      <th>2</th>\n",
              "      <td>35</td>\n",
              "      <td>4</td>\n",
              "      <td>7.0</td>\n",
              "      <td>1529</td>\n",
              "      <td>5.5</td>\n",
              "      <td>5.90%</td>\n",
              "      <td>134</td>\n",
              "      <td>2</td>\n",
              "      <td>Czech Republic</td>\n",
              "      <td>0</td>\n",
              "      <td>6</td>\n",
              "      <td>1</td>\n",
              "      <td>1</td>\n",
              "      <td>0</td>\n",
              "    </tr>\n",
              "    <tr>\n",
              "      <th>3</th>\n",
              "      <td>28</td>\n",
              "      <td>1</td>\n",
              "      <td>20.0</td>\n",
              "      <td>2393</td>\n",
              "      <td>7.5</td>\n",
              "      <td>1.50%</td>\n",
              "      <td>122</td>\n",
              "      <td>1</td>\n",
              "      <td>England</td>\n",
              "      <td>0</td>\n",
              "      <td>4</td>\n",
              "      <td>1</td>\n",
              "      <td>1</td>\n",
              "      <td>0</td>\n",
              "    </tr>\n",
              "    <tr>\n",
              "      <th>4</th>\n",
              "      <td>31</td>\n",
              "      <td>3</td>\n",
              "      <td>22.0</td>\n",
              "      <td>912</td>\n",
              "      <td>6.0</td>\n",
              "      <td>0.70%</td>\n",
              "      <td>121</td>\n",
              "      <td>2</td>\n",
              "      <td>France</td>\n",
              "      <td>0</td>\n",
              "      <td>4</td>\n",
              "      <td>1</td>\n",
              "      <td>1</td>\n",
              "      <td>0</td>\n",
              "    </tr>\n",
              "  </tbody>\n",
              "</table>\n",
              "</div>"
            ],
            "text/plain": [
              "   age  position_cat  market_value  ...  club_id  big_club new_signing\n",
              "0   28             1          65.0  ...        1         1           0\n",
              "1   28             1          50.0  ...        1         1           0\n",
              "2   35             4           7.0  ...        1         1           0\n",
              "3   28             1          20.0  ...        1         1           0\n",
              "4   31             3          22.0  ...        1         1           0\n",
              "\n",
              "[5 rows x 14 columns]"
            ]
          },
          "metadata": {
            "tags": []
          },
          "execution_count": 40
        }
      ]
    },
    {
      "cell_type": "code",
      "metadata": {
        "id": "hdQQw4uqz7qB",
        "outputId": "852c56f8-a702-4eaf-8e50-e915f62d9fc2",
        "colab": {
          "base_uri": "https://localhost:8080/",
          "height": 204
        }
      },
      "source": [
        "train.drop(['nationality'],axis=1,inplace=True)\n",
        "train.head()"
      ],
      "execution_count": 41,
      "outputs": [
        {
          "output_type": "execute_result",
          "data": {
            "text/html": [
              "<div>\n",
              "<style scoped>\n",
              "    .dataframe tbody tr th:only-of-type {\n",
              "        vertical-align: middle;\n",
              "    }\n",
              "\n",
              "    .dataframe tbody tr th {\n",
              "        vertical-align: top;\n",
              "    }\n",
              "\n",
              "    .dataframe thead th {\n",
              "        text-align: right;\n",
              "    }\n",
              "</style>\n",
              "<table border=\"1\" class=\"dataframe\">\n",
              "  <thead>\n",
              "    <tr style=\"text-align: right;\">\n",
              "      <th></th>\n",
              "      <th>age</th>\n",
              "      <th>position_cat</th>\n",
              "      <th>market_value</th>\n",
              "      <th>page_views</th>\n",
              "      <th>fpl_value</th>\n",
              "      <th>fpl_sel</th>\n",
              "      <th>fpl_points</th>\n",
              "      <th>region</th>\n",
              "      <th>new_foreign</th>\n",
              "      <th>age_cat</th>\n",
              "      <th>club_id</th>\n",
              "      <th>big_club</th>\n",
              "      <th>new_signing</th>\n",
              "    </tr>\n",
              "  </thead>\n",
              "  <tbody>\n",
              "    <tr>\n",
              "      <th>0</th>\n",
              "      <td>28</td>\n",
              "      <td>1</td>\n",
              "      <td>65.0</td>\n",
              "      <td>4329</td>\n",
              "      <td>12.0</td>\n",
              "      <td>17.10%</td>\n",
              "      <td>264</td>\n",
              "      <td>3</td>\n",
              "      <td>0</td>\n",
              "      <td>4</td>\n",
              "      <td>1</td>\n",
              "      <td>1</td>\n",
              "      <td>0</td>\n",
              "    </tr>\n",
              "    <tr>\n",
              "      <th>1</th>\n",
              "      <td>28</td>\n",
              "      <td>1</td>\n",
              "      <td>50.0</td>\n",
              "      <td>4395</td>\n",
              "      <td>9.5</td>\n",
              "      <td>5.60%</td>\n",
              "      <td>167</td>\n",
              "      <td>2</td>\n",
              "      <td>0</td>\n",
              "      <td>4</td>\n",
              "      <td>1</td>\n",
              "      <td>1</td>\n",
              "      <td>0</td>\n",
              "    </tr>\n",
              "    <tr>\n",
              "      <th>2</th>\n",
              "      <td>35</td>\n",
              "      <td>4</td>\n",
              "      <td>7.0</td>\n",
              "      <td>1529</td>\n",
              "      <td>5.5</td>\n",
              "      <td>5.90%</td>\n",
              "      <td>134</td>\n",
              "      <td>2</td>\n",
              "      <td>0</td>\n",
              "      <td>6</td>\n",
              "      <td>1</td>\n",
              "      <td>1</td>\n",
              "      <td>0</td>\n",
              "    </tr>\n",
              "    <tr>\n",
              "      <th>3</th>\n",
              "      <td>28</td>\n",
              "      <td>1</td>\n",
              "      <td>20.0</td>\n",
              "      <td>2393</td>\n",
              "      <td>7.5</td>\n",
              "      <td>1.50%</td>\n",
              "      <td>122</td>\n",
              "      <td>1</td>\n",
              "      <td>0</td>\n",
              "      <td>4</td>\n",
              "      <td>1</td>\n",
              "      <td>1</td>\n",
              "      <td>0</td>\n",
              "    </tr>\n",
              "    <tr>\n",
              "      <th>4</th>\n",
              "      <td>31</td>\n",
              "      <td>3</td>\n",
              "      <td>22.0</td>\n",
              "      <td>912</td>\n",
              "      <td>6.0</td>\n",
              "      <td>0.70%</td>\n",
              "      <td>121</td>\n",
              "      <td>2</td>\n",
              "      <td>0</td>\n",
              "      <td>4</td>\n",
              "      <td>1</td>\n",
              "      <td>1</td>\n",
              "      <td>0</td>\n",
              "    </tr>\n",
              "  </tbody>\n",
              "</table>\n",
              "</div>"
            ],
            "text/plain": [
              "   age  position_cat  market_value  ...  club_id  big_club new_signing\n",
              "0   28             1          65.0  ...        1         1           0\n",
              "1   28             1          50.0  ...        1         1           0\n",
              "2   35             4           7.0  ...        1         1           0\n",
              "3   28             1          20.0  ...        1         1           0\n",
              "4   31             3          22.0  ...        1         1           0\n",
              "\n",
              "[5 rows x 13 columns]"
            ]
          },
          "metadata": {
            "tags": []
          },
          "execution_count": 41
        }
      ]
    },
    {
      "cell_type": "code",
      "metadata": {
        "id": "DB23FEdOb01u",
        "outputId": "955bf9a4-7b4f-43bb-c545-1be5f7a5da0a",
        "colab": {
          "base_uri": "https://localhost:8080/",
          "height": 204
        }
      },
      "source": [
        "train['FPL_SEL'] = pd.to_numeric(train['fpl_sel'].str[:-1])\n",
        "train.head()"
      ],
      "execution_count": 42,
      "outputs": [
        {
          "output_type": "execute_result",
          "data": {
            "text/html": [
              "<div>\n",
              "<style scoped>\n",
              "    .dataframe tbody tr th:only-of-type {\n",
              "        vertical-align: middle;\n",
              "    }\n",
              "\n",
              "    .dataframe tbody tr th {\n",
              "        vertical-align: top;\n",
              "    }\n",
              "\n",
              "    .dataframe thead th {\n",
              "        text-align: right;\n",
              "    }\n",
              "</style>\n",
              "<table border=\"1\" class=\"dataframe\">\n",
              "  <thead>\n",
              "    <tr style=\"text-align: right;\">\n",
              "      <th></th>\n",
              "      <th>age</th>\n",
              "      <th>position_cat</th>\n",
              "      <th>market_value</th>\n",
              "      <th>page_views</th>\n",
              "      <th>fpl_value</th>\n",
              "      <th>fpl_sel</th>\n",
              "      <th>fpl_points</th>\n",
              "      <th>region</th>\n",
              "      <th>new_foreign</th>\n",
              "      <th>age_cat</th>\n",
              "      <th>club_id</th>\n",
              "      <th>big_club</th>\n",
              "      <th>new_signing</th>\n",
              "      <th>FPL_SEL</th>\n",
              "    </tr>\n",
              "  </thead>\n",
              "  <tbody>\n",
              "    <tr>\n",
              "      <th>0</th>\n",
              "      <td>28</td>\n",
              "      <td>1</td>\n",
              "      <td>65.0</td>\n",
              "      <td>4329</td>\n",
              "      <td>12.0</td>\n",
              "      <td>17.10%</td>\n",
              "      <td>264</td>\n",
              "      <td>3</td>\n",
              "      <td>0</td>\n",
              "      <td>4</td>\n",
              "      <td>1</td>\n",
              "      <td>1</td>\n",
              "      <td>0</td>\n",
              "      <td>17.1</td>\n",
              "    </tr>\n",
              "    <tr>\n",
              "      <th>1</th>\n",
              "      <td>28</td>\n",
              "      <td>1</td>\n",
              "      <td>50.0</td>\n",
              "      <td>4395</td>\n",
              "      <td>9.5</td>\n",
              "      <td>5.60%</td>\n",
              "      <td>167</td>\n",
              "      <td>2</td>\n",
              "      <td>0</td>\n",
              "      <td>4</td>\n",
              "      <td>1</td>\n",
              "      <td>1</td>\n",
              "      <td>0</td>\n",
              "      <td>5.6</td>\n",
              "    </tr>\n",
              "    <tr>\n",
              "      <th>2</th>\n",
              "      <td>35</td>\n",
              "      <td>4</td>\n",
              "      <td>7.0</td>\n",
              "      <td>1529</td>\n",
              "      <td>5.5</td>\n",
              "      <td>5.90%</td>\n",
              "      <td>134</td>\n",
              "      <td>2</td>\n",
              "      <td>0</td>\n",
              "      <td>6</td>\n",
              "      <td>1</td>\n",
              "      <td>1</td>\n",
              "      <td>0</td>\n",
              "      <td>5.9</td>\n",
              "    </tr>\n",
              "    <tr>\n",
              "      <th>3</th>\n",
              "      <td>28</td>\n",
              "      <td>1</td>\n",
              "      <td>20.0</td>\n",
              "      <td>2393</td>\n",
              "      <td>7.5</td>\n",
              "      <td>1.50%</td>\n",
              "      <td>122</td>\n",
              "      <td>1</td>\n",
              "      <td>0</td>\n",
              "      <td>4</td>\n",
              "      <td>1</td>\n",
              "      <td>1</td>\n",
              "      <td>0</td>\n",
              "      <td>1.5</td>\n",
              "    </tr>\n",
              "    <tr>\n",
              "      <th>4</th>\n",
              "      <td>31</td>\n",
              "      <td>3</td>\n",
              "      <td>22.0</td>\n",
              "      <td>912</td>\n",
              "      <td>6.0</td>\n",
              "      <td>0.70%</td>\n",
              "      <td>121</td>\n",
              "      <td>2</td>\n",
              "      <td>0</td>\n",
              "      <td>4</td>\n",
              "      <td>1</td>\n",
              "      <td>1</td>\n",
              "      <td>0</td>\n",
              "      <td>0.7</td>\n",
              "    </tr>\n",
              "  </tbody>\n",
              "</table>\n",
              "</div>"
            ],
            "text/plain": [
              "   age  position_cat  market_value  ...  big_club  new_signing FPL_SEL\n",
              "0   28             1          65.0  ...         1            0    17.1\n",
              "1   28             1          50.0  ...         1            0     5.6\n",
              "2   35             4           7.0  ...         1            0     5.9\n",
              "3   28             1          20.0  ...         1            0     1.5\n",
              "4   31             3          22.0  ...         1            0     0.7\n",
              "\n",
              "[5 rows x 14 columns]"
            ]
          },
          "metadata": {
            "tags": []
          },
          "execution_count": 42
        }
      ]
    },
    {
      "cell_type": "code",
      "metadata": {
        "id": "mPaAVSzHdFPB",
        "outputId": "12c74633-0d6c-4449-85fb-e5ee2ba750e7",
        "colab": {
          "base_uri": "https://localhost:8080/",
          "height": 204
        }
      },
      "source": [
        "train.drop(['fpl_sel'],axis=1,inplace=True)\n",
        "train.head()"
      ],
      "execution_count": 43,
      "outputs": [
        {
          "output_type": "execute_result",
          "data": {
            "text/html": [
              "<div>\n",
              "<style scoped>\n",
              "    .dataframe tbody tr th:only-of-type {\n",
              "        vertical-align: middle;\n",
              "    }\n",
              "\n",
              "    .dataframe tbody tr th {\n",
              "        vertical-align: top;\n",
              "    }\n",
              "\n",
              "    .dataframe thead th {\n",
              "        text-align: right;\n",
              "    }\n",
              "</style>\n",
              "<table border=\"1\" class=\"dataframe\">\n",
              "  <thead>\n",
              "    <tr style=\"text-align: right;\">\n",
              "      <th></th>\n",
              "      <th>age</th>\n",
              "      <th>position_cat</th>\n",
              "      <th>market_value</th>\n",
              "      <th>page_views</th>\n",
              "      <th>fpl_value</th>\n",
              "      <th>fpl_points</th>\n",
              "      <th>region</th>\n",
              "      <th>new_foreign</th>\n",
              "      <th>age_cat</th>\n",
              "      <th>club_id</th>\n",
              "      <th>big_club</th>\n",
              "      <th>new_signing</th>\n",
              "      <th>FPL_SEL</th>\n",
              "    </tr>\n",
              "  </thead>\n",
              "  <tbody>\n",
              "    <tr>\n",
              "      <th>0</th>\n",
              "      <td>28</td>\n",
              "      <td>1</td>\n",
              "      <td>65.0</td>\n",
              "      <td>4329</td>\n",
              "      <td>12.0</td>\n",
              "      <td>264</td>\n",
              "      <td>3</td>\n",
              "      <td>0</td>\n",
              "      <td>4</td>\n",
              "      <td>1</td>\n",
              "      <td>1</td>\n",
              "      <td>0</td>\n",
              "      <td>17.1</td>\n",
              "    </tr>\n",
              "    <tr>\n",
              "      <th>1</th>\n",
              "      <td>28</td>\n",
              "      <td>1</td>\n",
              "      <td>50.0</td>\n",
              "      <td>4395</td>\n",
              "      <td>9.5</td>\n",
              "      <td>167</td>\n",
              "      <td>2</td>\n",
              "      <td>0</td>\n",
              "      <td>4</td>\n",
              "      <td>1</td>\n",
              "      <td>1</td>\n",
              "      <td>0</td>\n",
              "      <td>5.6</td>\n",
              "    </tr>\n",
              "    <tr>\n",
              "      <th>2</th>\n",
              "      <td>35</td>\n",
              "      <td>4</td>\n",
              "      <td>7.0</td>\n",
              "      <td>1529</td>\n",
              "      <td>5.5</td>\n",
              "      <td>134</td>\n",
              "      <td>2</td>\n",
              "      <td>0</td>\n",
              "      <td>6</td>\n",
              "      <td>1</td>\n",
              "      <td>1</td>\n",
              "      <td>0</td>\n",
              "      <td>5.9</td>\n",
              "    </tr>\n",
              "    <tr>\n",
              "      <th>3</th>\n",
              "      <td>28</td>\n",
              "      <td>1</td>\n",
              "      <td>20.0</td>\n",
              "      <td>2393</td>\n",
              "      <td>7.5</td>\n",
              "      <td>122</td>\n",
              "      <td>1</td>\n",
              "      <td>0</td>\n",
              "      <td>4</td>\n",
              "      <td>1</td>\n",
              "      <td>1</td>\n",
              "      <td>0</td>\n",
              "      <td>1.5</td>\n",
              "    </tr>\n",
              "    <tr>\n",
              "      <th>4</th>\n",
              "      <td>31</td>\n",
              "      <td>3</td>\n",
              "      <td>22.0</td>\n",
              "      <td>912</td>\n",
              "      <td>6.0</td>\n",
              "      <td>121</td>\n",
              "      <td>2</td>\n",
              "      <td>0</td>\n",
              "      <td>4</td>\n",
              "      <td>1</td>\n",
              "      <td>1</td>\n",
              "      <td>0</td>\n",
              "      <td>0.7</td>\n",
              "    </tr>\n",
              "  </tbody>\n",
              "</table>\n",
              "</div>"
            ],
            "text/plain": [
              "   age  position_cat  market_value  ...  big_club  new_signing  FPL_SEL\n",
              "0   28             1          65.0  ...         1            0     17.1\n",
              "1   28             1          50.0  ...         1            0      5.6\n",
              "2   35             4           7.0  ...         1            0      5.9\n",
              "3   28             1          20.0  ...         1            0      1.5\n",
              "4   31             3          22.0  ...         1            0      0.7\n",
              "\n",
              "[5 rows x 13 columns]"
            ]
          },
          "metadata": {
            "tags": []
          },
          "execution_count": 43
        }
      ]
    },
    {
      "cell_type": "code",
      "metadata": {
        "id": "t70LzvvTd4mC",
        "outputId": "84f7070e-901e-4883-bdb1-6fee6d01c612",
        "colab": {
          "base_uri": "https://localhost:8080/"
        }
      },
      "source": [
        "df = pd.DataFrame(train)\n",
        "print (df)\n",
        "print (df.dtypes)"
      ],
      "execution_count": 44,
      "outputs": [
        {
          "output_type": "stream",
          "text": [
            "     age  position_cat  market_value  ...  big_club  new_signing  FPL_SEL\n",
            "0     28             1          65.0  ...         1            0     17.1\n",
            "1     28             1          50.0  ...         1            0      5.6\n",
            "2     35             4           7.0  ...         1            0      5.9\n",
            "3     28             1          20.0  ...         1            0      1.5\n",
            "4     31             3          22.0  ...         1            0      0.7\n",
            "..   ...           ...           ...  ...       ...          ...      ...\n",
            "456   21             2           5.0  ...         0            1      0.4\n",
            "457   23             3           7.0  ...         0            1      0.2\n",
            "458   23             3           4.5  ...         0            0      0.3\n",
            "459   21             1           1.0  ...         0            1      5.9\n",
            "460   27             1          10.0  ...         0            0      0.1\n",
            "\n",
            "[461 rows x 13 columns]\n",
            "age               int64\n",
            "position_cat      int64\n",
            "market_value    float64\n",
            "page_views        int64\n",
            "fpl_value       float64\n",
            "fpl_points        int64\n",
            "region            int64\n",
            "new_foreign       int64\n",
            "age_cat           int64\n",
            "club_id           int64\n",
            "big_club          int64\n",
            "new_signing       int64\n",
            "FPL_SEL         float64\n",
            "dtype: object\n"
          ],
          "name": "stdout"
        }
      ]
    },
    {
      "cell_type": "code",
      "metadata": {
        "id": "pzrDEPeQvdqb"
      },
      "source": [
        "X= train.drop('market_value',axis=1)\n",
        "Y= train['market_value']"
      ],
      "execution_count": 45,
      "outputs": []
    },
    {
      "cell_type": "code",
      "metadata": {
        "id": "cqT7reES5Cor"
      },
      "source": [
        "from sklearn.model_selection  import train_test_split"
      ],
      "execution_count": 46,
      "outputs": []
    },
    {
      "cell_type": "code",
      "metadata": {
        "id": "IR0Xjgmv5CtE",
        "outputId": "c948bb4f-bf61-487e-e274-dac12ec4c178",
        "colab": {
          "base_uri": "https://localhost:8080/"
        }
      },
      "source": [
        "X_train, X_test, Y_train, Y_test = train_test_split(X, Y, test_size = 0.25, random_state=101)\n",
        "print(X_train.shape)\n",
        "print(X_test.shape)\n",
        "print(Y_train.shape)\n",
        "print(Y_test.shape)"
      ],
      "execution_count": 47,
      "outputs": [
        {
          "output_type": "stream",
          "text": [
            "(345, 12)\n",
            "(116, 12)\n",
            "(345,)\n",
            "(116,)\n"
          ],
          "name": "stdout"
        }
      ]
    },
    {
      "cell_type": "code",
      "metadata": {
        "id": "bHyWesIN5Cwj",
        "outputId": "85db87fc-ae38-4266-bdd2-81f6c8603c73",
        "colab": {
          "base_uri": "https://localhost:8080/"
        }
      },
      "source": [
        "from sklearn.linear_model import LinearRegression\n",
        "regressor = LinearRegression()\n",
        "regressor.fit(X_train, Y_train)"
      ],
      "execution_count": 48,
      "outputs": [
        {
          "output_type": "execute_result",
          "data": {
            "text/plain": [
              "LinearRegression(copy_X=True, fit_intercept=True, n_jobs=None, normalize=False)"
            ]
          },
          "metadata": {
            "tags": []
          },
          "execution_count": 48
        }
      ]
    },
    {
      "cell_type": "code",
      "metadata": {
        "id": "MNeQvakK6z6E"
      },
      "source": [
        "from sklearn import metrics"
      ],
      "execution_count": 49,
      "outputs": []
    },
    {
      "cell_type": "code",
      "metadata": {
        "id": "xA-8oCme_5Lf"
      },
      "source": [
        "pred = regressor.predict(X_test)"
      ],
      "execution_count": 50,
      "outputs": []
    },
    {
      "cell_type": "code",
      "metadata": {
        "id": "_o3tIyzf_5SZ",
        "outputId": "1de1329b-466e-4c27-936a-0a6e9448c1ee",
        "colab": {
          "base_uri": "https://localhost:8080/",
          "height": 296
        }
      },
      "source": [
        "plt.scatter(Y_test,pred)\n",
        "plt.xlabel(\"Prices\")\n",
        "plt.ylabel(\"Predicted prices\")"
      ],
      "execution_count": 51,
      "outputs": [
        {
          "output_type": "execute_result",
          "data": {
            "text/plain": [
              "Text(0, 0.5, 'Predicted prices')"
            ]
          },
          "metadata": {
            "tags": []
          },
          "execution_count": 51
        },
        {
          "output_type": "display_data",
          "data": {
            "image/png": "[encoded data removed]",
            "text/plain": [
              "<Figure size 432x288 with 1 Axes>"
            ]
          },
          "metadata": {
            "tags": [],
            "needs_background": "light"
          }
        }
      ]
    },
    {
      "cell_type": "code",
      "metadata": {
        "id": "C-w-2_R4_553"
      },
      "source": [
        "RMSE = np.sqrt(metrics.mean_squared_error(Y_test, pred))"
      ],
      "execution_count": 52,
      "outputs": []
    },
    {
      "cell_type": "code",
      "metadata": {
        "id": "VPe3cbsXC0ju",
        "outputId": "144cdf35-4532-481a-a58f-8ca4da559a93",
        "colab": {
          "base_uri": "https://localhost:8080/"
        }
      },
      "source": [
        "print(RMSE)"
      ],
      "execution_count": 53,
      "outputs": [
        {
          "output_type": "stream",
          "text": [
            "6.276964899844313\n"
          ],
          "name": "stdout"
        }
      ]
    },
    {
      "cell_type": "code",
      "metadata": {
        "id": "herw36e_F8xd",
        "outputId": "e64cab9d-91cd-4ead-ab00-9aa27b402fb9",
        "colab": {
          "base_uri": "https://localhost:8080/"
        }
      },
      "source": [
        "!pip install tpot"
      ],
      "execution_count": 55,
      "outputs": [
        {
          "output_type": "stream",
          "text": [
            "Collecting tpot\n",
            "\u001b[?25l  Downloading https://files.pythonhosted.org/packages/4e/f9/a25df51bde9f437d77d44f85808aea68574d3d9c348f24c3272feaac88d6/TPOT-0.11.6-py3-none-any.whl (86kB)\n",
            "\r\u001b[K     |███▉                            | 10kB 16.0MB/s eta 0:00:01\r\u001b[K     |███████▋                        | 20kB 6.3MB/s eta 0:00:01\r\u001b[K     |███████████▍                    | 30kB 6.6MB/s eta 0:00:01\r\u001b[K     |███████████████▎                | 40kB 5.6MB/s eta 0:00:01\r\u001b[K     |███████████████████             | 51kB 4.7MB/s eta 0:00:01\r\u001b[K     |██████████████████████▉         | 61kB 4.5MB/s eta 0:00:01\r\u001b[K     |██████████████████████████▋     | 71kB 4.6MB/s eta 0:00:01\r\u001b[K     |██████████████████████████████▌ | 81kB 4.7MB/s eta 0:00:01\r\u001b[K     |████████████████████████████████| 92kB 3.2MB/s \n",
            "\u001b[?25hRequirement already satisfied: scipy>=1.3.1 in /usr/local/lib/python3.6/dist-packages (from tpot) (1.4.1)\n",
            "Collecting deap>=1.2\n",
            "\u001b[?25l  Downloading https://files.pythonhosted.org/packages/0a/eb/2bd0a32e3ce757fb26264765abbaedd6d4d3640d90219a513aeabd08ee2b/deap-1.3.1-cp36-cp36m-manylinux2010_x86_64.whl (157kB)\n",
            "\u001b[K     |████████████████████████████████| 163kB 7.0MB/s \n",
            "\u001b[?25hRequirement already satisfied: numpy>=1.16.3 in /usr/local/lib/python3.6/dist-packages (from tpot) (1.18.5)\n",
            "Requirement already satisfied: scikit-learn>=0.22.0 in /usr/local/lib/python3.6/dist-packages (from tpot) (0.22.2.post1)\n",
            "Collecting stopit>=1.1.1\n",
            "  Downloading https://files.pythonhosted.org/packages/35/58/e8bb0b0fb05baf07bbac1450c447d753da65f9701f551dca79823ce15d50/stopit-1.1.2.tar.gz\n",
            "Collecting update-checker>=0.16\n",
            "  Downloading https://files.pythonhosted.org/packages/0c/ba/8dd7fa5f0b1c6a8ac62f8f57f7e794160c1f86f31c6d0fb00f582372a3e4/update_checker-0.18.0-py3-none-any.whl\n",
            "Requirement already satisfied: joblib>=0.13.2 in /usr/local/lib/python3.6/dist-packages (from tpot) (0.17.0)\n",
            "Requirement already satisfied: pandas>=0.24.2 in /usr/local/lib/python3.6/dist-packages (from tpot) (1.1.3)\n",
            "Requirement already satisfied: tqdm>=4.36.1 in /usr/local/lib/python3.6/dist-packages (from tpot) (4.41.1)\n",
            "Requirement already satisfied: requests>=2.3.0 in /usr/local/lib/python3.6/dist-packages (from update-checker>=0.16->tpot) (2.23.0)\n",
            "Requirement already satisfied: pytz>=2017.2 in /usr/local/lib/python3.6/dist-packages (from pandas>=0.24.2->tpot) (2018.9)\n",
            "Requirement already satisfied: python-dateutil>=2.7.3 in /usr/local/lib/python3.6/dist-packages (from pandas>=0.24.2->tpot) (2.8.1)\n",
            "Requirement already satisfied: urllib3!=1.25.0,!=1.25.1,<1.26,>=1.21.1 in /usr/local/lib/python3.6/dist-packages (from requests>=2.3.0->update-checker>=0.16->tpot) (1.24.3)\n",
            "Requirement already satisfied: chardet<4,>=3.0.2 in /usr/local/lib/python3.6/dist-packages (from requests>=2.3.0->update-checker>=0.16->tpot) (3.0.4)\n",
            "Requirement already satisfied: idna<3,>=2.5 in /usr/local/lib/python3.6/dist-packages (from requests>=2.3.0->update-checker>=0.16->tpot) (2.10)\n",
            "Requirement already satisfied: certifi>=2017.4.17 in /usr/local/lib/python3.6/dist-packages (from requests>=2.3.0->update-checker>=0.16->tpot) (2020.6.20)\n",
            "Requirement already satisfied: six>=1.5 in /usr/local/lib/python3.6/dist-packages (from python-dateutil>=2.7.3->pandas>=0.24.2->tpot) (1.15.0)\n",
            "Building wheels for collected packages: stopit\n",
            "  Building wheel for stopit (setup.py) ... \u001b[?25l\u001b[?25hdone\n",
            "  Created wheel for stopit: filename=stopit-1.1.2-cp36-none-any.whl size=11956 sha256=1c8cea892d9d68bc0add6d1a2cbef9036d15dd9b60070325fccc2e48e051161e\n",
            "  Stored in directory: /root/.cache/pip/wheels/3c/85/2b/2580190404636bfc63e8de3dff629c03bb795021e1983a6cc7\n",
            "Successfully built stopit\n",
            "Installing collected packages: deap, stopit, update-checker, tpot\n",
            "Successfully installed deap-1.3.1 stopit-1.1.2 tpot-0.11.6 update-checker-0.18.0\n"
          ],
          "name": "stdout"
        }
      ]
    },
    {
      "cell_type": "code",
      "metadata": {
        "id": "hwZwQOZtF58q"
      },
      "source": [
        "from tpot import TPOTRegressor"
      ],
      "execution_count": 56,
      "outputs": []
    },
    {
      "cell_type": "code",
      "metadata": {
        "id": "lS2OJ7FhF5__"
      },
      "source": [
        "tpot = TPOTRegressor(generations=10, population_size=300, verbosity=2, random_state=42)"
      ],
      "execution_count": 57,
      "outputs": []
    },
    {
      "cell_type": "code",
      "metadata": {
        "id": "gM2qnAivF6Ct",
        "outputId": "33cc6d15-a504-4cef-e449-a15bd4dbc63c",
        "colab": {
          "base_uri": "https://localhost:8080/",
          "height": 530,
          "referenced_widgets": [
            "1a0034050f114af4974202e7d7502068",
            "9059e89373f14846b1061174e61de64e",
            "0230e7f129cd48b3881ed8323f9c06ae",
            "6d5ba42ba8ff4c498dea36061c723cc7",
            "2aa43f1dd0414d5e82a1e83f1af44943",
            "dc219655805b40fdb3dbe0e6c586b793",
            "a2396bd5182843e6bbc5f3c1f1a084bb",
            "595136c5317348a589ea48a45408eda3"
          ]
        }
      },
      "source": [
        "tpot.fit(X_train, Y_train)"
      ],
      "execution_count": 58,
      "outputs": [
        {
          "output_type": "display_data",
          "data": {
            "application/vnd.jupyter.widget-view+json": {
              "model_id": "1a0034050f114af4974202e7d7502068",
              "version_minor": 0,
              "version_major": 2
            },
            "text/plain": [
              "HBox(children=(FloatProgress(value=0.0, description='Optimization Progress', max=3300.0, style=ProgressStyle(d…"
            ]
          },
          "metadata": {
            "tags": []
          }
        },
        {
          "output_type": "stream",
          "text": [
            "\r\n",
            "Generation 1 - Current best internal CV score: -29.41983414495773\n",
            "\n",
            "Generation 2 - Current best internal CV score: -29.41983414495773\n",
            "\n",
            "Generation 3 - Current best internal CV score: -29.41983414495773\n",
            "\n",
            "Generation 4 - Current best internal CV score: -28.235184773278547\n",
            "\n",
            "Generation 5 - Current best internal CV score: -27.29985941059848\n",
            "\n",
            "Generation 6 - Current best internal CV score: -26.627782404687217\n",
            "\n",
            "Generation 7 - Current best internal CV score: -26.627782404687217\n",
            "\n",
            "Generation 8 - Current best internal CV score: -26.627782404687217\n",
            "\n",
            "Generation 9 - Current best internal CV score: -26.627782404687217\n",
            "\n",
            "Generation 10 - Current best internal CV score: -26.627782404687217\n",
            "\n",
            "Best pipeline: GradientBoostingRegressor(SGDRegressor(input_matrix, alpha=0.001, eta0=1.0, fit_intercept=True, l1_ratio=1.0, learning_rate=constant, loss=epsilon_insensitive, penalty=elasticnet, power_t=0.1), alpha=0.99, learning_rate=0.1, loss=lad, max_depth=6, max_features=1.0, min_samples_leaf=2, min_samples_split=19, n_estimators=100, subsample=0.8)\n"
          ],
          "name": "stdout"
        },
        {
          "output_type": "execute_result",
          "data": {
            "text/plain": [
              "TPOTRegressor(config_dict=None, crossover_rate=0.1, cv=5,\n",
              "              disable_update_check=False, early_stop=None, generations=10,\n",
              "              log_file=None, max_eval_time_mins=5, max_time_mins=None,\n",
              "              memory=None, mutation_rate=0.9, n_jobs=1, offspring_size=None,\n",
              "              periodic_checkpoint_folder=None, population_size=300,\n",
              "              random_state=42, scoring=None, subsample=1.0, template=None,\n",
              "              use_dask=False, verbosity=2, warm_start=False)"
            ]
          },
          "metadata": {
            "tags": []
          },
          "execution_count": 58
        }
      ]
    }
  ]
}